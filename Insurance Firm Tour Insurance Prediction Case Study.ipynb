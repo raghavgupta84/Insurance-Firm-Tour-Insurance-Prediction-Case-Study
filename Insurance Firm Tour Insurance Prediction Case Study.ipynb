{
 "cells": [
  {
   "cell_type": "markdown",
   "metadata": {},
   "source": [
    "# Insurance Firm Tour Insurance Prediction Case Study\n",
    "\n",
    "## Problem Statement:\n",
    "\n",
    "An Insurance firm providing tour insurance is facing higher claim frequency. The management decides to collect data from the past few years. You are assigned the task to make a model which predicts the claim status and provide recommendations to management. Use CART, RF & ANN and compare the models' performances in train and test sets."
   ]
  },
  {
   "cell_type": "markdown",
   "metadata": {},
   "source": [
    "## Data Description:\n",
    "\n",
    "insurance_part2_data-1.csv is a dataset that contains the names of various colleges.\n",
    "\n",
    "## Domain:\n",
    "Insurance (Travel)\n",
    "\n",
    "## Context:\n",
    "An Insurance firm providing tour insurance is facing higher claim frequency. The management decides to collect data from the past few years. You are assigned the task to make a model which predicts the claim status and provide recommendations to management. Use CART, RF & ANN and compare the models' performances in train and test sets.\n",
    "\n",
    "## Attribute Information:\n",
    "\n",
    "1. Target: Claim Status (Claimed)\n",
    "2. Code of tour firm (Agency_Code)\n",
    "3. Type of tour insurance firms (Type)\n",
    "4. Distribution channel of tour insurance agencies (Channel)\n",
    "5. Name of the tour insurance products (Product)\n",
    "6. Duration of the tour (Duration)\n",
    "7. Destination of the tour (Destination)\n",
    "8. Amount of sales of tour insurance policies (Sales)\n",
    "9. The commission received for tour insurance firm (Commission)\n",
    "10. Age of insured (Age)\n"
   ]
  },
  {
   "cell_type": "markdown",
   "metadata": {},
   "source": [
    "# 2.1 Read the data, do the necessary initial steps, and exploratory data analysis (Univariate, Bi-variate, and multivariate analysis)."
   ]
  },
  {
   "cell_type": "markdown",
   "metadata": {},
   "source": [
    "## Read the data into the notebook\n"
   ]
  },
  {
   "cell_type": "code",
   "execution_count": 548,
   "metadata": {},
   "outputs": [],
   "source": [
    "df2= pd.read_csv('insurance_part2_data.csv')"
   ]
  },
  {
   "cell_type": "code",
   "execution_count": 549,
   "metadata": {},
   "outputs": [
    {
     "data": {
      "text/html": [
       "<div>\n",
       "<style scoped>\n",
       "    .dataframe tbody tr th:only-of-type {\n",
       "        vertical-align: middle;\n",
       "    }\n",
       "\n",
       "    .dataframe tbody tr th {\n",
       "        vertical-align: top;\n",
       "    }\n",
       "\n",
       "    .dataframe thead th {\n",
       "        text-align: right;\n",
       "    }\n",
       "</style>\n",
       "<table border=\"1\" class=\"dataframe\">\n",
       "  <thead>\n",
       "    <tr style=\"text-align: right;\">\n",
       "      <th></th>\n",
       "      <th>Age</th>\n",
       "      <th>Agency_Code</th>\n",
       "      <th>Type</th>\n",
       "      <th>Claimed</th>\n",
       "      <th>Commision</th>\n",
       "      <th>Channel</th>\n",
       "      <th>Duration</th>\n",
       "      <th>Sales</th>\n",
       "      <th>Product Name</th>\n",
       "      <th>Destination</th>\n",
       "    </tr>\n",
       "  </thead>\n",
       "  <tbody>\n",
       "    <tr>\n",
       "      <th>0</th>\n",
       "      <td>48</td>\n",
       "      <td>C2B</td>\n",
       "      <td>Airlines</td>\n",
       "      <td>No</td>\n",
       "      <td>0.70</td>\n",
       "      <td>Online</td>\n",
       "      <td>7</td>\n",
       "      <td>2.51</td>\n",
       "      <td>Customised Plan</td>\n",
       "      <td>ASIA</td>\n",
       "    </tr>\n",
       "    <tr>\n",
       "      <th>1</th>\n",
       "      <td>36</td>\n",
       "      <td>EPX</td>\n",
       "      <td>Travel Agency</td>\n",
       "      <td>No</td>\n",
       "      <td>0.00</td>\n",
       "      <td>Online</td>\n",
       "      <td>34</td>\n",
       "      <td>20.00</td>\n",
       "      <td>Customised Plan</td>\n",
       "      <td>ASIA</td>\n",
       "    </tr>\n",
       "    <tr>\n",
       "      <th>2</th>\n",
       "      <td>39</td>\n",
       "      <td>CWT</td>\n",
       "      <td>Travel Agency</td>\n",
       "      <td>No</td>\n",
       "      <td>5.94</td>\n",
       "      <td>Online</td>\n",
       "      <td>3</td>\n",
       "      <td>9.90</td>\n",
       "      <td>Customised Plan</td>\n",
       "      <td>Americas</td>\n",
       "    </tr>\n",
       "    <tr>\n",
       "      <th>3</th>\n",
       "      <td>36</td>\n",
       "      <td>EPX</td>\n",
       "      <td>Travel Agency</td>\n",
       "      <td>No</td>\n",
       "      <td>0.00</td>\n",
       "      <td>Online</td>\n",
       "      <td>4</td>\n",
       "      <td>26.00</td>\n",
       "      <td>Cancellation Plan</td>\n",
       "      <td>ASIA</td>\n",
       "    </tr>\n",
       "    <tr>\n",
       "      <th>4</th>\n",
       "      <td>33</td>\n",
       "      <td>JZI</td>\n",
       "      <td>Airlines</td>\n",
       "      <td>No</td>\n",
       "      <td>6.30</td>\n",
       "      <td>Online</td>\n",
       "      <td>53</td>\n",
       "      <td>18.00</td>\n",
       "      <td>Bronze Plan</td>\n",
       "      <td>ASIA</td>\n",
       "    </tr>\n",
       "  </tbody>\n",
       "</table>\n",
       "</div>"
      ],
      "text/plain": [
       "   Age Agency_Code           Type Claimed  Commision Channel  Duration  Sales  \\\n",
       "0   48         C2B       Airlines      No       0.70  Online         7   2.51   \n",
       "1   36         EPX  Travel Agency      No       0.00  Online        34  20.00   \n",
       "2   39         CWT  Travel Agency      No       5.94  Online         3   9.90   \n",
       "3   36         EPX  Travel Agency      No       0.00  Online         4  26.00   \n",
       "4   33         JZI       Airlines      No       6.30  Online        53  18.00   \n",
       "\n",
       "        Product Name Destination  \n",
       "0    Customised Plan        ASIA  \n",
       "1    Customised Plan        ASIA  \n",
       "2    Customised Plan    Americas  \n",
       "3  Cancellation Plan        ASIA  \n",
       "4        Bronze Plan        ASIA  "
      ]
     },
     "execution_count": 549,
     "metadata": {},
     "output_type": "execute_result"
    }
   ],
   "source": [
    "df2.head()"
   ]
  },
  {
   "cell_type": "code",
   "execution_count": 550,
   "metadata": {},
   "outputs": [
    {
     "data": {
      "text/html": [
       "<div>\n",
       "<style scoped>\n",
       "    .dataframe tbody tr th:only-of-type {\n",
       "        vertical-align: middle;\n",
       "    }\n",
       "\n",
       "    .dataframe tbody tr th {\n",
       "        vertical-align: top;\n",
       "    }\n",
       "\n",
       "    .dataframe thead th {\n",
       "        text-align: right;\n",
       "    }\n",
       "</style>\n",
       "<table border=\"1\" class=\"dataframe\">\n",
       "  <thead>\n",
       "    <tr style=\"text-align: right;\">\n",
       "      <th></th>\n",
       "      <th>Age</th>\n",
       "      <th>Agency_Code</th>\n",
       "      <th>Type</th>\n",
       "      <th>Claimed</th>\n",
       "      <th>Commision</th>\n",
       "      <th>Channel</th>\n",
       "      <th>Duration</th>\n",
       "      <th>Sales</th>\n",
       "      <th>Product Name</th>\n",
       "      <th>Destination</th>\n",
       "    </tr>\n",
       "  </thead>\n",
       "  <tbody>\n",
       "    <tr>\n",
       "      <th>2995</th>\n",
       "      <td>28</td>\n",
       "      <td>CWT</td>\n",
       "      <td>Travel Agency</td>\n",
       "      <td>Yes</td>\n",
       "      <td>166.53</td>\n",
       "      <td>Online</td>\n",
       "      <td>364</td>\n",
       "      <td>256.20</td>\n",
       "      <td>Gold Plan</td>\n",
       "      <td>Americas</td>\n",
       "    </tr>\n",
       "    <tr>\n",
       "      <th>2996</th>\n",
       "      <td>35</td>\n",
       "      <td>C2B</td>\n",
       "      <td>Airlines</td>\n",
       "      <td>No</td>\n",
       "      <td>13.50</td>\n",
       "      <td>Online</td>\n",
       "      <td>5</td>\n",
       "      <td>54.00</td>\n",
       "      <td>Gold Plan</td>\n",
       "      <td>ASIA</td>\n",
       "    </tr>\n",
       "    <tr>\n",
       "      <th>2997</th>\n",
       "      <td>36</td>\n",
       "      <td>EPX</td>\n",
       "      <td>Travel Agency</td>\n",
       "      <td>No</td>\n",
       "      <td>0.00</td>\n",
       "      <td>Online</td>\n",
       "      <td>54</td>\n",
       "      <td>28.00</td>\n",
       "      <td>Customised Plan</td>\n",
       "      <td>ASIA</td>\n",
       "    </tr>\n",
       "    <tr>\n",
       "      <th>2998</th>\n",
       "      <td>34</td>\n",
       "      <td>C2B</td>\n",
       "      <td>Airlines</td>\n",
       "      <td>Yes</td>\n",
       "      <td>7.64</td>\n",
       "      <td>Online</td>\n",
       "      <td>39</td>\n",
       "      <td>30.55</td>\n",
       "      <td>Bronze Plan</td>\n",
       "      <td>ASIA</td>\n",
       "    </tr>\n",
       "    <tr>\n",
       "      <th>2999</th>\n",
       "      <td>47</td>\n",
       "      <td>JZI</td>\n",
       "      <td>Airlines</td>\n",
       "      <td>No</td>\n",
       "      <td>11.55</td>\n",
       "      <td>Online</td>\n",
       "      <td>15</td>\n",
       "      <td>33.00</td>\n",
       "      <td>Bronze Plan</td>\n",
       "      <td>ASIA</td>\n",
       "    </tr>\n",
       "  </tbody>\n",
       "</table>\n",
       "</div>"
      ],
      "text/plain": [
       "      Age Agency_Code           Type Claimed  Commision Channel  Duration  \\\n",
       "2995   28         CWT  Travel Agency     Yes     166.53  Online       364   \n",
       "2996   35         C2B       Airlines      No      13.50  Online         5   \n",
       "2997   36         EPX  Travel Agency      No       0.00  Online        54   \n",
       "2998   34         C2B       Airlines     Yes       7.64  Online        39   \n",
       "2999   47         JZI       Airlines      No      11.55  Online        15   \n",
       "\n",
       "       Sales     Product Name Destination  \n",
       "2995  256.20        Gold Plan    Americas  \n",
       "2996   54.00        Gold Plan        ASIA  \n",
       "2997   28.00  Customised Plan        ASIA  \n",
       "2998   30.55      Bronze Plan        ASIA  \n",
       "2999   33.00      Bronze Plan        ASIA  "
      ]
     },
     "execution_count": 550,
     "metadata": {},
     "output_type": "execute_result"
    }
   ],
   "source": [
    "df2.tail()"
   ]
  },
  {
   "cell_type": "markdown",
   "metadata": {},
   "source": [
    "## Exploratory Data Analysis \n",
    " ## Checking the data types /information\n"
   ]
  },
  {
   "cell_type": "code",
   "execution_count": 551,
   "metadata": {},
   "outputs": [
    {
     "name": "stdout",
     "output_type": "stream",
     "text": [
      "<class 'pandas.core.frame.DataFrame'>\n",
      "RangeIndex: 3000 entries, 0 to 2999\n",
      "Data columns (total 10 columns):\n",
      " #   Column        Non-Null Count  Dtype  \n",
      "---  ------        --------------  -----  \n",
      " 0   Age           3000 non-null   int64  \n",
      " 1   Agency_Code   3000 non-null   object \n",
      " 2   Type          3000 non-null   object \n",
      " 3   Claimed       3000 non-null   object \n",
      " 4   Commision     3000 non-null   float64\n",
      " 5   Channel       3000 non-null   object \n",
      " 6   Duration      3000 non-null   int64  \n",
      " 7   Sales         3000 non-null   float64\n",
      " 8   Product Name  3000 non-null   object \n",
      " 9   Destination   3000 non-null   object \n",
      "dtypes: float64(2), int64(2), object(6)\n",
      "memory usage: 234.5+ KB\n"
     ]
    }
   ],
   "source": [
    "df2.info()"
   ]
  },
  {
   "cell_type": "markdown",
   "metadata": {},
   "source": [
    "- The data set contains 3000 observations of data and 10 attributes. \n",
    "- Data contains integer, float and object type columns.\n",
    "- Since non null count is same in every column variable and is equal to total rows, hence there is no null data in any of these columns"
   ]
  },
  {
   "cell_type": "markdown",
   "metadata": {},
   "source": [
    "## Checking for missing values"
   ]
  },
  {
   "cell_type": "code",
   "execution_count": 552,
   "metadata": {},
   "outputs": [
    {
     "data": {
      "text/html": [
       "<div>\n",
       "<style scoped>\n",
       "    .dataframe tbody tr th:only-of-type {\n",
       "        vertical-align: middle;\n",
       "    }\n",
       "\n",
       "    .dataframe tbody tr th {\n",
       "        vertical-align: top;\n",
       "    }\n",
       "\n",
       "    .dataframe thead th {\n",
       "        text-align: right;\n",
       "    }\n",
       "</style>\n",
       "<table border=\"1\" class=\"dataframe\">\n",
       "  <thead>\n",
       "    <tr style=\"text-align: right;\">\n",
       "      <th></th>\n",
       "      <th>Total</th>\n",
       "      <th>Percent</th>\n",
       "    </tr>\n",
       "  </thead>\n",
       "  <tbody>\n",
       "    <tr>\n",
       "      <th>Age</th>\n",
       "      <td>0</td>\n",
       "      <td>0.0</td>\n",
       "    </tr>\n",
       "    <tr>\n",
       "      <th>Agency_Code</th>\n",
       "      <td>0</td>\n",
       "      <td>0.0</td>\n",
       "    </tr>\n",
       "    <tr>\n",
       "      <th>Type</th>\n",
       "      <td>0</td>\n",
       "      <td>0.0</td>\n",
       "    </tr>\n",
       "    <tr>\n",
       "      <th>Claimed</th>\n",
       "      <td>0</td>\n",
       "      <td>0.0</td>\n",
       "    </tr>\n",
       "    <tr>\n",
       "      <th>Commision</th>\n",
       "      <td>0</td>\n",
       "      <td>0.0</td>\n",
       "    </tr>\n",
       "    <tr>\n",
       "      <th>Channel</th>\n",
       "      <td>0</td>\n",
       "      <td>0.0</td>\n",
       "    </tr>\n",
       "    <tr>\n",
       "      <th>Duration</th>\n",
       "      <td>0</td>\n",
       "      <td>0.0</td>\n",
       "    </tr>\n",
       "    <tr>\n",
       "      <th>Sales</th>\n",
       "      <td>0</td>\n",
       "      <td>0.0</td>\n",
       "    </tr>\n",
       "    <tr>\n",
       "      <th>Product Name</th>\n",
       "      <td>0</td>\n",
       "      <td>0.0</td>\n",
       "    </tr>\n",
       "    <tr>\n",
       "      <th>Destination</th>\n",
       "      <td>0</td>\n",
       "      <td>0.0</td>\n",
       "    </tr>\n",
       "  </tbody>\n",
       "</table>\n",
       "</div>"
      ],
      "text/plain": [
       "              Total  Percent\n",
       "Age               0      0.0\n",
       "Agency_Code       0      0.0\n",
       "Type              0      0.0\n",
       "Claimed           0      0.0\n",
       "Commision         0      0.0\n",
       "Channel           0      0.0\n",
       "Duration          0      0.0\n",
       "Sales             0      0.0\n",
       "Product Name      0      0.0\n",
       "Destination       0      0.0"
      ]
     },
     "execution_count": 552,
     "metadata": {},
     "output_type": "execute_result"
    }
   ],
   "source": [
    "# Check for missing value in any colum\n",
    "# user defined function already defined in problem 1\n",
    "missing_check(df2)"
   ]
  },
  {
   "cell_type": "markdown",
   "metadata": {},
   "source": [
    "We can confirm that there is no NULL value"
   ]
  },
  {
   "cell_type": "markdown",
   "metadata": {},
   "source": [
    "## Checking the shape (Number of rows and columns)"
   ]
  },
  {
   "cell_type": "code",
   "execution_count": 553,
   "metadata": {},
   "outputs": [
    {
     "data": {
      "text/plain": [
       "(3000, 10)"
      ]
     },
     "execution_count": 553,
     "metadata": {},
     "output_type": "execute_result"
    }
   ],
   "source": [
    "df2.shape"
   ]
  },
  {
   "cell_type": "markdown",
   "metadata": {},
   "source": [
    "## Checking for duplicates"
   ]
  },
  {
   "cell_type": "code",
   "execution_count": 554,
   "metadata": {},
   "outputs": [
    {
     "name": "stdout",
     "output_type": "stream",
     "text": [
      "Number of duplicate rows = 139\n"
     ]
    },
    {
     "data": {
      "text/html": [
       "<div>\n",
       "<style scoped>\n",
       "    .dataframe tbody tr th:only-of-type {\n",
       "        vertical-align: middle;\n",
       "    }\n",
       "\n",
       "    .dataframe tbody tr th {\n",
       "        vertical-align: top;\n",
       "    }\n",
       "\n",
       "    .dataframe thead th {\n",
       "        text-align: right;\n",
       "    }\n",
       "</style>\n",
       "<table border=\"1\" class=\"dataframe\">\n",
       "  <thead>\n",
       "    <tr style=\"text-align: right;\">\n",
       "      <th></th>\n",
       "      <th>Age</th>\n",
       "      <th>Agency_Code</th>\n",
       "      <th>Type</th>\n",
       "      <th>Claimed</th>\n",
       "      <th>Commision</th>\n",
       "      <th>Channel</th>\n",
       "      <th>Duration</th>\n",
       "      <th>Sales</th>\n",
       "      <th>Product Name</th>\n",
       "      <th>Destination</th>\n",
       "    </tr>\n",
       "  </thead>\n",
       "  <tbody>\n",
       "    <tr>\n",
       "      <th>63</th>\n",
       "      <td>30</td>\n",
       "      <td>C2B</td>\n",
       "      <td>Airlines</td>\n",
       "      <td>Yes</td>\n",
       "      <td>15.0</td>\n",
       "      <td>Online</td>\n",
       "      <td>27</td>\n",
       "      <td>60.0</td>\n",
       "      <td>Bronze Plan</td>\n",
       "      <td>ASIA</td>\n",
       "    </tr>\n",
       "    <tr>\n",
       "      <th>329</th>\n",
       "      <td>36</td>\n",
       "      <td>EPX</td>\n",
       "      <td>Travel Agency</td>\n",
       "      <td>No</td>\n",
       "      <td>0.0</td>\n",
       "      <td>Online</td>\n",
       "      <td>5</td>\n",
       "      <td>20.0</td>\n",
       "      <td>Customised Plan</td>\n",
       "      <td>ASIA</td>\n",
       "    </tr>\n",
       "    <tr>\n",
       "      <th>407</th>\n",
       "      <td>36</td>\n",
       "      <td>EPX</td>\n",
       "      <td>Travel Agency</td>\n",
       "      <td>No</td>\n",
       "      <td>0.0</td>\n",
       "      <td>Online</td>\n",
       "      <td>11</td>\n",
       "      <td>19.0</td>\n",
       "      <td>Cancellation Plan</td>\n",
       "      <td>ASIA</td>\n",
       "    </tr>\n",
       "    <tr>\n",
       "      <th>411</th>\n",
       "      <td>35</td>\n",
       "      <td>EPX</td>\n",
       "      <td>Travel Agency</td>\n",
       "      <td>No</td>\n",
       "      <td>0.0</td>\n",
       "      <td>Online</td>\n",
       "      <td>2</td>\n",
       "      <td>20.0</td>\n",
       "      <td>Customised Plan</td>\n",
       "      <td>ASIA</td>\n",
       "    </tr>\n",
       "    <tr>\n",
       "      <th>422</th>\n",
       "      <td>36</td>\n",
       "      <td>EPX</td>\n",
       "      <td>Travel Agency</td>\n",
       "      <td>No</td>\n",
       "      <td>0.0</td>\n",
       "      <td>Online</td>\n",
       "      <td>5</td>\n",
       "      <td>20.0</td>\n",
       "      <td>Customised Plan</td>\n",
       "      <td>ASIA</td>\n",
       "    </tr>\n",
       "    <tr>\n",
       "      <th>...</th>\n",
       "      <td>...</td>\n",
       "      <td>...</td>\n",
       "      <td>...</td>\n",
       "      <td>...</td>\n",
       "      <td>...</td>\n",
       "      <td>...</td>\n",
       "      <td>...</td>\n",
       "      <td>...</td>\n",
       "      <td>...</td>\n",
       "      <td>...</td>\n",
       "    </tr>\n",
       "    <tr>\n",
       "      <th>2940</th>\n",
       "      <td>36</td>\n",
       "      <td>EPX</td>\n",
       "      <td>Travel Agency</td>\n",
       "      <td>No</td>\n",
       "      <td>0.0</td>\n",
       "      <td>Online</td>\n",
       "      <td>8</td>\n",
       "      <td>10.0</td>\n",
       "      <td>Cancellation Plan</td>\n",
       "      <td>ASIA</td>\n",
       "    </tr>\n",
       "    <tr>\n",
       "      <th>2947</th>\n",
       "      <td>36</td>\n",
       "      <td>EPX</td>\n",
       "      <td>Travel Agency</td>\n",
       "      <td>No</td>\n",
       "      <td>0.0</td>\n",
       "      <td>Online</td>\n",
       "      <td>10</td>\n",
       "      <td>28.0</td>\n",
       "      <td>Customised Plan</td>\n",
       "      <td>ASIA</td>\n",
       "    </tr>\n",
       "    <tr>\n",
       "      <th>2952</th>\n",
       "      <td>36</td>\n",
       "      <td>EPX</td>\n",
       "      <td>Travel Agency</td>\n",
       "      <td>No</td>\n",
       "      <td>0.0</td>\n",
       "      <td>Online</td>\n",
       "      <td>2</td>\n",
       "      <td>10.0</td>\n",
       "      <td>Cancellation Plan</td>\n",
       "      <td>ASIA</td>\n",
       "    </tr>\n",
       "    <tr>\n",
       "      <th>2962</th>\n",
       "      <td>36</td>\n",
       "      <td>EPX</td>\n",
       "      <td>Travel Agency</td>\n",
       "      <td>No</td>\n",
       "      <td>0.0</td>\n",
       "      <td>Online</td>\n",
       "      <td>4</td>\n",
       "      <td>20.0</td>\n",
       "      <td>Customised Plan</td>\n",
       "      <td>ASIA</td>\n",
       "    </tr>\n",
       "    <tr>\n",
       "      <th>2984</th>\n",
       "      <td>36</td>\n",
       "      <td>EPX</td>\n",
       "      <td>Travel Agency</td>\n",
       "      <td>No</td>\n",
       "      <td>0.0</td>\n",
       "      <td>Online</td>\n",
       "      <td>1</td>\n",
       "      <td>20.0</td>\n",
       "      <td>Customised Plan</td>\n",
       "      <td>ASIA</td>\n",
       "    </tr>\n",
       "  </tbody>\n",
       "</table>\n",
       "<p>139 rows × 10 columns</p>\n",
       "</div>"
      ],
      "text/plain": [
       "      Age Agency_Code           Type Claimed  Commision Channel  Duration  \\\n",
       "63     30         C2B       Airlines     Yes       15.0  Online        27   \n",
       "329    36         EPX  Travel Agency      No        0.0  Online         5   \n",
       "407    36         EPX  Travel Agency      No        0.0  Online        11   \n",
       "411    35         EPX  Travel Agency      No        0.0  Online         2   \n",
       "422    36         EPX  Travel Agency      No        0.0  Online         5   \n",
       "...   ...         ...            ...     ...        ...     ...       ...   \n",
       "2940   36         EPX  Travel Agency      No        0.0  Online         8   \n",
       "2947   36         EPX  Travel Agency      No        0.0  Online        10   \n",
       "2952   36         EPX  Travel Agency      No        0.0  Online         2   \n",
       "2962   36         EPX  Travel Agency      No        0.0  Online         4   \n",
       "2984   36         EPX  Travel Agency      No        0.0  Online         1   \n",
       "\n",
       "      Sales       Product Name Destination  \n",
       "63     60.0        Bronze Plan        ASIA  \n",
       "329    20.0    Customised Plan        ASIA  \n",
       "407    19.0  Cancellation Plan        ASIA  \n",
       "411    20.0    Customised Plan        ASIA  \n",
       "422    20.0    Customised Plan        ASIA  \n",
       "...     ...                ...         ...  \n",
       "2940   10.0  Cancellation Plan        ASIA  \n",
       "2947   28.0    Customised Plan        ASIA  \n",
       "2952   10.0  Cancellation Plan        ASIA  \n",
       "2962   20.0    Customised Plan        ASIA  \n",
       "2984   20.0    Customised Plan        ASIA  \n",
       "\n",
       "[139 rows x 10 columns]"
      ]
     },
     "execution_count": 554,
     "metadata": {},
     "output_type": "execute_result"
    }
   ],
   "source": [
    "# Check for duplicate data\n",
    "\n",
    "dups = df2.duplicated()\n",
    "print('Number of duplicate rows = %d' % (dups.sum()))\n",
    "\n",
    "df2[dups]"
   ]
  },
  {
   "cell_type": "markdown",
   "metadata": {},
   "source": [
    "Total of 1390 duplicates are present in the data. With the data available it appears that same tour operator can give same tour with same plan to same age group people via same channel (say online) which will give same sale and commision to the insurance firm.  More details like dates of travel and Insured person name etc would be required here to find if these are genuinely duplicate. So this doesent appears to be a duplicate data entry problem.\n",
    "\n",
    "Hence at the moment, we are not removing the duplicates here."
   ]
  },
  {
   "cell_type": "markdown",
   "metadata": {},
   "source": [
    "# Univariate Analysis"
   ]
  },
  {
   "cell_type": "markdown",
   "metadata": {},
   "source": [
    "## Checking for summary"
   ]
  },
  {
   "cell_type": "code",
   "execution_count": 555,
   "metadata": {},
   "outputs": [
    {
     "data": {
      "text/html": [
       "<div>\n",
       "<style scoped>\n",
       "    .dataframe tbody tr th:only-of-type {\n",
       "        vertical-align: middle;\n",
       "    }\n",
       "\n",
       "    .dataframe tbody tr th {\n",
       "        vertical-align: top;\n",
       "    }\n",
       "\n",
       "    .dataframe thead th {\n",
       "        text-align: right;\n",
       "    }\n",
       "</style>\n",
       "<table border=\"1\" class=\"dataframe\">\n",
       "  <thead>\n",
       "    <tr style=\"text-align: right;\">\n",
       "      <th></th>\n",
       "      <th>Age</th>\n",
       "      <th>Agency_Code</th>\n",
       "      <th>Type</th>\n",
       "      <th>Claimed</th>\n",
       "      <th>Commision</th>\n",
       "      <th>Channel</th>\n",
       "      <th>Duration</th>\n",
       "      <th>Sales</th>\n",
       "      <th>Product Name</th>\n",
       "      <th>Destination</th>\n",
       "    </tr>\n",
       "  </thead>\n",
       "  <tbody>\n",
       "    <tr>\n",
       "      <th>count</th>\n",
       "      <td>3000.000000</td>\n",
       "      <td>3000</td>\n",
       "      <td>3000</td>\n",
       "      <td>3000</td>\n",
       "      <td>3000.000000</td>\n",
       "      <td>3000</td>\n",
       "      <td>3000.000000</td>\n",
       "      <td>3000.000000</td>\n",
       "      <td>3000</td>\n",
       "      <td>3000</td>\n",
       "    </tr>\n",
       "    <tr>\n",
       "      <th>unique</th>\n",
       "      <td>NaN</td>\n",
       "      <td>4</td>\n",
       "      <td>2</td>\n",
       "      <td>2</td>\n",
       "      <td>NaN</td>\n",
       "      <td>2</td>\n",
       "      <td>NaN</td>\n",
       "      <td>NaN</td>\n",
       "      <td>5</td>\n",
       "      <td>3</td>\n",
       "    </tr>\n",
       "    <tr>\n",
       "      <th>top</th>\n",
       "      <td>NaN</td>\n",
       "      <td>EPX</td>\n",
       "      <td>Travel Agency</td>\n",
       "      <td>No</td>\n",
       "      <td>NaN</td>\n",
       "      <td>Online</td>\n",
       "      <td>NaN</td>\n",
       "      <td>NaN</td>\n",
       "      <td>Customised Plan</td>\n",
       "      <td>ASIA</td>\n",
       "    </tr>\n",
       "    <tr>\n",
       "      <th>freq</th>\n",
       "      <td>NaN</td>\n",
       "      <td>1365</td>\n",
       "      <td>1837</td>\n",
       "      <td>2076</td>\n",
       "      <td>NaN</td>\n",
       "      <td>2954</td>\n",
       "      <td>NaN</td>\n",
       "      <td>NaN</td>\n",
       "      <td>1136</td>\n",
       "      <td>2465</td>\n",
       "    </tr>\n",
       "    <tr>\n",
       "      <th>mean</th>\n",
       "      <td>38.091000</td>\n",
       "      <td>NaN</td>\n",
       "      <td>NaN</td>\n",
       "      <td>NaN</td>\n",
       "      <td>14.529203</td>\n",
       "      <td>NaN</td>\n",
       "      <td>70.001333</td>\n",
       "      <td>60.249913</td>\n",
       "      <td>NaN</td>\n",
       "      <td>NaN</td>\n",
       "    </tr>\n",
       "    <tr>\n",
       "      <th>std</th>\n",
       "      <td>10.463518</td>\n",
       "      <td>NaN</td>\n",
       "      <td>NaN</td>\n",
       "      <td>NaN</td>\n",
       "      <td>25.481455</td>\n",
       "      <td>NaN</td>\n",
       "      <td>134.053313</td>\n",
       "      <td>70.733954</td>\n",
       "      <td>NaN</td>\n",
       "      <td>NaN</td>\n",
       "    </tr>\n",
       "    <tr>\n",
       "      <th>min</th>\n",
       "      <td>8.000000</td>\n",
       "      <td>NaN</td>\n",
       "      <td>NaN</td>\n",
       "      <td>NaN</td>\n",
       "      <td>0.000000</td>\n",
       "      <td>NaN</td>\n",
       "      <td>-1.000000</td>\n",
       "      <td>0.000000</td>\n",
       "      <td>NaN</td>\n",
       "      <td>NaN</td>\n",
       "    </tr>\n",
       "    <tr>\n",
       "      <th>25%</th>\n",
       "      <td>32.000000</td>\n",
       "      <td>NaN</td>\n",
       "      <td>NaN</td>\n",
       "      <td>NaN</td>\n",
       "      <td>0.000000</td>\n",
       "      <td>NaN</td>\n",
       "      <td>11.000000</td>\n",
       "      <td>20.000000</td>\n",
       "      <td>NaN</td>\n",
       "      <td>NaN</td>\n",
       "    </tr>\n",
       "    <tr>\n",
       "      <th>50%</th>\n",
       "      <td>36.000000</td>\n",
       "      <td>NaN</td>\n",
       "      <td>NaN</td>\n",
       "      <td>NaN</td>\n",
       "      <td>4.630000</td>\n",
       "      <td>NaN</td>\n",
       "      <td>26.500000</td>\n",
       "      <td>33.000000</td>\n",
       "      <td>NaN</td>\n",
       "      <td>NaN</td>\n",
       "    </tr>\n",
       "    <tr>\n",
       "      <th>75%</th>\n",
       "      <td>42.000000</td>\n",
       "      <td>NaN</td>\n",
       "      <td>NaN</td>\n",
       "      <td>NaN</td>\n",
       "      <td>17.235000</td>\n",
       "      <td>NaN</td>\n",
       "      <td>63.000000</td>\n",
       "      <td>69.000000</td>\n",
       "      <td>NaN</td>\n",
       "      <td>NaN</td>\n",
       "    </tr>\n",
       "    <tr>\n",
       "      <th>max</th>\n",
       "      <td>84.000000</td>\n",
       "      <td>NaN</td>\n",
       "      <td>NaN</td>\n",
       "      <td>NaN</td>\n",
       "      <td>210.210000</td>\n",
       "      <td>NaN</td>\n",
       "      <td>4580.000000</td>\n",
       "      <td>539.000000</td>\n",
       "      <td>NaN</td>\n",
       "      <td>NaN</td>\n",
       "    </tr>\n",
       "  </tbody>\n",
       "</table>\n",
       "</div>"
      ],
      "text/plain": [
       "                Age Agency_Code           Type Claimed    Commision Channel  \\\n",
       "count   3000.000000        3000           3000    3000  3000.000000    3000   \n",
       "unique          NaN           4              2       2          NaN       2   \n",
       "top             NaN         EPX  Travel Agency      No          NaN  Online   \n",
       "freq            NaN        1365           1837    2076          NaN    2954   \n",
       "mean      38.091000         NaN            NaN     NaN    14.529203     NaN   \n",
       "std       10.463518         NaN            NaN     NaN    25.481455     NaN   \n",
       "min        8.000000         NaN            NaN     NaN     0.000000     NaN   \n",
       "25%       32.000000         NaN            NaN     NaN     0.000000     NaN   \n",
       "50%       36.000000         NaN            NaN     NaN     4.630000     NaN   \n",
       "75%       42.000000         NaN            NaN     NaN    17.235000     NaN   \n",
       "max       84.000000         NaN            NaN     NaN   210.210000     NaN   \n",
       "\n",
       "           Duration        Sales     Product Name Destination  \n",
       "count   3000.000000  3000.000000             3000        3000  \n",
       "unique          NaN          NaN                5           3  \n",
       "top             NaN          NaN  Customised Plan        ASIA  \n",
       "freq            NaN          NaN             1136        2465  \n",
       "mean      70.001333    60.249913              NaN         NaN  \n",
       "std      134.053313    70.733954              NaN         NaN  \n",
       "min       -1.000000     0.000000              NaN         NaN  \n",
       "25%       11.000000    20.000000              NaN         NaN  \n",
       "50%       26.500000    33.000000              NaN         NaN  \n",
       "75%       63.000000    69.000000              NaN         NaN  \n",
       "max     4580.000000   539.000000              NaN         NaN  "
      ]
     },
     "execution_count": 555,
     "metadata": {},
     "output_type": "execute_result"
    }
   ],
   "source": [
    "df2_summ=pd.DataFrame(df2.describe().round(2))\n",
    "df2.describe(include='all')\n"
   ]
  },
  {
   "cell_type": "markdown",
   "metadata": {},
   "source": [
    "From summary, we can see that :-\n",
    "\n",
    "- Channel used in tour is primarily online (98%) as it contains 2954 rows out of 3000 rows.\n",
    "- Around 60% tour insurance firm are 'Travel Agency' type.\n",
    "- Around 37% of tours are customised plan only.\n",
    "- Min value for duration is -1 which is strange as duration cannot be negative.\n",
    "- Max duration value also seems to be very high (4580). This value is extremely high and its causing data to be skewed.\n",
    "- Max age also appears to be high as compared to the other percentile values, so there appears to be outliers in age column too\n",
    "- Max Commission , max sale and max duration for tours seemt be very high as compared to their mean. So there appears to be outliers in this data i.e. for few tours sale, duration and commission amounts are very high as compared to the other tours\n"
   ]
  },
  {
   "cell_type": "markdown",
   "metadata": {},
   "source": [
    "## Checking IQR, Coeffiecient of Variation, IQR, lower range and upper range of numerical cols"
   ]
  },
  {
   "cell_type": "code",
   "execution_count": 556,
   "metadata": {},
   "outputs": [],
   "source": [
    "df2_summ.loc[\"CV\"],df2_summ.loc[\"Skew\"],df2_summ.loc[\"IQR\"],df2_summ.loc[\"UR\"],df2_summ.loc[\"LR\"]= CV_row(df2)"
   ]
  },
  {
   "cell_type": "code",
   "execution_count": 557,
   "metadata": {},
   "outputs": [
    {
     "data": {
      "text/html": [
       "<div>\n",
       "<style scoped>\n",
       "    .dataframe tbody tr th:only-of-type {\n",
       "        vertical-align: middle;\n",
       "    }\n",
       "\n",
       "    .dataframe tbody tr th {\n",
       "        vertical-align: top;\n",
       "    }\n",
       "\n",
       "    .dataframe thead th {\n",
       "        text-align: right;\n",
       "    }\n",
       "</style>\n",
       "<table border=\"1\" class=\"dataframe\">\n",
       "  <thead>\n",
       "    <tr style=\"text-align: right;\">\n",
       "      <th></th>\n",
       "      <th>Age</th>\n",
       "      <th>Commision</th>\n",
       "      <th>Duration</th>\n",
       "      <th>Sales</th>\n",
       "    </tr>\n",
       "  </thead>\n",
       "  <tbody>\n",
       "    <tr>\n",
       "      <th>count</th>\n",
       "      <td>3000.00</td>\n",
       "      <td>3000.00</td>\n",
       "      <td>3000.00</td>\n",
       "      <td>3000.00</td>\n",
       "    </tr>\n",
       "    <tr>\n",
       "      <th>mean</th>\n",
       "      <td>38.09</td>\n",
       "      <td>14.53</td>\n",
       "      <td>70.00</td>\n",
       "      <td>60.25</td>\n",
       "    </tr>\n",
       "    <tr>\n",
       "      <th>std</th>\n",
       "      <td>10.46</td>\n",
       "      <td>25.48</td>\n",
       "      <td>134.05</td>\n",
       "      <td>70.73</td>\n",
       "    </tr>\n",
       "    <tr>\n",
       "      <th>min</th>\n",
       "      <td>8.00</td>\n",
       "      <td>0.00</td>\n",
       "      <td>-1.00</td>\n",
       "      <td>0.00</td>\n",
       "    </tr>\n",
       "    <tr>\n",
       "      <th>25%</th>\n",
       "      <td>32.00</td>\n",
       "      <td>0.00</td>\n",
       "      <td>11.00</td>\n",
       "      <td>20.00</td>\n",
       "    </tr>\n",
       "    <tr>\n",
       "      <th>50%</th>\n",
       "      <td>36.00</td>\n",
       "      <td>4.63</td>\n",
       "      <td>26.50</td>\n",
       "      <td>33.00</td>\n",
       "    </tr>\n",
       "    <tr>\n",
       "      <th>75%</th>\n",
       "      <td>42.00</td>\n",
       "      <td>17.24</td>\n",
       "      <td>63.00</td>\n",
       "      <td>69.00</td>\n",
       "    </tr>\n",
       "    <tr>\n",
       "      <th>max</th>\n",
       "      <td>84.00</td>\n",
       "      <td>210.21</td>\n",
       "      <td>4580.00</td>\n",
       "      <td>539.00</td>\n",
       "    </tr>\n",
       "    <tr>\n",
       "      <th>CV</th>\n",
       "      <td>0.27</td>\n",
       "      <td>1.75</td>\n",
       "      <td>1.91</td>\n",
       "      <td>1.17</td>\n",
       "    </tr>\n",
       "    <tr>\n",
       "      <th>Skew</th>\n",
       "      <td>1.15</td>\n",
       "      <td>3.15</td>\n",
       "      <td>13.78</td>\n",
       "      <td>2.38</td>\n",
       "    </tr>\n",
       "    <tr>\n",
       "      <th>IQR</th>\n",
       "      <td>10.00</td>\n",
       "      <td>17.23</td>\n",
       "      <td>52.00</td>\n",
       "      <td>49.00</td>\n",
       "    </tr>\n",
       "    <tr>\n",
       "      <th>UR</th>\n",
       "      <td>57.00</td>\n",
       "      <td>43.09</td>\n",
       "      <td>141.00</td>\n",
       "      <td>142.50</td>\n",
       "    </tr>\n",
       "    <tr>\n",
       "      <th>LR</th>\n",
       "      <td>17.00</td>\n",
       "      <td>-25.85</td>\n",
       "      <td>-67.00</td>\n",
       "      <td>-53.50</td>\n",
       "    </tr>\n",
       "  </tbody>\n",
       "</table>\n",
       "</div>"
      ],
      "text/plain": [
       "           Age  Commision  Duration    Sales\n",
       "count  3000.00    3000.00   3000.00  3000.00\n",
       "mean     38.09      14.53     70.00    60.25\n",
       "std      10.46      25.48    134.05    70.73\n",
       "min       8.00       0.00     -1.00     0.00\n",
       "25%      32.00       0.00     11.00    20.00\n",
       "50%      36.00       4.63     26.50    33.00\n",
       "75%      42.00      17.24     63.00    69.00\n",
       "max      84.00     210.21   4580.00   539.00\n",
       "CV        0.27       1.75      1.91     1.17\n",
       "Skew      1.15       3.15     13.78     2.38\n",
       "IQR      10.00      17.23     52.00    49.00\n",
       "UR       57.00      43.09    141.00   142.50\n",
       "LR       17.00     -25.85    -67.00   -53.50"
      ]
     },
     "execution_count": 557,
     "metadata": {},
     "output_type": "execute_result"
    }
   ],
   "source": [
    "df2_summ.round(2)"
   ]
  },
  {
   "cell_type": "markdown",
   "metadata": {},
   "source": [
    "As we can see in detail summary that\n",
    "- All columns are positively skewed (right skewed)\n",
    "- Max values are very high as compared to the upper range (UR)"
   ]
  },
  {
   "cell_type": "markdown",
   "metadata": {},
   "source": [
    "## Check for Outliers (Which all variables have an outlier?)"
   ]
  },
  {
   "cell_type": "code",
   "execution_count": 558,
   "metadata": {},
   "outputs": [
    {
     "data": {
      "image/png": "[encoded data removed]",
      "text/plain": [
       "<Figure size 1440x360 with 4 Axes>"
      ]
     },
     "metadata": {
      "needs_background": "light"
     },
     "output_type": "display_data"
    }
   ],
   "source": [
    "# Checking for Outliers\n",
    "numeric_col_names=numeric_datatype_df(df2)\n",
    "no_of_graphs_rows=4\n",
    "rows=calc_rows(numeric_col_names, no_of_graphs_rows)\n",
    "    \n",
    "plt.figure(figsize= (20,5))\n",
    "box_plot_no=1\n",
    "for col in df2.columns :\n",
    "#    if (col in numeric_col_names):\n",
    "    if (df2[col].dtype == 'int64') | (df2[col].dtype == 'float64'):\n",
    "        box_plot_title = \"Box plot of \" + col\n",
    "        plt.subplot(rows,no_of_graphs_rows,box_plot_no)\n",
    "        sns.boxplot(x= col,data =df2 ,color='green').set(title =box_plot_title)\n",
    "        box_plot_no = box_plot_no + 1 \n"
   ]
  },
  {
   "cell_type": "markdown",
   "metadata": {},
   "source": [
    "We can confirm visually from box plots that there are outliers in all the four numeric columns."
   ]
  },
  {
   "cell_type": "markdown",
   "metadata": {},
   "source": [
    "## Plot the Histograms"
   ]
  },
  {
   "cell_type": "code",
   "execution_count": 559,
   "metadata": {},
   "outputs": [
    {
     "data": {
      "image/png": "[encoded data removed]",
      "text/plain": [
       "<Figure size 1440x360 with 4 Axes>"
      ]
     },
     "metadata": {
      "needs_background": "light"
     },
     "output_type": "display_data"
    }
   ],
   "source": [
    "#Plots to see the distribution of the continuous features individually\n",
    "plt.figure(figsize= (20,5*rows))\n",
    "distplot_no=1\n",
    "for col in df2.columns :\n",
    "    if (col in numeric_col_names):\n",
    "        distplot_title = col\n",
    "        plt.subplot(rows,no_of_graphs_rows,distplot_no)\n",
    "        sns.histplot(df2[col] ,color='green').set(title =distplot_title)\n",
    "        distplot_no = distplot_no + 1 \n"
   ]
  },
  {
   "cell_type": "markdown",
   "metadata": {},
   "source": [
    "From histograms we can see that \n",
    " - Frequency of the records is too high for few values which is causing spikes in all the 4 histograms.\n",
    " - For Age more than 1000 records (33%) are of age near about 35-40. It means 33% of the travellers are in age group 35-40.\n",
    " - For commission around 1400 records (around  45%) have commission as 0. It means for almost 50% of tours no commission is earnred.\n",
    " - Sale of tour insurance company is low for majority of the tours.\n",
    " - In duration some values are extremely high which is causing x axis scale to be on higher side.\n"
   ]
  },
  {
   "cell_type": "markdown",
   "metadata": {},
   "source": [
    "### Analysing Duration for negative records"
   ]
  },
  {
   "cell_type": "code",
   "execution_count": 560,
   "metadata": {},
   "outputs": [
    {
     "data": {
      "text/html": [
       "<div>\n",
       "<style scoped>\n",
       "    .dataframe tbody tr th:only-of-type {\n",
       "        vertical-align: middle;\n",
       "    }\n",
       "\n",
       "    .dataframe tbody tr th {\n",
       "        vertical-align: top;\n",
       "    }\n",
       "\n",
       "    .dataframe thead th {\n",
       "        text-align: right;\n",
       "    }\n",
       "</style>\n",
       "<table border=\"1\" class=\"dataframe\">\n",
       "  <thead>\n",
       "    <tr style=\"text-align: right;\">\n",
       "      <th></th>\n",
       "      <th>Age</th>\n",
       "      <th>Agency_Code</th>\n",
       "      <th>Type</th>\n",
       "      <th>Claimed</th>\n",
       "      <th>Commision</th>\n",
       "      <th>Channel</th>\n",
       "      <th>Duration</th>\n",
       "      <th>Sales</th>\n",
       "      <th>Product Name</th>\n",
       "      <th>Destination</th>\n",
       "    </tr>\n",
       "  </thead>\n",
       "  <tbody>\n",
       "    <tr>\n",
       "      <th>1508</th>\n",
       "      <td>25</td>\n",
       "      <td>JZI</td>\n",
       "      <td>Airlines</td>\n",
       "      <td>No</td>\n",
       "      <td>6.30</td>\n",
       "      <td>Online</td>\n",
       "      <td>-1</td>\n",
       "      <td>18.00</td>\n",
       "      <td>Bronze Plan</td>\n",
       "      <td>ASIA</td>\n",
       "    </tr>\n",
       "    <tr>\n",
       "      <th>1746</th>\n",
       "      <td>48</td>\n",
       "      <td>C2B</td>\n",
       "      <td>Airlines</td>\n",
       "      <td>No</td>\n",
       "      <td>0.14</td>\n",
       "      <td>Online</td>\n",
       "      <td>0</td>\n",
       "      <td>0.51</td>\n",
       "      <td>Customised Plan</td>\n",
       "      <td>ASIA</td>\n",
       "    </tr>\n",
       "    <tr>\n",
       "      <th>2628</th>\n",
       "      <td>37</td>\n",
       "      <td>C2B</td>\n",
       "      <td>Airlines</td>\n",
       "      <td>No</td>\n",
       "      <td>49.60</td>\n",
       "      <td>Online</td>\n",
       "      <td>0</td>\n",
       "      <td>124.00</td>\n",
       "      <td>Bronze Plan</td>\n",
       "      <td>ASIA</td>\n",
       "    </tr>\n",
       "  </tbody>\n",
       "</table>\n",
       "</div>"
      ],
      "text/plain": [
       "      Age Agency_Code      Type Claimed  Commision Channel  Duration   Sales  \\\n",
       "1508   25         JZI  Airlines      No       6.30  Online        -1   18.00   \n",
       "1746   48         C2B  Airlines      No       0.14  Online         0    0.51   \n",
       "2628   37         C2B  Airlines      No      49.60  Online         0  124.00   \n",
       "\n",
       "         Product Name Destination  \n",
       "1508      Bronze Plan        ASIA  \n",
       "1746  Customised Plan        ASIA  \n",
       "2628      Bronze Plan        ASIA  "
      ]
     },
     "execution_count": 560,
     "metadata": {},
     "output_type": "execute_result"
    }
   ],
   "source": [
    "df2[df2[\"Duration\"]<=0]"
   ]
  },
  {
   "cell_type": "markdown",
   "metadata": {},
   "source": [
    "There seems to be some issues with duration here, as all other values commission , sales, destination seems to contain data but duration of tour is 0 and negative for one row. These seems to be incorrect.\n",
    "We need to ask business for more clarification of these records.\n",
    "As of now we are imputing duration with 0 for this record."
   ]
  },
  {
   "cell_type": "code",
   "execution_count": 561,
   "metadata": {},
   "outputs": [],
   "source": [
    "# replacing 0 with 3 in cluster so as to compare agglo and Fcluster ouput\n",
    "df2.Duration = df2.Duration.replace(to_replace = -1, value =0)"
   ]
  },
  {
   "cell_type": "code",
   "execution_count": 562,
   "metadata": {},
   "outputs": [
    {
     "data": {
      "text/html": [
       "<div>\n",
       "<style scoped>\n",
       "    .dataframe tbody tr th:only-of-type {\n",
       "        vertical-align: middle;\n",
       "    }\n",
       "\n",
       "    .dataframe tbody tr th {\n",
       "        vertical-align: top;\n",
       "    }\n",
       "\n",
       "    .dataframe thead th {\n",
       "        text-align: right;\n",
       "    }\n",
       "</style>\n",
       "<table border=\"1\" class=\"dataframe\">\n",
       "  <thead>\n",
       "    <tr style=\"text-align: right;\">\n",
       "      <th></th>\n",
       "      <th>Age</th>\n",
       "      <th>Agency_Code</th>\n",
       "      <th>Type</th>\n",
       "      <th>Claimed</th>\n",
       "      <th>Commision</th>\n",
       "      <th>Channel</th>\n",
       "      <th>Duration</th>\n",
       "      <th>Sales</th>\n",
       "      <th>Product Name</th>\n",
       "      <th>Destination</th>\n",
       "    </tr>\n",
       "  </thead>\n",
       "  <tbody>\n",
       "    <tr>\n",
       "      <th>1508</th>\n",
       "      <td>25</td>\n",
       "      <td>JZI</td>\n",
       "      <td>Airlines</td>\n",
       "      <td>No</td>\n",
       "      <td>6.30</td>\n",
       "      <td>Online</td>\n",
       "      <td>0</td>\n",
       "      <td>18.00</td>\n",
       "      <td>Bronze Plan</td>\n",
       "      <td>ASIA</td>\n",
       "    </tr>\n",
       "    <tr>\n",
       "      <th>1746</th>\n",
       "      <td>48</td>\n",
       "      <td>C2B</td>\n",
       "      <td>Airlines</td>\n",
       "      <td>No</td>\n",
       "      <td>0.14</td>\n",
       "      <td>Online</td>\n",
       "      <td>0</td>\n",
       "      <td>0.51</td>\n",
       "      <td>Customised Plan</td>\n",
       "      <td>ASIA</td>\n",
       "    </tr>\n",
       "    <tr>\n",
       "      <th>2628</th>\n",
       "      <td>37</td>\n",
       "      <td>C2B</td>\n",
       "      <td>Airlines</td>\n",
       "      <td>No</td>\n",
       "      <td>49.60</td>\n",
       "      <td>Online</td>\n",
       "      <td>0</td>\n",
       "      <td>124.00</td>\n",
       "      <td>Bronze Plan</td>\n",
       "      <td>ASIA</td>\n",
       "    </tr>\n",
       "  </tbody>\n",
       "</table>\n",
       "</div>"
      ],
      "text/plain": [
       "      Age Agency_Code      Type Claimed  Commision Channel  Duration   Sales  \\\n",
       "1508   25         JZI  Airlines      No       6.30  Online         0   18.00   \n",
       "1746   48         C2B  Airlines      No       0.14  Online         0    0.51   \n",
       "2628   37         C2B  Airlines      No      49.60  Online         0  124.00   \n",
       "\n",
       "         Product Name Destination  \n",
       "1508      Bronze Plan        ASIA  \n",
       "1746  Customised Plan        ASIA  \n",
       "2628      Bronze Plan        ASIA  "
      ]
     },
     "execution_count": 562,
     "metadata": {},
     "output_type": "execute_result"
    }
   ],
   "source": [
    "df2[df2[\"Duration\"]<=0]"
   ]
  },
  {
   "cell_type": "code",
   "execution_count": 563,
   "metadata": {},
   "outputs": [
    {
     "data": {
      "text/html": [
       "<div>\n",
       "<style scoped>\n",
       "    .dataframe tbody tr th:only-of-type {\n",
       "        vertical-align: middle;\n",
       "    }\n",
       "\n",
       "    .dataframe tbody tr th {\n",
       "        vertical-align: top;\n",
       "    }\n",
       "\n",
       "    .dataframe thead th {\n",
       "        text-align: right;\n",
       "    }\n",
       "</style>\n",
       "<table border=\"1\" class=\"dataframe\">\n",
       "  <thead>\n",
       "    <tr style=\"text-align: right;\">\n",
       "      <th></th>\n",
       "      <th>Age</th>\n",
       "      <th>Agency_Code</th>\n",
       "      <th>Type</th>\n",
       "      <th>Claimed</th>\n",
       "      <th>Commision</th>\n",
       "      <th>Channel</th>\n",
       "      <th>Duration</th>\n",
       "      <th>Sales</th>\n",
       "      <th>Product Name</th>\n",
       "      <th>Destination</th>\n",
       "    </tr>\n",
       "  </thead>\n",
       "  <tbody>\n",
       "    <tr>\n",
       "      <th>283</th>\n",
       "      <td>27</td>\n",
       "      <td>C2B</td>\n",
       "      <td>Airlines</td>\n",
       "      <td>Yes</td>\n",
       "      <td>54.00</td>\n",
       "      <td>Online</td>\n",
       "      <td>401</td>\n",
       "      <td>216.00</td>\n",
       "      <td>Silver Plan</td>\n",
       "      <td>ASIA</td>\n",
       "    </tr>\n",
       "    <tr>\n",
       "      <th>642</th>\n",
       "      <td>31</td>\n",
       "      <td>CWT</td>\n",
       "      <td>Travel Agency</td>\n",
       "      <td>No</td>\n",
       "      <td>0.00</td>\n",
       "      <td>Offline</td>\n",
       "      <td>402</td>\n",
       "      <td>97.00</td>\n",
       "      <td>Customised Plan</td>\n",
       "      <td>ASIA</td>\n",
       "    </tr>\n",
       "    <tr>\n",
       "      <th>873</th>\n",
       "      <td>31</td>\n",
       "      <td>C2B</td>\n",
       "      <td>Airlines</td>\n",
       "      <td>No</td>\n",
       "      <td>46.96</td>\n",
       "      <td>Online</td>\n",
       "      <td>428</td>\n",
       "      <td>187.85</td>\n",
       "      <td>Silver Plan</td>\n",
       "      <td>ASIA</td>\n",
       "    </tr>\n",
       "    <tr>\n",
       "      <th>1398</th>\n",
       "      <td>34</td>\n",
       "      <td>C2B</td>\n",
       "      <td>Airlines</td>\n",
       "      <td>Yes</td>\n",
       "      <td>68.08</td>\n",
       "      <td>Online</td>\n",
       "      <td>431</td>\n",
       "      <td>272.30</td>\n",
       "      <td>Silver Plan</td>\n",
       "      <td>ASIA</td>\n",
       "    </tr>\n",
       "    <tr>\n",
       "      <th>1898</th>\n",
       "      <td>28</td>\n",
       "      <td>C2B</td>\n",
       "      <td>Airlines</td>\n",
       "      <td>No</td>\n",
       "      <td>63.21</td>\n",
       "      <td>Online</td>\n",
       "      <td>401</td>\n",
       "      <td>252.85</td>\n",
       "      <td>Silver Plan</td>\n",
       "      <td>ASIA</td>\n",
       "    </tr>\n",
       "    <tr>\n",
       "      <th>2063</th>\n",
       "      <td>31</td>\n",
       "      <td>C2B</td>\n",
       "      <td>Airlines</td>\n",
       "      <td>Yes</td>\n",
       "      <td>63.21</td>\n",
       "      <td>Online</td>\n",
       "      <td>413</td>\n",
       "      <td>252.85</td>\n",
       "      <td>Silver Plan</td>\n",
       "      <td>ASIA</td>\n",
       "    </tr>\n",
       "    <tr>\n",
       "      <th>2260</th>\n",
       "      <td>42</td>\n",
       "      <td>CWT</td>\n",
       "      <td>Travel Agency</td>\n",
       "      <td>No</td>\n",
       "      <td>132.99</td>\n",
       "      <td>Online</td>\n",
       "      <td>434</td>\n",
       "      <td>204.60</td>\n",
       "      <td>Gold Plan</td>\n",
       "      <td>ASIA</td>\n",
       "    </tr>\n",
       "    <tr>\n",
       "      <th>2285</th>\n",
       "      <td>34</td>\n",
       "      <td>CWT</td>\n",
       "      <td>Travel Agency</td>\n",
       "      <td>No</td>\n",
       "      <td>166.53</td>\n",
       "      <td>Online</td>\n",
       "      <td>421</td>\n",
       "      <td>256.20</td>\n",
       "      <td>Gold Plan</td>\n",
       "      <td>Americas</td>\n",
       "    </tr>\n",
       "    <tr>\n",
       "      <th>2466</th>\n",
       "      <td>30</td>\n",
       "      <td>CWT</td>\n",
       "      <td>Travel Agency</td>\n",
       "      <td>Yes</td>\n",
       "      <td>210.21</td>\n",
       "      <td>Online</td>\n",
       "      <td>417</td>\n",
       "      <td>323.40</td>\n",
       "      <td>Gold Plan</td>\n",
       "      <td>Americas</td>\n",
       "    </tr>\n",
       "    <tr>\n",
       "      <th>2813</th>\n",
       "      <td>44</td>\n",
       "      <td>C2B</td>\n",
       "      <td>Airlines</td>\n",
       "      <td>Yes</td>\n",
       "      <td>63.21</td>\n",
       "      <td>Online</td>\n",
       "      <td>419</td>\n",
       "      <td>252.85</td>\n",
       "      <td>Silver Plan</td>\n",
       "      <td>ASIA</td>\n",
       "    </tr>\n",
       "    <tr>\n",
       "      <th>2845</th>\n",
       "      <td>48</td>\n",
       "      <td>C2B</td>\n",
       "      <td>Airlines</td>\n",
       "      <td>No</td>\n",
       "      <td>0.09</td>\n",
       "      <td>Online</td>\n",
       "      <td>4580</td>\n",
       "      <td>0.32</td>\n",
       "      <td>Customised Plan</td>\n",
       "      <td>ASIA</td>\n",
       "    </tr>\n",
       "    <tr>\n",
       "      <th>2914</th>\n",
       "      <td>64</td>\n",
       "      <td>CWT</td>\n",
       "      <td>Travel Agency</td>\n",
       "      <td>No</td>\n",
       "      <td>90.09</td>\n",
       "      <td>Online</td>\n",
       "      <td>466</td>\n",
       "      <td>138.60</td>\n",
       "      <td>Silver Plan</td>\n",
       "      <td>ASIA</td>\n",
       "    </tr>\n",
       "    <tr>\n",
       "      <th>2994</th>\n",
       "      <td>27</td>\n",
       "      <td>C2B</td>\n",
       "      <td>Airlines</td>\n",
       "      <td>Yes</td>\n",
       "      <td>71.85</td>\n",
       "      <td>Online</td>\n",
       "      <td>416</td>\n",
       "      <td>287.40</td>\n",
       "      <td>Gold Plan</td>\n",
       "      <td>ASIA</td>\n",
       "    </tr>\n",
       "  </tbody>\n",
       "</table>\n",
       "</div>"
      ],
      "text/plain": [
       "      Age Agency_Code           Type Claimed  Commision  Channel  Duration  \\\n",
       "283    27         C2B       Airlines     Yes      54.00   Online       401   \n",
       "642    31         CWT  Travel Agency      No       0.00  Offline       402   \n",
       "873    31         C2B       Airlines      No      46.96   Online       428   \n",
       "1398   34         C2B       Airlines     Yes      68.08   Online       431   \n",
       "1898   28         C2B       Airlines      No      63.21   Online       401   \n",
       "2063   31         C2B       Airlines     Yes      63.21   Online       413   \n",
       "2260   42         CWT  Travel Agency      No     132.99   Online       434   \n",
       "2285   34         CWT  Travel Agency      No     166.53   Online       421   \n",
       "2466   30         CWT  Travel Agency     Yes     210.21   Online       417   \n",
       "2813   44         C2B       Airlines     Yes      63.21   Online       419   \n",
       "2845   48         C2B       Airlines      No       0.09   Online      4580   \n",
       "2914   64         CWT  Travel Agency      No      90.09   Online       466   \n",
       "2994   27         C2B       Airlines     Yes      71.85   Online       416   \n",
       "\n",
       "       Sales     Product Name Destination  \n",
       "283   216.00      Silver Plan        ASIA  \n",
       "642    97.00  Customised Plan        ASIA  \n",
       "873   187.85      Silver Plan        ASIA  \n",
       "1398  272.30      Silver Plan        ASIA  \n",
       "1898  252.85      Silver Plan        ASIA  \n",
       "2063  252.85      Silver Plan        ASIA  \n",
       "2260  204.60        Gold Plan        ASIA  \n",
       "2285  256.20        Gold Plan    Americas  \n",
       "2466  323.40        Gold Plan    Americas  \n",
       "2813  252.85      Silver Plan        ASIA  \n",
       "2845    0.32  Customised Plan        ASIA  \n",
       "2914  138.60      Silver Plan        ASIA  \n",
       "2994  287.40        Gold Plan        ASIA  "
      ]
     },
     "execution_count": 563,
     "metadata": {},
     "output_type": "execute_result"
    }
   ],
   "source": [
    "df2[df2[\"Duration\"]>400]"
   ]
  },
  {
   "cell_type": "markdown",
   "metadata": {},
   "source": [
    "As seen in the above data, out of 3000 rows only 1 row contins 4580 as duration which seems to be very high.\n",
    "With such high value in duration , Sales and comission values are very less in contrast which again points that there is some problem in this figure\n",
    "\n",
    "As of now we are imputing this value with the next highest value near about 466. It also appears that there could be 0 added accidently in this duration figure in this row. Hence we are imputing it with 458."
   ]
  },
  {
   "cell_type": "code",
   "execution_count": 564,
   "metadata": {},
   "outputs": [],
   "source": [
    "df2.Duration = df2.Duration.replace(to_replace = 4580, value =458)"
   ]
  },
  {
   "cell_type": "code",
   "execution_count": 565,
   "metadata": {},
   "outputs": [
    {
     "data": {
      "text/plain": [
       "[Text(0.5, 1.0, 'Histogram of Duration')]"
      ]
     },
     "execution_count": 565,
     "metadata": {},
     "output_type": "execute_result"
    },
    {
     "data": {
      "image/png": "[encoded data removed]",
      "text/plain": [
       "<Figure size 432x288 with 1 Axes>"
      ]
     },
     "metadata": {
      "needs_background": "light"
     },
     "output_type": "display_data"
    }
   ],
   "source": [
    "sns.histplot(df2.Duration ,color='green').set(title =\"Histogram of Duration\")"
   ]
  },
  {
   "cell_type": "markdown",
   "metadata": {},
   "source": [
    "Now Duration histogram appears in better shape and we can see that most of the tours conducted are for less than 100 duration. Few tours are in range of 350-400. These appear be full year packages."
   ]
  },
  {
   "cell_type": "markdown",
   "metadata": {},
   "source": [
    "## Checking value count of categorical variables"
   ]
  },
  {
   "cell_type": "code",
   "execution_count": 566,
   "metadata": {},
   "outputs": [
    {
     "data": {
      "text/plain": [
       "Travel Agency    61.23\n",
       "Airlines         38.77\n",
       "Name: Type, dtype: float64"
      ]
     },
     "execution_count": 566,
     "metadata": {},
     "output_type": "execute_result"
    }
   ],
   "source": [
    "df2.Type.value_counts(normalize=True).round(4)*100"
   ]
  },
  {
   "cell_type": "markdown",
   "metadata": {},
   "source": [
    "Around 60% of tours are of type Travel Agency and remaining 40% from Airlines"
   ]
  },
  {
   "cell_type": "code",
   "execution_count": 567,
   "metadata": {},
   "outputs": [
    {
     "data": {
      "text/plain": [
       "EPX    45.50\n",
       "C2B    30.80\n",
       "CWT    15.73\n",
       "JZI     7.97\n",
       "Name: Agency_Code, dtype: float64"
      ]
     },
     "execution_count": 567,
     "metadata": {},
     "output_type": "execute_result"
    }
   ],
   "source": [
    "df2.Agency_Code.value_counts(normalize=True).round(4)*100"
   ]
  },
  {
   "cell_type": "markdown",
   "metadata": {},
   "source": [
    "4 agencies are used in which EPX has the highest 45% of data"
   ]
  },
  {
   "cell_type": "code",
   "execution_count": 568,
   "metadata": {},
   "outputs": [
    {
     "data": {
      "text/plain": [
       "Online     98.47\n",
       "Offline     1.53\n",
       "Name: Channel, dtype: float64"
      ]
     },
     "execution_count": 568,
     "metadata": {},
     "output_type": "execute_result"
    }
   ],
   "source": [
    "df2.Channel.value_counts(normalize=True).round(4)*100"
   ]
  },
  {
   "cell_type": "markdown",
   "metadata": {},
   "source": [
    "Only 1% of tours come via channel \"Offline\" i.e. all the tours come via online channel"
   ]
  },
  {
   "cell_type": "code",
   "execution_count": 569,
   "metadata": {},
   "outputs": [
    {
     "data": {
      "text/plain": [
       "Customised Plan      37.87\n",
       "Cancellation Plan    22.60\n",
       "Bronze Plan          21.67\n",
       "Silver Plan          14.23\n",
       "Gold Plan             3.63\n",
       "Name: Product Name, dtype: float64"
      ]
     },
     "execution_count": 569,
     "metadata": {},
     "output_type": "execute_result"
    }
   ],
   "source": [
    "df2[\"Product Name\"].value_counts(normalize=True).round(4)*100"
   ]
  },
  {
   "cell_type": "markdown",
   "metadata": {},
   "source": [
    "5 products are used here in which customised plan is the highest with 38% data"
   ]
  },
  {
   "cell_type": "code",
   "execution_count": 570,
   "metadata": {},
   "outputs": [
    {
     "data": {
      "text/plain": [
       "ASIA        82.17\n",
       "Americas    10.67\n",
       "EUROPE       7.17\n",
       "Name: Destination, dtype: float64"
      ]
     },
     "execution_count": 570,
     "metadata": {},
     "output_type": "execute_result"
    }
   ],
   "source": [
    "df2[\"Destination\"].value_counts(normalize=True).round(4)*100"
   ]
  },
  {
   "cell_type": "markdown",
   "metadata": {},
   "source": [
    "For majority of the tours, Destination is Asia (82%) followed by America (11%) and Europe (7%)"
   ]
  },
  {
   "cell_type": "markdown",
   "metadata": {},
   "source": [
    "## Checking value count of Target variable"
   ]
  },
  {
   "cell_type": "code",
   "execution_count": 571,
   "metadata": {},
   "outputs": [
    {
     "data": {
      "text/plain": [
       "No     69.2\n",
       "Yes    30.8\n",
       "Name: Claimed, dtype: float64"
      ]
     },
     "execution_count": 571,
     "metadata": {},
     "output_type": "execute_result"
    }
   ],
   "source": [
    "df2[\"Claimed\"].value_counts(normalize=True).round(4)*100"
   ]
  },
  {
   "cell_type": "markdown",
   "metadata": {},
   "source": [
    "Around 70% of tours have not claimed from insurance while 30% have claimed from the insurance. This target variable appears to be slighly imbalanced"
   ]
  },
  {
   "cell_type": "markdown",
   "metadata": {},
   "source": [
    "# Bi-variate, and multivariate analysis"
   ]
  },
  {
   "cell_type": "markdown",
   "metadata": {},
   "source": [
    "### Catplot"
   ]
  },
  {
   "cell_type": "code",
   "execution_count": 572,
   "metadata": {},
   "outputs": [
    {
     "data": {
      "text/plain": [
       "<Figure size 1440x360 with 0 Axes>"
      ]
     },
     "metadata": {},
     "output_type": "display_data"
    },
    {
     "data": {
      "image/png": "[encoded data removed]",
      "text/plain": [
       "<Figure size 986.5x432 with 3 Axes>"
      ]
     },
     "metadata": {
      "needs_background": "light"
     },
     "output_type": "display_data"
    }
   ],
   "source": [
    "plt.figure(figsize=(20,5))\n",
    "\n",
    "g=sns.catplot( hue=\"Product Name\",\n",
    "               y=\"Sales\",\n",
    "               x=\"Agency_Code\", \n",
    "               col=\"Destination\", \n",
    "               data=df2, ci=False,\n",
    "               col_wrap=4,estimator=sum,\n",
    "            height=6, aspect=0.5,\n",
    "               kind=\"bar\");"
   ]
  },
  {
   "cell_type": "markdown",
   "metadata": {},
   "source": [
    "We can see observe from above graph that :-\n",
    "   - Agency Code 'C2B' is working for ASIA geography only. It has no sale for Ameria and Europe\n",
    "   - Agency code 'EPX','CWT',  and 'JZI' are getting sales in all three geographies. \n",
    "   - Agency code 'JZI' sales figures are low compared to other agencies.    "
   ]
  },
  {
   "cell_type": "code",
   "execution_count": 573,
   "metadata": {},
   "outputs": [
    {
     "data": {
      "text/plain": [
       "<Figure size 720x360 with 0 Axes>"
      ]
     },
     "metadata": {},
     "output_type": "display_data"
    },
    {
     "data": {
      "image/png": "[encoded data removed]",
      "text/plain": [
       "<Figure size 640.9x432 with 2 Axes>"
      ]
     },
     "metadata": {
      "needs_background": "light"
     },
     "output_type": "display_data"
    }
   ],
   "source": [
    "plt.figure(figsize=(10,5))\n",
    "\n",
    "g=sns.catplot( hue=\"Product Name\",\n",
    "               #y=\"Sales\",\n",
    "               x=\"Destination\", \n",
    "               col=\"Claimed\", \n",
    "               data=df2, \n",
    "               col_wrap=3,\n",
    "            height=6, aspect=0.4,\n",
    "               kind=\"count\");"
   ]
  },
  {
   "cell_type": "code",
   "execution_count": 574,
   "metadata": {},
   "outputs": [
    {
     "data": {
      "text/plain": [
       "<Figure size 1440x720 with 0 Axes>"
      ]
     },
     "metadata": {},
     "output_type": "display_data"
    },
    {
     "data": {
      "image/png": "[encoded data removed]",
      "text/plain": [
       "<Figure size 770.5x360 with 3 Axes>"
      ]
     },
     "metadata": {
      "needs_background": "light"
     },
     "output_type": "display_data"
    }
   ],
   "source": [
    "plt.figure(figsize=(20,10))\n",
    "\n",
    "g=sns.catplot( hue=\"Product Name\",\n",
    "               #y=\"Sales\",\n",
    "               x=\"Claimed\", \n",
    "               col=\"Destination\", \n",
    "               data=df2, \n",
    "               col_wrap=3,\n",
    "            height=5, aspect=0.6,\n",
    "               kind=\"count\");"
   ]
  },
  {
   "cell_type": "markdown",
   "metadata": {},
   "source": [
    " Customised plan contains 38% of the total data. Still we can see that under Asia geogrpahy, Bronze and Silver plan have taken more claim from insurance as compared to Customised Plan."
   ]
  },
  {
   "cell_type": "code",
   "execution_count": 575,
   "metadata": {},
   "outputs": [
    {
     "data": {
      "text/plain": [
       "<Figure size 1440x720 with 0 Axes>"
      ]
     },
     "metadata": {},
     "output_type": "display_data"
    },
    {
     "data": {
      "image/png": "[encoded data removed]",
      "text/plain": [
       "<Figure size 723.5x360 with 3 Axes>"
      ]
     },
     "metadata": {
      "needs_background": "light"
     },
     "output_type": "display_data"
    }
   ],
   "source": [
    "plt.figure(figsize=(20,10))\n",
    "\n",
    "g=sns.catplot( hue=\"Agency_Code\",\n",
    "               #y=\"Sales\",\n",
    "               x=\"Claimed\", \n",
    "               col=\"Destination\", \n",
    "               data=df2, \n",
    "               col_wrap=3,\n",
    "            height=5, aspect=0.6,\n",
    "               kind=\"count\");"
   ]
  },
  {
   "cell_type": "markdown",
   "metadata": {},
   "source": [
    "We can see that 'C2B' agency workining under ASIA demography is claiming more i.e around 580 claims and 380 no claims. It means 60% of its tour are getting claimed.\n",
    "\n",
    "Lets create crosstab table for checking the exact stats agency wise"
   ]
  },
  {
   "cell_type": "code",
   "execution_count": 576,
   "metadata": {},
   "outputs": [
    {
     "data": {
      "text/html": [
       "<div>\n",
       "<style scoped>\n",
       "    .dataframe tbody tr th:only-of-type {\n",
       "        vertical-align: middle;\n",
       "    }\n",
       "\n",
       "    .dataframe tbody tr th {\n",
       "        vertical-align: top;\n",
       "    }\n",
       "\n",
       "    .dataframe thead th {\n",
       "        text-align: right;\n",
       "    }\n",
       "</style>\n",
       "<table border=\"1\" class=\"dataframe\">\n",
       "  <thead>\n",
       "    <tr style=\"text-align: right;\">\n",
       "      <th>Claimed</th>\n",
       "      <th>No</th>\n",
       "      <th>Yes</th>\n",
       "      <th>All</th>\n",
       "      <th>Claim_percentage</th>\n",
       "    </tr>\n",
       "    <tr>\n",
       "      <th>Agency_Code</th>\n",
       "      <th></th>\n",
       "      <th></th>\n",
       "      <th></th>\n",
       "      <th></th>\n",
       "    </tr>\n",
       "  </thead>\n",
       "  <tbody>\n",
       "    <tr>\n",
       "      <th>C2B</th>\n",
       "      <td>364</td>\n",
       "      <td>560</td>\n",
       "      <td>924</td>\n",
       "      <td>60.61</td>\n",
       "    </tr>\n",
       "    <tr>\n",
       "      <th>CWT</th>\n",
       "      <td>331</td>\n",
       "      <td>141</td>\n",
       "      <td>472</td>\n",
       "      <td>29.87</td>\n",
       "    </tr>\n",
       "    <tr>\n",
       "      <th>EPX</th>\n",
       "      <td>1172</td>\n",
       "      <td>193</td>\n",
       "      <td>1365</td>\n",
       "      <td>14.14</td>\n",
       "    </tr>\n",
       "    <tr>\n",
       "      <th>JZI</th>\n",
       "      <td>209</td>\n",
       "      <td>30</td>\n",
       "      <td>239</td>\n",
       "      <td>12.55</td>\n",
       "    </tr>\n",
       "    <tr>\n",
       "      <th>All</th>\n",
       "      <td>2076</td>\n",
       "      <td>924</td>\n",
       "      <td>3000</td>\n",
       "      <td>30.80</td>\n",
       "    </tr>\n",
       "  </tbody>\n",
       "</table>\n",
       "</div>"
      ],
      "text/plain": [
       "Claimed        No  Yes   All  Claim_percentage\n",
       "Agency_Code                                   \n",
       "C2B           364  560   924             60.61\n",
       "CWT           331  141   472             29.87\n",
       "EPX          1172  193  1365             14.14\n",
       "JZI           209   30   239             12.55\n",
       "All          2076  924  3000             30.80"
      ]
     },
     "execution_count": 576,
     "metadata": {},
     "output_type": "execute_result"
    }
   ],
   "source": [
    "df2a=pd.DataFrame(pd.crosstab(df2[\"Agency_Code\"],df2[\"Claimed\"],margins=True))\n",
    "df2a[\"Claim_percentage\"] =  (df2a[\"Yes\"] * 100 / df2a[\"All\"]).round(2)\n",
    "df2a"
   ]
  },
  {
   "cell_type": "markdown",
   "metadata": {},
   "source": [
    "From this crosstab table, its confirmed that 'C2B' agency has the highest claim percentage than the other and its causing total claims for the insurance firm to be on higher side"
   ]
  },
  {
   "cell_type": "markdown",
   "metadata": {},
   "source": [
    "### Correlation matrix"
   ]
  },
  {
   "cell_type": "code",
   "execution_count": 577,
   "metadata": {},
   "outputs": [
    {
     "data": {
      "text/html": [
       "<div>\n",
       "<style scoped>\n",
       "    .dataframe tbody tr th:only-of-type {\n",
       "        vertical-align: middle;\n",
       "    }\n",
       "\n",
       "    .dataframe tbody tr th {\n",
       "        vertical-align: top;\n",
       "    }\n",
       "\n",
       "    .dataframe thead th {\n",
       "        text-align: right;\n",
       "    }\n",
       "</style>\n",
       "<table border=\"1\" class=\"dataframe\">\n",
       "  <thead>\n",
       "    <tr style=\"text-align: right;\">\n",
       "      <th></th>\n",
       "      <th>Age</th>\n",
       "      <th>Commision</th>\n",
       "      <th>Duration</th>\n",
       "      <th>Sales</th>\n",
       "    </tr>\n",
       "  </thead>\n",
       "  <tbody>\n",
       "    <tr>\n",
       "      <th>Age</th>\n",
       "      <td>1.00</td>\n",
       "      <td>0.07</td>\n",
       "      <td>0.03</td>\n",
       "      <td>0.04</td>\n",
       "    </tr>\n",
       "    <tr>\n",
       "      <th>Commision</th>\n",
       "      <td>0.07</td>\n",
       "      <td>1.00</td>\n",
       "      <td>0.60</td>\n",
       "      <td>0.77</td>\n",
       "    </tr>\n",
       "    <tr>\n",
       "      <th>Duration</th>\n",
       "      <td>0.03</td>\n",
       "      <td>0.60</td>\n",
       "      <td>1.00</td>\n",
       "      <td>0.72</td>\n",
       "    </tr>\n",
       "    <tr>\n",
       "      <th>Sales</th>\n",
       "      <td>0.04</td>\n",
       "      <td>0.77</td>\n",
       "      <td>0.72</td>\n",
       "      <td>1.00</td>\n",
       "    </tr>\n",
       "  </tbody>\n",
       "</table>\n",
       "</div>"
      ],
      "text/plain": [
       "            Age  Commision  Duration  Sales\n",
       "Age        1.00       0.07      0.03   0.04\n",
       "Commision  0.07       1.00      0.60   0.77\n",
       "Duration   0.03       0.60      1.00   0.72\n",
       "Sales      0.04       0.77      0.72   1.00"
      ]
     },
     "execution_count": 577,
     "metadata": {},
     "output_type": "execute_result"
    }
   ],
   "source": [
    "Cor=df2.corr().round(2)\n",
    "Cor"
   ]
  },
  {
   "cell_type": "markdown",
   "metadata": {},
   "source": [
    "### Heat Map"
   ]
  },
  {
   "cell_type": "code",
   "execution_count": 578,
   "metadata": {},
   "outputs": [
    {
     "data": {
      "image/png": "[encoded data removed]",
      "text/plain": [
       "<Figure size 648x432 with 2 Axes>"
      ]
     },
     "metadata": {
      "needs_background": "light"
     },
     "output_type": "display_data"
    }
   ],
   "source": [
    "# plot the correlation coefficients as a heatmap\n",
    "## Correlation Matrix\n",
    "plt.figure(figsize=(9 ,6))\n",
    "mask = np.array(Cor)\n",
    "mask[np.triu_indices_from(mask)] =False\n",
    "sns.heatmap(data =Cor, annot =True, mask =mask,vmax =1, vmin=-1, cmap ='coolwarm');"
   ]
  },
  {
   "cell_type": "markdown",
   "metadata": {},
   "source": [
    "We can see in heatmap & correlation matrix that  \n",
    "  - Commission , Sales and Duration are positively correlated with each other. \n",
    "  - Age doesnt seems to be correlated with any other attributes.\n"
   ]
  },
  {
   "cell_type": "markdown",
   "metadata": {},
   "source": [
    "### Pairplot"
   ]
  },
  {
   "cell_type": "code",
   "execution_count": 579,
   "metadata": {},
   "outputs": [
    {
     "data": {
      "text/plain": [
       "<seaborn.axisgrid.PairGrid at 0x18b37932fd0>"
      ]
     },
     "execution_count": 579,
     "metadata": {},
     "output_type": "execute_result"
    },
    {
     "data": {
      "image/png": "[encoded data removed]",
      "text/plain": [
       "<Figure size 540x540 with 12 Axes>"
      ]
     },
     "metadata": {
      "needs_background": "light"
     },
     "output_type": "display_data"
    }
   ],
   "source": [
    "sns.pairplot (df2[[\"Commision\",\"Duration\",\"Sales\"]])"
   ]
  },
  {
   "cell_type": "markdown",
   "metadata": {},
   "source": [
    "-  As depicted in heatmap, we can ee the positive correlation clearly between Sales and Duration.\n",
    "- Between Duration and sales, there is slight correlation on positive side  but there seems to be few tours in which sales is less but duration is high."
   ]
  },
  {
   "cell_type": "markdown",
   "metadata": {},
   "source": [
    "# 2.2 Data Split: Split the data into test and train, build classification model CART, Random Forest, Artificial Neural Network\n"
   ]
  },
  {
   "cell_type": "code",
   "execution_count": 587,
   "metadata": {},
   "outputs": [
    {
     "data": {
      "text/html": [
       "<div>\n",
       "<style scoped>\n",
       "    .dataframe tbody tr th:only-of-type {\n",
       "        vertical-align: middle;\n",
       "    }\n",
       "\n",
       "    .dataframe tbody tr th {\n",
       "        vertical-align: top;\n",
       "    }\n",
       "\n",
       "    .dataframe thead th {\n",
       "        text-align: right;\n",
       "    }\n",
       "</style>\n",
       "<table border=\"1\" class=\"dataframe\">\n",
       "  <thead>\n",
       "    <tr style=\"text-align: right;\">\n",
       "      <th></th>\n",
       "      <th>Age</th>\n",
       "      <th>Agency_Code</th>\n",
       "      <th>Type</th>\n",
       "      <th>Claimed</th>\n",
       "      <th>Commision</th>\n",
       "      <th>Channel</th>\n",
       "      <th>Duration</th>\n",
       "      <th>Sales</th>\n",
       "      <th>Product Name</th>\n",
       "      <th>Destination</th>\n",
       "    </tr>\n",
       "  </thead>\n",
       "  <tbody>\n",
       "    <tr>\n",
       "      <th>0</th>\n",
       "      <td>48</td>\n",
       "      <td>C2B</td>\n",
       "      <td>Airlines</td>\n",
       "      <td>No</td>\n",
       "      <td>0.70</td>\n",
       "      <td>Online</td>\n",
       "      <td>7</td>\n",
       "      <td>2.51</td>\n",
       "      <td>Customised Plan</td>\n",
       "      <td>ASIA</td>\n",
       "    </tr>\n",
       "    <tr>\n",
       "      <th>1</th>\n",
       "      <td>36</td>\n",
       "      <td>EPX</td>\n",
       "      <td>Travel Agency</td>\n",
       "      <td>No</td>\n",
       "      <td>0.00</td>\n",
       "      <td>Online</td>\n",
       "      <td>34</td>\n",
       "      <td>20.00</td>\n",
       "      <td>Customised Plan</td>\n",
       "      <td>ASIA</td>\n",
       "    </tr>\n",
       "    <tr>\n",
       "      <th>2</th>\n",
       "      <td>39</td>\n",
       "      <td>CWT</td>\n",
       "      <td>Travel Agency</td>\n",
       "      <td>No</td>\n",
       "      <td>5.94</td>\n",
       "      <td>Online</td>\n",
       "      <td>3</td>\n",
       "      <td>9.90</td>\n",
       "      <td>Customised Plan</td>\n",
       "      <td>Americas</td>\n",
       "    </tr>\n",
       "    <tr>\n",
       "      <th>3</th>\n",
       "      <td>36</td>\n",
       "      <td>EPX</td>\n",
       "      <td>Travel Agency</td>\n",
       "      <td>No</td>\n",
       "      <td>0.00</td>\n",
       "      <td>Online</td>\n",
       "      <td>4</td>\n",
       "      <td>26.00</td>\n",
       "      <td>Cancellation Plan</td>\n",
       "      <td>ASIA</td>\n",
       "    </tr>\n",
       "    <tr>\n",
       "      <th>4</th>\n",
       "      <td>33</td>\n",
       "      <td>JZI</td>\n",
       "      <td>Airlines</td>\n",
       "      <td>No</td>\n",
       "      <td>6.30</td>\n",
       "      <td>Online</td>\n",
       "      <td>53</td>\n",
       "      <td>18.00</td>\n",
       "      <td>Bronze Plan</td>\n",
       "      <td>ASIA</td>\n",
       "    </tr>\n",
       "  </tbody>\n",
       "</table>\n",
       "</div>"
      ],
      "text/plain": [
       "   Age Agency_Code           Type Claimed  Commision Channel  Duration  Sales  \\\n",
       "0   48         C2B       Airlines      No       0.70  Online         7   2.51   \n",
       "1   36         EPX  Travel Agency      No       0.00  Online        34  20.00   \n",
       "2   39         CWT  Travel Agency      No       5.94  Online         3   9.90   \n",
       "3   36         EPX  Travel Agency      No       0.00  Online         4  26.00   \n",
       "4   33         JZI       Airlines      No       6.30  Online        53  18.00   \n",
       "\n",
       "        Product Name Destination  \n",
       "0    Customised Plan        ASIA  \n",
       "1    Customised Plan        ASIA  \n",
       "2    Customised Plan    Americas  \n",
       "3  Cancellation Plan        ASIA  \n",
       "4        Bronze Plan        ASIA  "
      ]
     },
     "execution_count": 587,
     "metadata": {},
     "output_type": "execute_result"
    }
   ],
   "source": [
    "# taking a backup of df2 dataframe\n",
    "df2_bkp = df2.copy(deep=True)\n",
    "df2_bkp.head()"
   ]
  },
  {
   "cell_type": "code",
   "execution_count": 885,
   "metadata": {},
   "outputs": [
    {
     "data": {
      "text/html": [
       "<div>\n",
       "<style scoped>\n",
       "    .dataframe tbody tr th:only-of-type {\n",
       "        vertical-align: middle;\n",
       "    }\n",
       "\n",
       "    .dataframe tbody tr th {\n",
       "        vertical-align: top;\n",
       "    }\n",
       "\n",
       "    .dataframe thead th {\n",
       "        text-align: right;\n",
       "    }\n",
       "</style>\n",
       "<table border=\"1\" class=\"dataframe\">\n",
       "  <thead>\n",
       "    <tr style=\"text-align: right;\">\n",
       "      <th></th>\n",
       "      <th>Age</th>\n",
       "      <th>Agency_Code</th>\n",
       "      <th>Type</th>\n",
       "      <th>Claimed</th>\n",
       "      <th>Commision</th>\n",
       "      <th>Channel</th>\n",
       "      <th>Duration</th>\n",
       "      <th>Sales</th>\n",
       "      <th>Product Name</th>\n",
       "      <th>Destination</th>\n",
       "    </tr>\n",
       "  </thead>\n",
       "  <tbody>\n",
       "    <tr>\n",
       "      <th>0</th>\n",
       "      <td>48</td>\n",
       "      <td>C2B</td>\n",
       "      <td>Airlines</td>\n",
       "      <td>No</td>\n",
       "      <td>0.70</td>\n",
       "      <td>Online</td>\n",
       "      <td>7</td>\n",
       "      <td>2.51</td>\n",
       "      <td>Customised Plan</td>\n",
       "      <td>ASIA</td>\n",
       "    </tr>\n",
       "    <tr>\n",
       "      <th>1</th>\n",
       "      <td>36</td>\n",
       "      <td>EPX</td>\n",
       "      <td>Travel Agency</td>\n",
       "      <td>No</td>\n",
       "      <td>0.00</td>\n",
       "      <td>Online</td>\n",
       "      <td>34</td>\n",
       "      <td>20.00</td>\n",
       "      <td>Customised Plan</td>\n",
       "      <td>ASIA</td>\n",
       "    </tr>\n",
       "    <tr>\n",
       "      <th>2</th>\n",
       "      <td>39</td>\n",
       "      <td>CWT</td>\n",
       "      <td>Travel Agency</td>\n",
       "      <td>No</td>\n",
       "      <td>5.94</td>\n",
       "      <td>Online</td>\n",
       "      <td>3</td>\n",
       "      <td>9.90</td>\n",
       "      <td>Customised Plan</td>\n",
       "      <td>Americas</td>\n",
       "    </tr>\n",
       "    <tr>\n",
       "      <th>3</th>\n",
       "      <td>36</td>\n",
       "      <td>EPX</td>\n",
       "      <td>Travel Agency</td>\n",
       "      <td>No</td>\n",
       "      <td>0.00</td>\n",
       "      <td>Online</td>\n",
       "      <td>4</td>\n",
       "      <td>26.00</td>\n",
       "      <td>Cancellation Plan</td>\n",
       "      <td>ASIA</td>\n",
       "    </tr>\n",
       "    <tr>\n",
       "      <th>4</th>\n",
       "      <td>33</td>\n",
       "      <td>JZI</td>\n",
       "      <td>Airlines</td>\n",
       "      <td>No</td>\n",
       "      <td>6.30</td>\n",
       "      <td>Online</td>\n",
       "      <td>53</td>\n",
       "      <td>18.00</td>\n",
       "      <td>Bronze Plan</td>\n",
       "      <td>ASIA</td>\n",
       "    </tr>\n",
       "  </tbody>\n",
       "</table>\n",
       "</div>"
      ],
      "text/plain": [
       "   Age Agency_Code           Type Claimed  Commision Channel  Duration  Sales  \\\n",
       "0   48         C2B       Airlines      No       0.70  Online         7   2.51   \n",
       "1   36         EPX  Travel Agency      No       0.00  Online        34  20.00   \n",
       "2   39         CWT  Travel Agency      No       5.94  Online         3   9.90   \n",
       "3   36         EPX  Travel Agency      No       0.00  Online         4  26.00   \n",
       "4   33         JZI       Airlines      No       6.30  Online        53  18.00   \n",
       "\n",
       "        Product Name Destination  \n",
       "0    Customised Plan        ASIA  \n",
       "1    Customised Plan        ASIA  \n",
       "2    Customised Plan    Americas  \n",
       "3  Cancellation Plan        ASIA  \n",
       "4        Bronze Plan        ASIA  "
      ]
     },
     "execution_count": 885,
     "metadata": {},
     "output_type": "execute_result"
    }
   ],
   "source": [
    "df2_bkp.head()"
   ]
  },
  {
   "cell_type": "markdown",
   "metadata": {},
   "source": [
    "## Converting Object into int\n",
    "Decision tree in Python can take only numerical / categorical colums. It cannot take string / object types."
   ]
  },
  {
   "cell_type": "code",
   "execution_count": 589,
   "metadata": {},
   "outputs": [],
   "source": [
    "col_name =[] \n",
    "act_val = []\n",
    "coded_val = []\n",
    "for feature in df2.columns: \n",
    "    if df2[feature].dtype == 'object': \n",
    "#         print('feature:',feature)\n",
    "#         print(pd.Categorical(df2[feature].unique()))\n",
    "#         print(pd.Categorical(df2[feature].unique()).codes)\n",
    "        i=0\n",
    "        while (i<pd.Categorical(df2[feature].unique()).size):           \n",
    "            act_val.append(df2[feature].unique()[i])\n",
    "            coded_val.append(str(pd.Categorical(df2[feature].unique()).codes[i]))\n",
    "            col_name.append(feature)\n",
    "            i=i+1\n",
    "        df2[feature] = pd.Categorical(df2[feature]).codes\n",
    "\n"
   ]
  },
  {
   "cell_type": "code",
   "execution_count": 597,
   "metadata": {},
   "outputs": [
    {
     "data": {
      "text/html": [
       "<div>\n",
       "<style scoped>\n",
       "    .dataframe tbody tr th:only-of-type {\n",
       "        vertical-align: middle;\n",
       "    }\n",
       "\n",
       "    .dataframe tbody tr th {\n",
       "        vertical-align: top;\n",
       "    }\n",
       "\n",
       "    .dataframe thead th {\n",
       "        text-align: right;\n",
       "    }\n",
       "</style>\n",
       "<table border=\"1\" class=\"dataframe\">\n",
       "  <thead>\n",
       "    <tr style=\"text-align: right;\">\n",
       "      <th></th>\n",
       "      <th>col_name</th>\n",
       "      <th>actual_value</th>\n",
       "      <th>coded_value</th>\n",
       "    </tr>\n",
       "  </thead>\n",
       "  <tbody>\n",
       "    <tr>\n",
       "      <th>0</th>\n",
       "      <td>Agency_Code</td>\n",
       "      <td>C2B</td>\n",
       "      <td>0</td>\n",
       "    </tr>\n",
       "    <tr>\n",
       "      <th>2</th>\n",
       "      <td>Agency_Code</td>\n",
       "      <td>CWT</td>\n",
       "      <td>1</td>\n",
       "    </tr>\n",
       "    <tr>\n",
       "      <th>1</th>\n",
       "      <td>Agency_Code</td>\n",
       "      <td>EPX</td>\n",
       "      <td>2</td>\n",
       "    </tr>\n",
       "    <tr>\n",
       "      <th>3</th>\n",
       "      <td>Agency_Code</td>\n",
       "      <td>JZI</td>\n",
       "      <td>3</td>\n",
       "    </tr>\n",
       "    <tr>\n",
       "      <th>9</th>\n",
       "      <td>Channel</td>\n",
       "      <td>Offline</td>\n",
       "      <td>0</td>\n",
       "    </tr>\n",
       "    <tr>\n",
       "      <th>8</th>\n",
       "      <td>Channel</td>\n",
       "      <td>Online</td>\n",
       "      <td>1</td>\n",
       "    </tr>\n",
       "    <tr>\n",
       "      <th>6</th>\n",
       "      <td>Claimed</td>\n",
       "      <td>No</td>\n",
       "      <td>0</td>\n",
       "    </tr>\n",
       "    <tr>\n",
       "      <th>7</th>\n",
       "      <td>Claimed</td>\n",
       "      <td>Yes</td>\n",
       "      <td>1</td>\n",
       "    </tr>\n",
       "    <tr>\n",
       "      <th>15</th>\n",
       "      <td>Destination</td>\n",
       "      <td>ASIA</td>\n",
       "      <td>0</td>\n",
       "    </tr>\n",
       "    <tr>\n",
       "      <th>16</th>\n",
       "      <td>Destination</td>\n",
       "      <td>Americas</td>\n",
       "      <td>1</td>\n",
       "    </tr>\n",
       "    <tr>\n",
       "      <th>17</th>\n",
       "      <td>Destination</td>\n",
       "      <td>EUROPE</td>\n",
       "      <td>2</td>\n",
       "    </tr>\n",
       "    <tr>\n",
       "      <th>12</th>\n",
       "      <td>Product Name</td>\n",
       "      <td>Bronze Plan</td>\n",
       "      <td>0</td>\n",
       "    </tr>\n",
       "    <tr>\n",
       "      <th>11</th>\n",
       "      <td>Product Name</td>\n",
       "      <td>Cancellation Plan</td>\n",
       "      <td>1</td>\n",
       "    </tr>\n",
       "    <tr>\n",
       "      <th>10</th>\n",
       "      <td>Product Name</td>\n",
       "      <td>Customised Plan</td>\n",
       "      <td>2</td>\n",
       "    </tr>\n",
       "    <tr>\n",
       "      <th>14</th>\n",
       "      <td>Product Name</td>\n",
       "      <td>Gold Plan</td>\n",
       "      <td>3</td>\n",
       "    </tr>\n",
       "    <tr>\n",
       "      <th>13</th>\n",
       "      <td>Product Name</td>\n",
       "      <td>Silver Plan</td>\n",
       "      <td>4</td>\n",
       "    </tr>\n",
       "    <tr>\n",
       "      <th>4</th>\n",
       "      <td>Type</td>\n",
       "      <td>Airlines</td>\n",
       "      <td>0</td>\n",
       "    </tr>\n",
       "    <tr>\n",
       "      <th>5</th>\n",
       "      <td>Type</td>\n",
       "      <td>Travel Agency</td>\n",
       "      <td>1</td>\n",
       "    </tr>\n",
       "  </tbody>\n",
       "</table>\n",
       "</div>"
      ],
      "text/plain": [
       "        col_name       actual_value coded_value\n",
       "0    Agency_Code                C2B           0\n",
       "2    Agency_Code                CWT           1\n",
       "1    Agency_Code                EPX           2\n",
       "3    Agency_Code                JZI           3\n",
       "9        Channel            Offline           0\n",
       "8        Channel             Online           1\n",
       "6        Claimed                 No           0\n",
       "7        Claimed                Yes           1\n",
       "15   Destination               ASIA           0\n",
       "16   Destination           Americas           1\n",
       "17   Destination             EUROPE           2\n",
       "12  Product Name        Bronze Plan           0\n",
       "11  Product Name  Cancellation Plan           1\n",
       "10  Product Name    Customised Plan           2\n",
       "14  Product Name          Gold Plan           3\n",
       "13  Product Name        Silver Plan           4\n",
       "4           Type           Airlines           0\n",
       "5           Type      Travel Agency           1"
      ]
     },
     "execution_count": 597,
     "metadata": {},
     "output_type": "execute_result"
    }
   ],
   "source": [
    "# creating a dataframe showing the mapping for future reference        \n",
    "data = {\"col_name\": col_name, \n",
    "        \"actual_value\": act_val, \n",
    "        \"coded_value\": coded_val} \n",
    "  \n",
    "df2_map = pd.DataFrame(data)\n",
    "df2_map.sort_values(by=['col_name', 'coded_value'])\n"
   ]
  },
  {
   "cell_type": "code",
   "execution_count": 598,
   "metadata": {},
   "outputs": [
    {
     "data": {
      "text/html": [
       "<div>\n",
       "<style scoped>\n",
       "    .dataframe tbody tr th:only-of-type {\n",
       "        vertical-align: middle;\n",
       "    }\n",
       "\n",
       "    .dataframe tbody tr th {\n",
       "        vertical-align: top;\n",
       "    }\n",
       "\n",
       "    .dataframe thead th {\n",
       "        text-align: right;\n",
       "    }\n",
       "</style>\n",
       "<table border=\"1\" class=\"dataframe\">\n",
       "  <thead>\n",
       "    <tr style=\"text-align: right;\">\n",
       "      <th></th>\n",
       "      <th>Age</th>\n",
       "      <th>Agency_Code</th>\n",
       "      <th>Type</th>\n",
       "      <th>Claimed</th>\n",
       "      <th>Commision</th>\n",
       "      <th>Channel</th>\n",
       "      <th>Duration</th>\n",
       "      <th>Sales</th>\n",
       "      <th>Product Name</th>\n",
       "      <th>Destination</th>\n",
       "    </tr>\n",
       "  </thead>\n",
       "  <tbody>\n",
       "    <tr>\n",
       "      <th>0</th>\n",
       "      <td>48</td>\n",
       "      <td>0</td>\n",
       "      <td>0</td>\n",
       "      <td>0</td>\n",
       "      <td>0.70</td>\n",
       "      <td>1</td>\n",
       "      <td>7</td>\n",
       "      <td>2.51</td>\n",
       "      <td>2</td>\n",
       "      <td>0</td>\n",
       "    </tr>\n",
       "    <tr>\n",
       "      <th>1</th>\n",
       "      <td>36</td>\n",
       "      <td>2</td>\n",
       "      <td>1</td>\n",
       "      <td>0</td>\n",
       "      <td>0.00</td>\n",
       "      <td>1</td>\n",
       "      <td>34</td>\n",
       "      <td>20.00</td>\n",
       "      <td>2</td>\n",
       "      <td>0</td>\n",
       "    </tr>\n",
       "    <tr>\n",
       "      <th>2</th>\n",
       "      <td>39</td>\n",
       "      <td>1</td>\n",
       "      <td>1</td>\n",
       "      <td>0</td>\n",
       "      <td>5.94</td>\n",
       "      <td>1</td>\n",
       "      <td>3</td>\n",
       "      <td>9.90</td>\n",
       "      <td>2</td>\n",
       "      <td>1</td>\n",
       "    </tr>\n",
       "    <tr>\n",
       "      <th>3</th>\n",
       "      <td>36</td>\n",
       "      <td>2</td>\n",
       "      <td>1</td>\n",
       "      <td>0</td>\n",
       "      <td>0.00</td>\n",
       "      <td>1</td>\n",
       "      <td>4</td>\n",
       "      <td>26.00</td>\n",
       "      <td>1</td>\n",
       "      <td>0</td>\n",
       "    </tr>\n",
       "    <tr>\n",
       "      <th>4</th>\n",
       "      <td>33</td>\n",
       "      <td>3</td>\n",
       "      <td>0</td>\n",
       "      <td>0</td>\n",
       "      <td>6.30</td>\n",
       "      <td>1</td>\n",
       "      <td>53</td>\n",
       "      <td>18.00</td>\n",
       "      <td>0</td>\n",
       "      <td>0</td>\n",
       "    </tr>\n",
       "  </tbody>\n",
       "</table>\n",
       "</div>"
      ],
      "text/plain": [
       "   Age  Agency_Code  Type  Claimed  Commision  Channel  Duration  Sales  \\\n",
       "0   48            0     0        0       0.70        1         7   2.51   \n",
       "1   36            2     1        0       0.00        1        34  20.00   \n",
       "2   39            1     1        0       5.94        1         3   9.90   \n",
       "3   36            2     1        0       0.00        1         4  26.00   \n",
       "4   33            3     0        0       6.30        1        53  18.00   \n",
       "\n",
       "   Product Name  Destination  \n",
       "0             2            0  \n",
       "1             2            0  \n",
       "2             2            1  \n",
       "3             1            0  \n",
       "4             0            0  "
      ]
     },
     "execution_count": 598,
     "metadata": {},
     "output_type": "execute_result"
    }
   ],
   "source": [
    "df2.head()"
   ]
  },
  {
   "cell_type": "markdown",
   "metadata": {},
   "source": [
    "Now we can see that all values are numerical"
   ]
  },
  {
   "cell_type": "code",
   "execution_count": 599,
   "metadata": {},
   "outputs": [
    {
     "name": "stdout",
     "output_type": "stream",
     "text": [
      "<class 'pandas.core.frame.DataFrame'>\n",
      "RangeIndex: 3000 entries, 0 to 2999\n",
      "Data columns (total 10 columns):\n",
      " #   Column        Non-Null Count  Dtype  \n",
      "---  ------        --------------  -----  \n",
      " 0   Age           3000 non-null   int64  \n",
      " 1   Agency_Code   3000 non-null   int8   \n",
      " 2   Type          3000 non-null   int8   \n",
      " 3   Claimed       3000 non-null   int8   \n",
      " 4   Commision     3000 non-null   float64\n",
      " 5   Channel       3000 non-null   int8   \n",
      " 6   Duration      3000 non-null   int64  \n",
      " 7   Sales         3000 non-null   float64\n",
      " 8   Product Name  3000 non-null   int8   \n",
      " 9   Destination   3000 non-null   int8   \n",
      "dtypes: float64(2), int64(2), int8(6)\n",
      "memory usage: 111.5 KB\n"
     ]
    }
   ],
   "source": [
    "df2.info()"
   ]
  },
  {
   "cell_type": "code",
   "execution_count": 600,
   "metadata": {},
   "outputs": [
    {
     "name": "stdout",
     "output_type": "stream",
     "text": [
      "Proportion of Agency_Code (in %)\n",
      "2    46.0\n",
      "0    31.0\n",
      "1    16.0\n",
      "3     8.0\n",
      "\n",
      "\n",
      "Proportion of Type (in %)\n",
      "1    61.0\n",
      "0    39.0\n",
      "\n",
      "\n",
      "Proportion of Claimed (in %)\n",
      "0    69.0\n",
      "1    31.0\n",
      "\n",
      "\n",
      "Proportion of Channel (in %)\n",
      "1    98.0\n",
      "0     2.0\n",
      "\n",
      "\n",
      "Proportion of Product Name (in %)\n",
      "2    38.0\n",
      "1    23.0\n",
      "0    22.0\n",
      "4    14.0\n",
      "3     4.0\n",
      "\n",
      "\n",
      "Proportion of Destination (in %)\n",
      "0    82.0\n",
      "1    11.0\n",
      "2     7.0\n",
      "\n",
      "\n"
     ]
    }
   ],
   "source": [
    "for col in df2_map[\"col_name\"].unique() :\n",
    "        print (\"Proportion of\", col, \"(in %)\")\n",
    "        print ((df2[col].value_counts(normalize=True).round(2)*100).to_string())\n",
    "        print (\"\\n\")\n"
   ]
  },
  {
   "cell_type": "markdown",
   "metadata": {},
   "source": [
    "Label Encoding has been done and all columns are converted to number"
   ]
  },
  {
   "cell_type": "markdown",
   "metadata": {},
   "source": [
    "### Proportion of 1s and 0s in Target Variable"
   ]
  },
  {
   "cell_type": "code",
   "execution_count": 1136,
   "metadata": {},
   "outputs": [
    {
     "data": {
      "text/plain": [
       "No     69.0\n",
       "Yes    31.0\n",
       "Name: Claimed, dtype: float64"
      ]
     },
     "execution_count": 1136,
     "metadata": {},
     "output_type": "execute_result"
    }
   ],
   "source": [
    "df2_bkp.Claimed.value_counts(normalize=True).round(2)*100"
   ]
  },
  {
   "cell_type": "markdown",
   "metadata": {},
   "source": [
    "This target variable is slightly imbalanced"
   ]
  },
  {
   "cell_type": "markdown",
   "metadata": {},
   "source": [
    "## Builing CART Model"
   ]
  },
  {
   "cell_type": "code",
   "execution_count": 626,
   "metadata": {},
   "outputs": [],
   "source": [
    "from sklearn.tree import DecisionTreeClassifier"
   ]
  },
  {
   "cell_type": "markdown",
   "metadata": {},
   "source": [
    "## Extracting the target column into separate vectors for training set and test set"
   ]
  },
  {
   "cell_type": "code",
   "execution_count": 603,
   "metadata": {},
   "outputs": [
    {
     "data": {
      "text/html": [
       "<div>\n",
       "<style scoped>\n",
       "    .dataframe tbody tr th:only-of-type {\n",
       "        vertical-align: middle;\n",
       "    }\n",
       "\n",
       "    .dataframe tbody tr th {\n",
       "        vertical-align: top;\n",
       "    }\n",
       "\n",
       "    .dataframe thead th {\n",
       "        text-align: right;\n",
       "    }\n",
       "</style>\n",
       "<table border=\"1\" class=\"dataframe\">\n",
       "  <thead>\n",
       "    <tr style=\"text-align: right;\">\n",
       "      <th></th>\n",
       "      <th>Age</th>\n",
       "      <th>Agency_Code</th>\n",
       "      <th>Type</th>\n",
       "      <th>Commision</th>\n",
       "      <th>Channel</th>\n",
       "      <th>Duration</th>\n",
       "      <th>Sales</th>\n",
       "      <th>Product Name</th>\n",
       "      <th>Destination</th>\n",
       "    </tr>\n",
       "  </thead>\n",
       "  <tbody>\n",
       "    <tr>\n",
       "      <th>0</th>\n",
       "      <td>48</td>\n",
       "      <td>0</td>\n",
       "      <td>0</td>\n",
       "      <td>0.70</td>\n",
       "      <td>1</td>\n",
       "      <td>7</td>\n",
       "      <td>2.51</td>\n",
       "      <td>2</td>\n",
       "      <td>0</td>\n",
       "    </tr>\n",
       "    <tr>\n",
       "      <th>1</th>\n",
       "      <td>36</td>\n",
       "      <td>2</td>\n",
       "      <td>1</td>\n",
       "      <td>0.00</td>\n",
       "      <td>1</td>\n",
       "      <td>34</td>\n",
       "      <td>20.00</td>\n",
       "      <td>2</td>\n",
       "      <td>0</td>\n",
       "    </tr>\n",
       "    <tr>\n",
       "      <th>2</th>\n",
       "      <td>39</td>\n",
       "      <td>1</td>\n",
       "      <td>1</td>\n",
       "      <td>5.94</td>\n",
       "      <td>1</td>\n",
       "      <td>3</td>\n",
       "      <td>9.90</td>\n",
       "      <td>2</td>\n",
       "      <td>1</td>\n",
       "    </tr>\n",
       "    <tr>\n",
       "      <th>3</th>\n",
       "      <td>36</td>\n",
       "      <td>2</td>\n",
       "      <td>1</td>\n",
       "      <td>0.00</td>\n",
       "      <td>1</td>\n",
       "      <td>4</td>\n",
       "      <td>26.00</td>\n",
       "      <td>1</td>\n",
       "      <td>0</td>\n",
       "    </tr>\n",
       "    <tr>\n",
       "      <th>4</th>\n",
       "      <td>33</td>\n",
       "      <td>3</td>\n",
       "      <td>0</td>\n",
       "      <td>6.30</td>\n",
       "      <td>1</td>\n",
       "      <td>53</td>\n",
       "      <td>18.00</td>\n",
       "      <td>0</td>\n",
       "      <td>0</td>\n",
       "    </tr>\n",
       "  </tbody>\n",
       "</table>\n",
       "</div>"
      ],
      "text/plain": [
       "   Age  Agency_Code  Type  Commision  Channel  Duration  Sales  Product Name  \\\n",
       "0   48            0     0       0.70        1         7   2.51             2   \n",
       "1   36            2     1       0.00        1        34  20.00             2   \n",
       "2   39            1     1       5.94        1         3   9.90             2   \n",
       "3   36            2     1       0.00        1         4  26.00             1   \n",
       "4   33            3     0       6.30        1        53  18.00             0   \n",
       "\n",
       "   Destination  \n",
       "0            0  \n",
       "1            0  \n",
       "2            1  \n",
       "3            0  \n",
       "4            0  "
      ]
     },
     "execution_count": 603,
     "metadata": {},
     "output_type": "execute_result"
    }
   ],
   "source": [
    "X = df2.drop(\"Claimed\", axis=1)\n",
    "\n",
    "Y = df2.pop(\"Claimed\")\n",
    "\n",
    "X.head()"
   ]
  },
  {
   "cell_type": "markdown",
   "metadata": {},
   "source": [
    "### Splitting data into training and test set"
   ]
  },
  {
   "cell_type": "code",
   "execution_count": 1513,
   "metadata": {},
   "outputs": [],
   "source": [
    "from sklearn.model_selection import train_test_split\n",
    "\n",
    "X_train, X_test, train_labels, test_labels = train_test_split(X, Y, test_size=.30, random_state=1)"
   ]
  },
  {
   "cell_type": "markdown",
   "metadata": {},
   "source": [
    "### Checking the dimensions of the training and test data"
   ]
  },
  {
   "cell_type": "code",
   "execution_count": 1514,
   "metadata": {},
   "outputs": [
    {
     "name": "stdout",
     "output_type": "stream",
     "text": [
      "X_train (2100, 9)\n",
      "X_test (900, 9)\n",
      "train_labels (2100,)\n",
      "test_labels (900,)\n",
      "Total Observations (3000, 9)\n"
     ]
    }
   ],
   "source": [
    "print('X_train',X_train.shape)\n",
    "print('X_test',X_test.shape)\n",
    "print('train_labels',train_labels.shape)\n",
    "print('test_labels',test_labels.shape)\n",
    "print('Total Observations',df2.shape)"
   ]
  },
  {
   "cell_type": "markdown",
   "metadata": {},
   "source": [
    "We can see that data has been splitted into train(70%) and test(30%) successfully"
   ]
  },
  {
   "cell_type": "markdown",
   "metadata": {},
   "source": [
    "### Building a Decision Tree Classifier"
   ]
  },
  {
   "cell_type": "code",
   "execution_count": 1515,
   "metadata": {},
   "outputs": [],
   "source": [
    "# Initialise a Decision Tree Classifier\n",
    "dt_model = DecisionTreeClassifier(criterion = 'gini' )"
   ]
  },
  {
   "cell_type": "code",
   "execution_count": 1516,
   "metadata": {},
   "outputs": [
    {
     "data": {
      "text/plain": [
       "DecisionTreeClassifier()"
      ]
     },
     "execution_count": 1516,
     "metadata": {},
     "output_type": "execute_result"
    }
   ],
   "source": [
    "# Fit the model\n",
    "dt_model.fit(X_train, train_labels)"
   ]
  },
  {
   "cell_type": "code",
   "execution_count": 1517,
   "metadata": {},
   "outputs": [],
   "source": [
    "from sklearn import tree\n",
    "\n",
    "train_char_label = ['No', 'Yes']\n",
    "df2_Tree_File = open('df2_Tree_File.dot','w')\n",
    "dot_data = tree.export_graphviz(dt_model, \n",
    "                                out_file=df2_Tree_File, \n",
    "                                feature_names = list(X_train), \n",
    "                                class_names = list(train_char_label))\n",
    "\n",
    "df2_Tree_File.close()\n"
   ]
  },
  {
   "cell_type": "markdown",
   "metadata": {},
   "source": [
    "The above code will save a .dot file in the working directory. \n",
    "WebGraphviz is Graphviz in the Browser.   \n",
    "we can copy paste the contents of the file into the link below to get the visualization     \n",
    "http://webgraphviz.com/"
   ]
  },
  {
   "cell_type": "code",
   "execution_count": 1518,
   "metadata": {},
   "outputs": [
    {
     "data": {
      "text/plain": [
       "0.9947619047619047"
      ]
     },
     "execution_count": 1518,
     "metadata": {},
     "output_type": "execute_result"
    }
   ],
   "source": [
    "dt_model.score(X_train,train_labels)"
   ]
  },
  {
   "cell_type": "code",
   "execution_count": 1519,
   "metadata": {},
   "outputs": [
    {
     "data": {
      "text/plain": [
       "0.7266666666666667"
      ]
     },
     "execution_count": 1519,
     "metadata": {},
     "output_type": "execute_result"
    }
   ],
   "source": [
    "dt_model.score(X_test,test_labels)"
   ]
  },
  {
   "cell_type": "markdown",
   "metadata": {},
   "source": [
    "### Regularising the Decision Tree\n"
   ]
  },
  {
   "cell_type": "markdown",
   "metadata": {},
   "source": [
    "#### Importing libraries"
   ]
  },
  {
   "cell_type": "code",
   "execution_count": 1520,
   "metadata": {},
   "outputs": [],
   "source": [
    "from sklearn.model_selection import GridSearchCV\n",
    "from sklearn.metrics import classification_report\n"
   ]
  },
  {
   "cell_type": "markdown",
   "metadata": {},
   "source": [
    "#### creating user define function so to run CART model multiple times for different grid search parameters"
   ]
  },
  {
   "cell_type": "code",
   "execution_count": 1521,
   "metadata": {},
   "outputs": [],
   "source": [
    "def run_gridsearch(model,param_grid,X_train, train_labels,cv_value=5,scoring_value='accuracy'):\n",
    "    grid_search = GridSearchCV(estimator = model, param_grid = param_grid, cv = cv_value, n_jobs =-1,scoring=scoring_value)\n",
    "    print (\"\\n Running grid search\\n\")\n",
    "    grid_search.fit(X_train, train_labels)\n",
    "    print (\"\\n Showing best parameters for the grid search\\n\")\n",
    "    print (grid_search.best_params_)\n",
    "    return grid_search"
   ]
  },
  {
   "cell_type": "code",
   "execution_count": 1522,
   "metadata": {},
   "outputs": [],
   "source": [
    "def check_performance(grid_search,X_train, X_test, train_labels, test_labels):\n",
    "    best_grid = grid_search.best_estimator_\n",
    "    ytrain_predict = best_grid.predict(X_train)\n",
    "    ytest_predict = best_grid.predict(X_test)\n",
    "    print(\"\\n Classification Report for Train dataset\\n\")\n",
    "    print(classification_report(train_labels,ytrain_predict))\n",
    "    print(\"\\n Classification Report for Test dataset\\n\")\n",
    "    print(classification_report(test_labels,ytest_predict))"
   ]
  },
  {
   "cell_type": "markdown",
   "metadata": {},
   "source": [
    "#### using SKlearn grid search"
   ]
  },
  {
   "cell_type": "markdown",
   "metadata": {},
   "source": [
    " Initially we need to assume values of search grid parameters. \n",
    " \n",
    " In decision tree visualization , we can see that tree has overgrown to about 25-26 depth, hence we are taking max_depth as [7 13 20]\n",
    " \n",
    " min_samples_leaf is normally taken around 1-3% of observations , hence taking it as [30 60 90]\n",
    " \n",
    " min_samples_split is normally 3 times min_samples_leaf, hence taking it as [90 180 270].\n",
    " \n",
    " CV parameter is taken as 10 (10 cross fold validation)"
   ]
  },
  {
   "cell_type": "code",
   "execution_count": 1523,
   "metadata": {},
   "outputs": [],
   "source": [
    "dt_model = DecisionTreeClassifier(random_state=1)\n",
    "cv_value = 10\n",
    "scoring_value = 'accuracy'\n",
    "param_grid = {\n",
    "    'max_depth': [7, 13, 20],\n",
    "    'min_samples_leaf': [30, 60, 90],\n",
    "    'min_samples_split': [90, 180, 270]\n",
    "}"
   ]
  },
  {
   "cell_type": "code",
   "execution_count": 1524,
   "metadata": {},
   "outputs": [
    {
     "name": "stdout",
     "output_type": "stream",
     "text": [
      "\n",
      " Running grid search\n",
      "\n",
      "\n",
      " Showing best parameters for the grid search\n",
      "\n",
      "{'max_depth': 7, 'min_samples_leaf': 60, 'min_samples_split': 180}\n"
     ]
    }
   ],
   "source": [
    "grid_search = run_gridsearch(dt_model,param_grid,X_train, train_labels,cv_value)"
   ]
  },
  {
   "cell_type": "markdown",
   "metadata": {},
   "source": [
    "We can see that best result we got for our min value of max_depth, middle value of min_samples_split and middle value of min_samples_leaf. We can try reducing the max_depth and try to find out the best result but before that lets check the performance of model with these parameters"
   ]
  },
  {
   "cell_type": "code",
   "execution_count": 1525,
   "metadata": {},
   "outputs": [
    {
     "name": "stdout",
     "output_type": "stream",
     "text": [
      "\n",
      " Classification Report for Train dataset\n",
      "\n",
      "              precision    recall  f1-score   support\n",
      "\n",
      "           0       0.83      0.88      0.85      1471\n",
      "           1       0.67      0.57      0.62       629\n",
      "\n",
      "    accuracy                           0.79      2100\n",
      "   macro avg       0.75      0.73      0.73      2100\n",
      "weighted avg       0.78      0.79      0.78      2100\n",
      "\n",
      "\n",
      " Classification Report for Test dataset\n",
      "\n",
      "              precision    recall  f1-score   support\n",
      "\n",
      "           0       0.78      0.91      0.84       605\n",
      "           1       0.73      0.48      0.58       295\n",
      "\n",
      "    accuracy                           0.77       900\n",
      "   macro avg       0.75      0.70      0.71       900\n",
      "weighted avg       0.76      0.77      0.76       900\n",
      "\n"
     ]
    }
   ],
   "source": [
    "check_performance(grid_search,X_train, X_test, train_labels, test_labels)"
   ]
  },
  {
   "cell_type": "markdown",
   "metadata": {},
   "source": [
    "As insurance company is facing higher claim frequency, we are more interested in predicting the claimed status as 1. We have following results from the test and train data set for the CART model\n",
    "\n",
    "- around 79% accuracy and 57% recall rate for train data set. \n",
    "- around 77% accuracy and only 48% recall rate for test data set.\n",
    "\n",
    "Difference in recall in test and train is high (around more than 10%). Also recall percentage is very low i.e 50% of correct claim prediction. This appears to be the case of underfitting. We need to fine tune/prune the parameters for better results"
   ]
  },
  {
   "cell_type": "markdown",
   "metadata": {},
   "source": [
    "#### Pruning the grid seach parameters again"
   ]
  },
  {
   "cell_type": "code",
   "execution_count": 1526,
   "metadata": {},
   "outputs": [
    {
     "name": "stdout",
     "output_type": "stream",
     "text": [
      "\n",
      " Running grid search\n",
      "\n",
      "\n",
      " Showing best parameters for the grid search\n",
      "\n",
      "{'max_depth': 6, 'min_samples_leaf': 60, 'min_samples_split': 200}\n",
      "\n",
      " Classification Report for Train dataset\n",
      "\n",
      "              precision    recall  f1-score   support\n",
      "\n",
      "           0       0.83      0.88      0.85      1471\n",
      "           1       0.67      0.57      0.62       629\n",
      "\n",
      "    accuracy                           0.79      2100\n",
      "   macro avg       0.75      0.73      0.73      2100\n",
      "weighted avg       0.78      0.79      0.78      2100\n",
      "\n",
      "\n",
      " Classification Report for Test dataset\n",
      "\n",
      "              precision    recall  f1-score   support\n",
      "\n",
      "           0       0.78      0.91      0.84       605\n",
      "           1       0.73      0.48      0.58       295\n",
      "\n",
      "    accuracy                           0.77       900\n",
      "   macro avg       0.75      0.70      0.71       900\n",
      "weighted avg       0.76      0.77      0.76       900\n",
      "\n"
     ]
    }
   ],
   "source": [
    "param_grid = {\n",
    "    'max_depth': [4, 6, 8],\n",
    "    'min_samples_leaf': [50, 60, 70],\n",
    "    'min_samples_split': [160, 180, 200]\n",
    "}\n",
    "grid_search = run_gridsearch(dt_model,param_grid,X_train, train_labels,cv_value)\n",
    "check_performance(grid_search,X_train, X_test, train_labels, test_labels)"
   ]
  },
  {
   "cell_type": "markdown",
   "metadata": {},
   "source": [
    "Similar results with no improvement in recall"
   ]
  },
  {
   "cell_type": "code",
   "execution_count": 1527,
   "metadata": {},
   "outputs": [
    {
     "name": "stdout",
     "output_type": "stream",
     "text": [
      "\n",
      " Running grid search\n",
      "\n",
      "\n",
      " Showing best parameters for the grid search\n",
      "\n",
      "{'max_depth': 10, 'min_samples_leaf': 50, 'min_samples_split': 150}\n",
      "\n",
      " Classification Report for Train dataset\n",
      "\n",
      "              precision    recall  f1-score   support\n",
      "\n",
      "           0       0.81      0.92      0.86      1471\n",
      "           1       0.72      0.50      0.59       629\n",
      "\n",
      "    accuracy                           0.79      2100\n",
      "   macro avg       0.77      0.71      0.73      2100\n",
      "weighted avg       0.78      0.79      0.78      2100\n",
      "\n",
      "\n",
      " Classification Report for Test dataset\n",
      "\n",
      "              precision    recall  f1-score   support\n",
      "\n",
      "           0       0.76      0.93      0.83       605\n",
      "           1       0.73      0.38      0.50       295\n",
      "\n",
      "    accuracy                           0.75       900\n",
      "   macro avg       0.74      0.66      0.67       900\n",
      "weighted avg       0.75      0.75      0.72       900\n",
      "\n"
     ]
    }
   ],
   "source": [
    "param_grid = {\n",
    "    'max_depth': [10, 20, 30, 50],\n",
    "    'min_samples_leaf': [50, 100, 150],\n",
    "    'min_samples_split': [150, 300, 450]\n",
    "}\n",
    "grid_search = run_gridsearch(dt_model,param_grid,X_train, train_labels,cv_value)\n",
    "check_performance(grid_search,X_train, X_test, train_labels, test_labels)"
   ]
  },
  {
   "cell_type": "code",
   "execution_count": null,
   "metadata": {},
   "outputs": [],
   "source": []
  },
  {
   "cell_type": "code",
   "execution_count": 1528,
   "metadata": {},
   "outputs": [
    {
     "name": "stdout",
     "output_type": "stream",
     "text": [
      "\n",
      " Running grid search\n",
      "\n",
      "\n",
      " Showing best parameters for the grid search\n",
      "\n",
      "{'max_depth': 5, 'min_samples_leaf': 60, 'min_samples_split': 212}\n",
      "\n",
      " Classification Report for Train dataset\n",
      "\n",
      "              precision    recall  f1-score   support\n",
      "\n",
      "           0       0.83      0.88      0.85      1471\n",
      "           1       0.67      0.57      0.62       629\n",
      "\n",
      "    accuracy                           0.79      2100\n",
      "   macro avg       0.75      0.73      0.73      2100\n",
      "weighted avg       0.78      0.79      0.78      2100\n",
      "\n",
      "\n",
      " Classification Report for Test dataset\n",
      "\n",
      "              precision    recall  f1-score   support\n",
      "\n",
      "           0       0.78      0.91      0.84       605\n",
      "           1       0.73      0.48      0.58       295\n",
      "\n",
      "    accuracy                           0.77       900\n",
      "   macro avg       0.75      0.70      0.71       900\n",
      "weighted avg       0.76      0.77      0.76       900\n",
      "\n"
     ]
    }
   ],
   "source": [
    "param_grid = {\n",
    "    'max_depth': [4,5,6],\n",
    "    'min_samples_leaf': [58, 60, 62],\n",
    "    'min_samples_split': [208, 210, 212]\n",
    "}\n",
    "grid_search = run_gridsearch(dt_model,param_grid,X_train, train_labels,cv_value)\n",
    "check_performance(grid_search,X_train, X_test, train_labels, test_labels)"
   ]
  },
  {
   "cell_type": "code",
   "execution_count": 1529,
   "metadata": {},
   "outputs": [
    {
     "name": "stdout",
     "output_type": "stream",
     "text": [
      "\n",
      " Running grid search\n",
      "\n",
      "\n",
      " Showing best parameters for the grid search\n",
      "\n",
      "{'max_depth': 5, 'min_samples_leaf': 60, 'min_samples_split': 211}\n",
      "\n",
      " Classification Report for Train dataset\n",
      "\n",
      "              precision    recall  f1-score   support\n",
      "\n",
      "           0       0.83      0.88      0.85      1471\n",
      "           1       0.67      0.57      0.62       629\n",
      "\n",
      "    accuracy                           0.79      2100\n",
      "   macro avg       0.75      0.73      0.73      2100\n",
      "weighted avg       0.78      0.79      0.78      2100\n",
      "\n",
      "\n",
      " Classification Report for Test dataset\n",
      "\n",
      "              precision    recall  f1-score   support\n",
      "\n",
      "           0       0.78      0.91      0.84       605\n",
      "           1       0.73      0.48      0.58       295\n",
      "\n",
      "    accuracy                           0.77       900\n",
      "   macro avg       0.75      0.70      0.71       900\n",
      "weighted avg       0.76      0.77      0.76       900\n",
      "\n"
     ]
    }
   ],
   "source": [
    "param_grid = {\n",
    "    'max_depth': [4,5,6],\n",
    "    'min_samples_leaf': [59, 60, 61],\n",
    "    'min_samples_split': [210,211,212]\n",
    "}\n",
    "grid_search = run_gridsearch(dt_model,param_grid,X_train, train_labels,cv_value,scoring_value)\n",
    "check_performance(grid_search,X_train, X_test, train_labels, test_labels)"
   ]
  },
  {
   "cell_type": "markdown",
   "metadata": {},
   "source": [
    "We are not getting significant improvement in the output even after changing pruning parameters several times. Trying to change the scoring parameter in search grid for recall."
   ]
  },
  {
   "cell_type": "code",
   "execution_count": 1530,
   "metadata": {},
   "outputs": [
    {
     "name": "stdout",
     "output_type": "stream",
     "text": [
      "\n",
      " Running grid search\n",
      "\n",
      "\n",
      " Showing best parameters for the grid search\n",
      "\n",
      "{'max_depth': 5, 'min_samples_leaf': 5, 'min_samples_split': 15}\n",
      "\n",
      " Classification Report for Train dataset\n",
      "\n",
      "              precision    recall  f1-score   support\n",
      "\n",
      "           0       0.84      0.88      0.86      1471\n",
      "           1       0.69      0.61      0.65       629\n",
      "\n",
      "    accuracy                           0.80      2100\n",
      "   macro avg       0.77      0.75      0.76      2100\n",
      "weighted avg       0.80      0.80      0.80      2100\n",
      "\n",
      "\n",
      " Classification Report for Test dataset\n",
      "\n",
      "              precision    recall  f1-score   support\n",
      "\n",
      "           0       0.79      0.90      0.84       605\n",
      "           1       0.72      0.51      0.60       295\n",
      "\n",
      "    accuracy                           0.77       900\n",
      "   macro avg       0.75      0.71      0.72       900\n",
      "weighted avg       0.77      0.77      0.76       900\n",
      "\n"
     ]
    }
   ],
   "source": [
    "param_grid = {\n",
    "    'max_depth': [2,5,8],\n",
    "    'min_samples_leaf': [5, 40, 60],\n",
    "    'min_samples_split': [15,180,211]\n",
    "}\n",
    "scoring_value = 'recall'\n",
    "grid_search = run_gridsearch(dt_model,param_grid,X_train, train_labels,cv_value,scoring_value)\n",
    "check_performance(grid_search,X_train, X_test, train_labels, test_labels)"
   ]
  },
  {
   "cell_type": "markdown",
   "metadata": {},
   "source": [
    "Now we can seet that without comprimising on accuracy, recall rate has gone up by 4-5% for both test and train data set. Hence we are stopping here"
   ]
  },
  {
   "cell_type": "markdown",
   "metadata": {},
   "source": [
    "#### Saving the results of best search grid "
   ]
  },
  {
   "cell_type": "code",
   "execution_count": 1531,
   "metadata": {},
   "outputs": [],
   "source": [
    "best_grid = grid_search.best_estimator_\n",
    "ytrain_predict_CART = best_grid.predict(X_train)\n",
    "ytest_predict_CART = best_grid.predict(X_test)\n"
   ]
  },
  {
   "cell_type": "markdown",
   "metadata": {},
   "source": [
    "### Generating New Tree"
   ]
  },
  {
   "cell_type": "code",
   "execution_count": 1532,
   "metadata": {},
   "outputs": [],
   "source": [
    "df2_tree_regularized = open('df2_tree_regularized.dot','w')\n",
    "dot_data = tree.export_graphviz(best_grid, out_file= df2_tree_regularized , feature_names = list(X_train), class_names = list(train_char_label))\n",
    "\n",
    "df2_tree_regularized.close()\n",
    "dot_data"
   ]
  },
  {
   "cell_type": "markdown",
   "metadata": {},
   "source": [
    "### Variable Importance"
   ]
  },
  {
   "cell_type": "code",
   "execution_count": 1533,
   "metadata": {},
   "outputs": [
    {
     "data": {
      "text/html": [
       "<div>\n",
       "<style scoped>\n",
       "    .dataframe tbody tr th:only-of-type {\n",
       "        vertical-align: middle;\n",
       "    }\n",
       "\n",
       "    .dataframe tbody tr th {\n",
       "        vertical-align: top;\n",
       "    }\n",
       "\n",
       "    .dataframe thead th {\n",
       "        text-align: right;\n",
       "    }\n",
       "</style>\n",
       "<table border=\"1\" class=\"dataframe\">\n",
       "  <thead>\n",
       "    <tr style=\"text-align: right;\">\n",
       "      <th></th>\n",
       "      <th>Important Feature</th>\n",
       "    </tr>\n",
       "  </thead>\n",
       "  <tbody>\n",
       "    <tr>\n",
       "      <th>Agency_Code</th>\n",
       "      <td>55.965392</td>\n",
       "    </tr>\n",
       "    <tr>\n",
       "      <th>Sales</th>\n",
       "      <td>24.945289</td>\n",
       "    </tr>\n",
       "    <tr>\n",
       "      <th>Product Name</th>\n",
       "      <td>7.185651</td>\n",
       "    </tr>\n",
       "    <tr>\n",
       "      <th>Duration</th>\n",
       "      <td>5.414738</td>\n",
       "    </tr>\n",
       "    <tr>\n",
       "      <th>Commision</th>\n",
       "      <td>3.781270</td>\n",
       "    </tr>\n",
       "    <tr>\n",
       "      <th>Channel</th>\n",
       "      <td>1.500579</td>\n",
       "    </tr>\n",
       "    <tr>\n",
       "      <th>Type</th>\n",
       "      <td>0.687259</td>\n",
       "    </tr>\n",
       "    <tr>\n",
       "      <th>Age</th>\n",
       "      <td>0.519822</td>\n",
       "    </tr>\n",
       "    <tr>\n",
       "      <th>Destination</th>\n",
       "      <td>0.000000</td>\n",
       "    </tr>\n",
       "  </tbody>\n",
       "</table>\n",
       "</div>"
      ],
      "text/plain": [
       "              Important Feature\n",
       "Agency_Code           55.965392\n",
       "Sales                 24.945289\n",
       "Product Name           7.185651\n",
       "Duration               5.414738\n",
       "Commision              3.781270\n",
       "Channel                1.500579\n",
       "Type                   0.687259\n",
       "Age                    0.519822\n",
       "Destination            0.000000"
      ]
     },
     "execution_count": 1533,
     "metadata": {},
     "output_type": "execute_result"
    }
   ],
   "source": [
    "df2_fi=pd.DataFrame(best_grid.feature_importances_*100, columns = [\"Important Feature\"], index = X_train.columns).sort_values('Important Feature',ascending=False)\n",
    "df2_fi"
   ]
  },
  {
   "cell_type": "code",
   "execution_count": 1534,
   "metadata": {},
   "outputs": [
    {
     "data": {
      "image/png": "[encoded data removed]",
      "text/plain": [
       "<Figure size 720x432 with 1 Axes>"
      ]
     },
     "metadata": {
      "needs_background": "light"
     },
     "output_type": "display_data"
    }
   ],
   "source": [
    "plt.figure(figsize=(10,6))\n",
    "plots=sns.barplot(data=df2_fi,x=\"Important Feature\",y=df2_fi.index,palette='rainbow')\n",
    "plt.ylabel('Feature Name')\n",
    "plt.xlabel('Feature Importance in %')\n",
    "plt.title('Feature Importance Plot')\n",
    "\n",
    "# Iterrating over the bars one-by-one \n",
    "for bar in plots.patches: \n",
    "      #print ('bar_width:', format(bar.get_width(), '.2f'),'bar_height:' , bar.get_height(), 'get_x:', bar.get_x() ,'get_y', bar.get_y() )\n",
    "      plots.annotate(format(bar.get_width(), '.2f'), (bar.get_width() , bar.get_y() + bar.get_height()/2),\n",
    "                   ha='center', va='center', \n",
    "                   size=10, xytext=(13, 0), \n",
    "                   textcoords='offset points') \n",
    "plt.show()"
   ]
  },
  {
   "cell_type": "markdown",
   "metadata": {},
   "source": [
    "#### As per this model, attributes like Type, Commission, Channel and Destination have no imortance in predicting the insurance claims"
   ]
  },
  {
   "cell_type": "markdown",
   "metadata": {},
   "source": [
    "## Model Evaluation"
   ]
  },
  {
   "cell_type": "markdown",
   "metadata": {},
   "source": [
    "### Model Score"
   ]
  },
  {
   "cell_type": "markdown",
   "metadata": {},
   "source": [
    "#### Model score for the Training Data"
   ]
  },
  {
   "cell_type": "code",
   "execution_count": 1535,
   "metadata": {},
   "outputs": [
    {
     "data": {
      "text/plain": [
       "0.8028571428571428"
      ]
     },
     "execution_count": 1535,
     "metadata": {},
     "output_type": "execute_result"
    }
   ],
   "source": [
    "#Train Data Accuracy\n",
    "cart_train_acc=best_grid.score(X_train,train_labels)\n",
    "cart_train_acc"
   ]
  },
  {
   "cell_type": "markdown",
   "metadata": {},
   "source": [
    "#### Model score for the Testing Data"
   ]
  },
  {
   "cell_type": "code",
   "execution_count": 1536,
   "metadata": {},
   "outputs": [
    {
     "data": {
      "text/plain": [
       "0.7733333333333333"
      ]
     },
     "execution_count": 1536,
     "metadata": {},
     "output_type": "execute_result"
    }
   ],
   "source": [
    "#Test Data Accuracy\n",
    "cart_test_acc=best_grid.score(X_test,test_labels)\n",
    "cart_test_acc"
   ]
  },
  {
   "cell_type": "markdown",
   "metadata": {},
   "source": [
    "### Measuring AUC-ROC Curve"
   ]
  },
  {
   "cell_type": "code",
   "execution_count": 1427,
   "metadata": {},
   "outputs": [],
   "source": [
    "from sklearn.metrics import roc_auc_score\n",
    "from sklearn.metrics import roc_curve"
   ]
  },
  {
   "cell_type": "code",
   "execution_count": 1428,
   "metadata": {},
   "outputs": [],
   "source": [
    "# creating user define function for calculating AUC and plotting the ROC curve\n",
    "def calc_AUC_ROC_curve(probs,labels):\n",
    "    # keep probabilities for the positive outcome only\n",
    "    probs = probs[:, 1]\n",
    "    # calculate AUC   \n",
    "    auc = roc_auc_score(labels, probs)\n",
    "    print('AUC: %.3f' % auc)\n",
    "    # calculate roc curve   \n",
    "    fpr, tpr, thresholds = roc_curve(labels, probs)\n",
    "    plt.plot([0, 1], [0, 1], linestyle='--')\n",
    "    # plot the roc curve for the model\n",
    "    plt.plot(fpr, tpr, marker='.')\n",
    "    plt.title('ROC Curve')\n",
    "    plt.xlabel('False Positive Rate')\n",
    "    plt.ylabel('True Positive Rate')\n",
    "    # show the plot\n",
    "    plt.show()\n",
    "    return auc,fpr, tpr, thresholds"
   ]
  },
  {
   "cell_type": "markdown",
   "metadata": {},
   "source": [
    "#### AUC and ROC for the training data"
   ]
  },
  {
   "cell_type": "code",
   "execution_count": 1429,
   "metadata": {},
   "outputs": [
    {
     "name": "stdout",
     "output_type": "stream",
     "text": [
      "AUC: 0.846\n"
     ]
    },
    {
     "data": {
      "image/png": "[encoded data removed]",
      "text/plain": [
       "<Figure size 432x288 with 1 Axes>"
      ]
     },
     "metadata": {
      "needs_background": "light"
     },
     "output_type": "display_data"
    }
   ],
   "source": [
    "probs = best_grid.predict_proba(X_train)\n",
    "cart_train_auc,cart_train_fpr, cart_train_tpr, cart_train_thresholds=calc_AUC_ROC_curve(probs,train_labels)"
   ]
  },
  {
   "cell_type": "markdown",
   "metadata": {},
   "source": [
    "#### AUC and ROC for the test data"
   ]
  },
  {
   "cell_type": "code",
   "execution_count": 1430,
   "metadata": {},
   "outputs": [
    {
     "name": "stdout",
     "output_type": "stream",
     "text": [
      "AUC: 0.802\n"
     ]
    },
    {
     "data": {
      "image/png": "[encoded data removed]",
      "text/plain": [
       "<Figure size 432x288 with 1 Axes>"
      ]
     },
     "metadata": {
      "needs_background": "light"
     },
     "output_type": "display_data"
    }
   ],
   "source": [
    "probs = best_grid.predict_proba(X_test)\n",
    "cart_test_auc,cart_test_fpr, cart_test_tpr, cart_test_thresholds=calc_AUC_ROC_curve(probs,test_labels)"
   ]
  },
  {
   "cell_type": "markdown",
   "metadata": {},
   "source": [
    "### Confusion Matrix for the Training data"
   ]
  },
  {
   "cell_type": "code",
   "execution_count": 1431,
   "metadata": {},
   "outputs": [],
   "source": [
    "from sklearn.metrics import classification_report,confusion_matrix"
   ]
  },
  {
   "cell_type": "code",
   "execution_count": 1432,
   "metadata": {},
   "outputs": [
    {
     "data": {
      "image/png": "[encoded data removed]",
      "text/plain": [
       "<Figure size 432x288 with 1 Axes>"
      ]
     },
     "metadata": {
      "needs_background": "light"
     },
     "output_type": "display_data"
    }
   ],
   "source": [
    "sns.heatmap(confusion_matrix(train_labels, ytrain_predict_CART), annot =True, cmap='YlGnBu', fmt='d', cbar =False).set(Title='Confusion Matrix of Training Data',xlabel='Predicted Label', ylabel='Actual Label');"
   ]
  },
  {
   "cell_type": "markdown",
   "metadata": {},
   "source": [
    "#### Classification Report for Training data"
   ]
  },
  {
   "cell_type": "code",
   "execution_count": 1433,
   "metadata": {},
   "outputs": [
    {
     "name": "stdout",
     "output_type": "stream",
     "text": [
      "              precision    recall  f1-score   support\n",
      "\n",
      "           0       0.84      0.88      0.86      1471\n",
      "           1       0.69      0.61      0.65       629\n",
      "\n",
      "    accuracy                           0.80      2100\n",
      "   macro avg       0.77      0.75      0.76      2100\n",
      "weighted avg       0.80      0.80      0.80      2100\n",
      "\n"
     ]
    }
   ],
   "source": [
    "print (classification_report(train_labels,ytrain_predict_CART))"
   ]
  },
  {
   "cell_type": "code",
   "execution_count": 1434,
   "metadata": {},
   "outputs": [
    {
     "name": "stdout",
     "output_type": "stream",
     "text": [
      "cart_train_precision  0.69\n",
      "cart_train_recall  0.61\n",
      "cart_train_f1  0.65\n"
     ]
    }
   ],
   "source": [
    "cart_metrics=classification_report(train_labels, ytrain_predict_CART,output_dict=True)\n",
    "df2_metrics=pd.DataFrame(cart_metrics).transpose()\n",
    "cart_train_f1=round(df2_metrics.loc[\"1\"][2],2)\n",
    "cart_train_recall=round(df2_metrics.loc[\"1\"][1],2)\n",
    "cart_train_precision=round(df2_metrics.loc[\"1\"][0],2)\n",
    "print ('cart_train_precision ',cart_train_precision)\n",
    "print ('cart_train_recall ',cart_train_recall)\n",
    "print ('cart_train_f1 ',cart_train_f1)"
   ]
  },
  {
   "cell_type": "markdown",
   "metadata": {},
   "source": [
    "### Confusion Matrix for the Testing data"
   ]
  },
  {
   "cell_type": "code",
   "execution_count": 1435,
   "metadata": {},
   "outputs": [
    {
     "data": {
      "image/png": "[encoded data removed]",
      "text/plain": [
       "<Figure size 432x288 with 1 Axes>"
      ]
     },
     "metadata": {
      "needs_background": "light"
     },
     "output_type": "display_data"
    }
   ],
   "source": [
    "sns.heatmap(confusion_matrix(test_labels, ytest_predict_CART), annot =True, cmap='YlGnBu', fmt='d', cbar =False).set(Title='Confusion Matrix of Testing Data',xlabel='Predicted Label', ylabel='Actual Label');"
   ]
  },
  {
   "cell_type": "markdown",
   "metadata": {},
   "source": [
    "#### Classification Report for Testing data"
   ]
  },
  {
   "cell_type": "code",
   "execution_count": 1436,
   "metadata": {},
   "outputs": [
    {
     "name": "stdout",
     "output_type": "stream",
     "text": [
      "              precision    recall  f1-score   support\n",
      "\n",
      "           0       0.79      0.90      0.84       605\n",
      "           1       0.72      0.51      0.60       295\n",
      "\n",
      "    accuracy                           0.77       900\n",
      "   macro avg       0.75      0.71      0.72       900\n",
      "weighted avg       0.77      0.77      0.76       900\n",
      "\n"
     ]
    }
   ],
   "source": [
    "print (classification_report(test_labels,ytest_predict_CART))"
   ]
  },
  {
   "cell_type": "code",
   "execution_count": 1437,
   "metadata": {},
   "outputs": [
    {
     "name": "stdout",
     "output_type": "stream",
     "text": [
      "cart_test_precision  0.72\n",
      "cart_test_recall  0.51\n",
      "cart_test_f1  0.6\n"
     ]
    }
   ],
   "source": [
    "cart_metrics=classification_report(test_labels, ytest_predict_CART,output_dict=True)\n",
    "df2_metrics=pd.DataFrame(cart_metrics).transpose()\n",
    "cart_test_precision=round(df2_metrics.loc[\"1\"][0],2)\n",
    "cart_test_recall=round(df2_metrics.loc[\"1\"][1],2)\n",
    "cart_test_f1=round(df2_metrics.loc[\"1\"][2],2)\n",
    "print ('cart_test_precision ',cart_test_precision)\n",
    "print ('cart_test_recall ',cart_test_recall)\n",
    "print ('cart_test_f1 ',cart_test_f1)"
   ]
  },
  {
   "cell_type": "markdown",
   "metadata": {},
   "source": [
    "### CART Conclusion"
   ]
  },
  {
   "cell_type": "markdown",
   "metadata": {},
   "source": [
    "<b>Train Data: </b>\n",
    "\n",
    "    AUC: 84%\n",
    "    Accuracy: 80%\n",
    "    Precision: 69%\n",
    "    f1-Score: 65%\n",
    "    Recall: 61%\n",
    "\n",
    "<b>Test Data: </b>\n",
    "\n",
    "    AUC: 80%\n",
    "    Accuracy: 77%\n",
    "    Precision: 72%\n",
    "    f1-Score: 60%\n",
    "    Recall: 51%\n",
    "\n",
    "\n",
    "Except Recall, other measures for test and train are inline with each other. Model is slighly overfitted as difference in recall in test and train is near about 10%\n",
    "\n",
    "With recall rate of 51%, model is only able to predict 51% of total tours which were actually claimed as claimed.\n",
    "\n",
    "Precision is 72% of test data which means, out of total tours predicted by model as claimed , 72% were actually claimed.\n",
    "\n",
    "F1-score is the harmonic mean of precision and recall, it takes into the effect of both the scores and this value is low if any of these 2 value is low.\n",
    "\n",
    "Agency Code, Sales, Product Name, Duration and Commission (in same order of preference) are the most important variables in determining if a tour will be claimed from insurance company\n",
    "\n",
    "Since we are building a model to predict if a tour will be claimed for insurance or not, for practical purposes, we will be more interested in correctly classifying 1 (taking insurance claim) than 0(not taking insurance claim).\n",
    "\n",
    "If a tour not claiming by the insurer is incorrectly predicted to be claimed by the model, then the impact on cost for the insurance company would be bare minimum. But if a tour claimed by the insurer is incorrectly predicted to be not claimed by the model, then the cost impact would be very high for the insurance company. Hence recall rate (actual data point identified as True by model) is very important in this scenario.\n",
    "\n",
    "#### As Recall rate of test dataset is very poor around 50% thus this doesnt looks good enough for classification \n",
    "\n"
   ]
  },
  {
   "cell_type": "markdown",
   "metadata": {},
   "source": [
    "# Ensemble RandomForest Classifier"
   ]
  },
  {
   "cell_type": "code",
   "execution_count": 1438,
   "metadata": {},
   "outputs": [],
   "source": [
    "from sklearn.ensemble import RandomForestClassifier"
   ]
  },
  {
   "cell_type": "code",
   "execution_count": 1439,
   "metadata": {},
   "outputs": [],
   "source": [
    "rfcl = RandomForestClassifier(random_state=1)"
   ]
  },
  {
   "cell_type": "markdown",
   "metadata": {},
   "source": [
    "Initially we need to assume values of search grid parameters. \n",
    " \n",
    "like in decision tree visualization , we can see that tree has overgrown to about 25-26 depth, hence we are taking max_depth as [5 10]\n",
    "\n",
    "max_features is taken as [5 8]. 5 is middle value and 8 is near about the max (9).\n",
    "\n",
    "min_samples_leaf is normally taken around 1-3% of observations (2000 in train) , hence taking it as [20 100]\n",
    "\n",
    "min_samples_split is normally 3 times min_samples_leaf, hence taking it as [60 250].\n",
    "\n",
    "CV parameter is taken as 3 (3 cross fold validation)\n",
    "\n",
    "n_estimators is taken as 501."
   ]
  },
  {
   "cell_type": "code",
   "execution_count": 1440,
   "metadata": {},
   "outputs": [
    {
     "name": "stdout",
     "output_type": "stream",
     "text": [
      "\n",
      " Running grid search\n",
      "\n",
      "\n",
      " Showing best parameters for the grid search\n",
      "\n",
      "{'max_depth': 5, 'max_features': 8, 'min_samples_leaf': 20, 'min_samples_split': 60, 'n_estimators': 501}\n",
      "\n",
      " Classification Report for Train dataset\n",
      "\n",
      "              precision    recall  f1-score   support\n",
      "\n",
      "           0       0.84      0.89      0.86      1471\n",
      "           1       0.70      0.60      0.65       629\n",
      "\n",
      "    accuracy                           0.80      2100\n",
      "   macro avg       0.77      0.75      0.76      2100\n",
      "weighted avg       0.80      0.80      0.80      2100\n",
      "\n",
      "\n",
      " Classification Report for Test dataset\n",
      "\n",
      "              precision    recall  f1-score   support\n",
      "\n",
      "           0       0.78      0.91      0.84       605\n",
      "           1       0.73      0.48      0.58       295\n",
      "\n",
      "    accuracy                           0.77       900\n",
      "   macro avg       0.75      0.70      0.71       900\n",
      "weighted avg       0.76      0.77      0.76       900\n",
      "\n"
     ]
    }
   ],
   "source": [
    "cv_value=3\n",
    "param_grid = {\n",
    "    'max_depth': [5, 10],\n",
    "    'max_features': [5, 8],\n",
    "    'min_samples_leaf': [20, 100],\n",
    "    'min_samples_split': [60, 250],\n",
    "    'n_estimators': [501]\n",
    "}\n",
    "\n",
    "grid_search = run_gridsearch(rfcl,param_grid,X_train, train_labels,cv_value)\n",
    "\n",
    "check_performance(grid_search,X_train, X_test, train_labels, test_labels)"
   ]
  },
  {
   "cell_type": "code",
   "execution_count": 1441,
   "metadata": {},
   "outputs": [
    {
     "name": "stdout",
     "output_type": "stream",
     "text": [
      "\n",
      " Running grid search\n",
      "\n",
      "\n",
      " Showing best parameters for the grid search\n",
      "\n",
      "{'max_depth': 20, 'max_features': 8, 'min_samples_leaf': 2, 'min_samples_split': 40, 'n_estimators': 500}\n",
      "\n",
      " Classification Report for Train dataset\n",
      "\n",
      "              precision    recall  f1-score   support\n",
      "\n",
      "           0       0.86      0.92      0.89      1471\n",
      "           1       0.77      0.64      0.70       629\n",
      "\n",
      "    accuracy                           0.83      2100\n",
      "   macro avg       0.81      0.78      0.79      2100\n",
      "weighted avg       0.83      0.83      0.83      2100\n",
      "\n",
      "\n",
      " Classification Report for Test dataset\n",
      "\n",
      "              precision    recall  f1-score   support\n",
      "\n",
      "           0       0.78      0.91      0.84       605\n",
      "           1       0.73      0.47      0.57       295\n",
      "\n",
      "    accuracy                           0.77       900\n",
      "   macro avg       0.75      0.69      0.71       900\n",
      "weighted avg       0.76      0.77      0.75       900\n",
      "\n"
     ]
    }
   ],
   "source": [
    "param_grid = {\n",
    "    'max_depth': [20, 25],\n",
    "    'max_features': [8, 10],\n",
    "    'min_samples_leaf': [2, 20],\n",
    "    'min_samples_split': [40, 50],\n",
    "    'n_estimators': [500]\n",
    "}\n",
    "grid_search = run_gridsearch(rfcl,param_grid,X_train, train_labels,cv_value)\n",
    "check_performance(grid_search,X_train, X_test, train_labels, test_labels)"
   ]
  },
  {
   "cell_type": "markdown",
   "metadata": {},
   "source": [
    "We are not getting better results after changing parameters. Lets try changing the scoring_value to recall"
   ]
  },
  {
   "cell_type": "code",
   "execution_count": 1442,
   "metadata": {},
   "outputs": [
    {
     "name": "stdout",
     "output_type": "stream",
     "text": [
      "\n",
      " Running grid search\n",
      "\n",
      "\n",
      " Showing best parameters for the grid search\n",
      "\n",
      "{'max_depth': 15, 'max_features': 5, 'min_samples_leaf': 2, 'min_samples_split': 40, 'n_estimators': 500, 'oob_score': True}\n",
      "\n",
      " Classification Report for Train dataset\n",
      "\n",
      "              precision    recall  f1-score   support\n",
      "\n",
      "           0       0.85      0.92      0.88      1471\n",
      "           1       0.76      0.64      0.69       629\n",
      "\n",
      "    accuracy                           0.83      2100\n",
      "   macro avg       0.81      0.78      0.79      2100\n",
      "weighted avg       0.83      0.83      0.83      2100\n",
      "\n",
      "\n",
      " Classification Report for Test dataset\n",
      "\n",
      "              precision    recall  f1-score   support\n",
      "\n",
      "           0       0.79      0.91      0.84       605\n",
      "           1       0.73      0.49      0.59       295\n",
      "\n",
      "    accuracy                           0.77       900\n",
      "   macro avg       0.76      0.70      0.72       900\n",
      "weighted avg       0.77      0.77      0.76       900\n",
      "\n"
     ]
    }
   ],
   "source": [
    "param_grid = {\n",
    "    'max_depth': [15],\n",
    "    'max_features': [5],\n",
    "    'min_samples_leaf': [2],\n",
    "    'min_samples_split': [40, 45],\n",
    "    'oob_score': [True],\n",
    "    'n_estimators': [500]\n",
    "}\n",
    "scoring_value = 'recall'\n",
    "grid_search = run_gridsearch(rfcl,param_grid,X_train, train_labels,cv_value,scoring_value)\n",
    "check_performance(grid_search,X_train, X_test, train_labels, test_labels)"
   ]
  },
  {
   "cell_type": "markdown",
   "metadata": {},
   "source": [
    "After several trials, we are not getting any better results from the model. So we are stopping here"
   ]
  },
  {
   "cell_type": "markdown",
   "metadata": {},
   "source": [
    "#### Saving the results of best search grid "
   ]
  },
  {
   "cell_type": "code",
   "execution_count": 1443,
   "metadata": {},
   "outputs": [],
   "source": [
    "best_grid = grid_search.best_estimator_\n",
    "ytrain_predict_RF = best_grid.predict(X_train)\n",
    "ytest_predict_RF = best_grid.predict(X_test)\n"
   ]
  },
  {
   "cell_type": "markdown",
   "metadata": {},
   "source": [
    "### Variable Importance"
   ]
  },
  {
   "cell_type": "code",
   "execution_count": 1444,
   "metadata": {},
   "outputs": [
    {
     "data": {
      "text/html": [
       "<div>\n",
       "<style scoped>\n",
       "    .dataframe tbody tr th:only-of-type {\n",
       "        vertical-align: middle;\n",
       "    }\n",
       "\n",
       "    .dataframe tbody tr th {\n",
       "        vertical-align: top;\n",
       "    }\n",
       "\n",
       "    .dataframe thead th {\n",
       "        text-align: right;\n",
       "    }\n",
       "</style>\n",
       "<table border=\"1\" class=\"dataframe\">\n",
       "  <thead>\n",
       "    <tr style=\"text-align: right;\">\n",
       "      <th></th>\n",
       "      <th>Important Feature</th>\n",
       "    </tr>\n",
       "  </thead>\n",
       "  <tbody>\n",
       "    <tr>\n",
       "      <th>Agency_Code</th>\n",
       "      <td>28.218226</td>\n",
       "    </tr>\n",
       "    <tr>\n",
       "      <th>Sales</th>\n",
       "      <td>18.581505</td>\n",
       "    </tr>\n",
       "    <tr>\n",
       "      <th>Product Name</th>\n",
       "      <td>16.677787</td>\n",
       "    </tr>\n",
       "    <tr>\n",
       "      <th>Duration</th>\n",
       "      <td>12.105981</td>\n",
       "    </tr>\n",
       "    <tr>\n",
       "      <th>Commision</th>\n",
       "      <td>11.022233</td>\n",
       "    </tr>\n",
       "    <tr>\n",
       "      <th>Age</th>\n",
       "      <td>8.768888</td>\n",
       "    </tr>\n",
       "    <tr>\n",
       "      <th>Type</th>\n",
       "      <td>2.858723</td>\n",
       "    </tr>\n",
       "    <tr>\n",
       "      <th>Destination</th>\n",
       "      <td>1.131458</td>\n",
       "    </tr>\n",
       "    <tr>\n",
       "      <th>Channel</th>\n",
       "      <td>0.635199</td>\n",
       "    </tr>\n",
       "  </tbody>\n",
       "</table>\n",
       "</div>"
      ],
      "text/plain": [
       "              Important Feature\n",
       "Agency_Code           28.218226\n",
       "Sales                 18.581505\n",
       "Product Name          16.677787\n",
       "Duration              12.105981\n",
       "Commision             11.022233\n",
       "Age                    8.768888\n",
       "Type                   2.858723\n",
       "Destination            1.131458\n",
       "Channel                0.635199"
      ]
     },
     "execution_count": 1444,
     "metadata": {},
     "output_type": "execute_result"
    }
   ],
   "source": [
    "df2_fi=pd.DataFrame(best_grid.feature_importances_*100, columns = [\"Important Feature\"], index = X_train.columns).sort_values('Important Feature',ascending=False)\n",
    "df2_fi"
   ]
  },
  {
   "cell_type": "code",
   "execution_count": 1445,
   "metadata": {},
   "outputs": [
    {
     "data": {
      "image/png": "[encoded data removed]",
      "text/plain": [
       "<Figure size 720x432 with 1 Axes>"
      ]
     },
     "metadata": {
      "needs_background": "light"
     },
     "output_type": "display_data"
    }
   ],
   "source": [
    "plt.figure(figsize=(10,6))\n",
    "plots=sns.barplot(data=df2_fi,x=\"Important Feature\",y=df2_fi.index,palette='rainbow')\n",
    "plt.ylabel('Feature Name')\n",
    "plt.xlabel('Feature Importance in %')\n",
    "plt.title('Feature Importance Plot as per RF')\n",
    "\n",
    "# Iterrating over the bars one-by-one \n",
    "for bar in plots.patches: \n",
    "      #print ('bar_width:', format(bar.get_width(), '.2f'),'bar_height:' , bar.get_height(), 'get_x:', bar.get_x() ,'get_y', bar.get_y() )\n",
    "      plots.annotate(format(bar.get_width(), '.2f'), (bar.get_width() , bar.get_y() + bar.get_height()/2),\n",
    "                   ha='center', va='center', \n",
    "                   size=10, xytext=(13, 0), \n",
    "                   textcoords='offset points') \n",
    "plt.show()"
   ]
  },
  {
   "cell_type": "markdown",
   "metadata": {},
   "source": [
    "#### As per this model, attributes like Type, Commission, Channel and Destination have no imortance in predicting the insurance claims"
   ]
  },
  {
   "cell_type": "markdown",
   "metadata": {},
   "source": [
    "## Model Evaluation"
   ]
  },
  {
   "cell_type": "markdown",
   "metadata": {},
   "source": [
    "### Model Score"
   ]
  },
  {
   "cell_type": "markdown",
   "metadata": {},
   "source": [
    "#### Model score for the Training Data"
   ]
  },
  {
   "cell_type": "code",
   "execution_count": 1446,
   "metadata": {},
   "outputs": [
    {
     "data": {
      "text/plain": [
       "0.8319047619047619"
      ]
     },
     "execution_count": 1446,
     "metadata": {},
     "output_type": "execute_result"
    }
   ],
   "source": [
    "#Train Data Accuracy\n",
    "rf_train_acc=best_grid.score(X_train,train_labels)\n",
    "rf_train_acc"
   ]
  },
  {
   "cell_type": "markdown",
   "metadata": {},
   "source": [
    "#### Model score for the Testing Data"
   ]
  },
  {
   "cell_type": "code",
   "execution_count": 1447,
   "metadata": {},
   "outputs": [
    {
     "data": {
      "text/plain": [
       "0.7744444444444445"
      ]
     },
     "execution_count": 1447,
     "metadata": {},
     "output_type": "execute_result"
    }
   ],
   "source": [
    "#Test Data Accuracy\n",
    "rf_test_acc=best_grid.score(X_test,test_labels)\n",
    "rf_test_acc"
   ]
  },
  {
   "cell_type": "markdown",
   "metadata": {},
   "source": [
    "#### Out of Bag Score for Model"
   ]
  },
  {
   "cell_type": "code",
   "execution_count": 1448,
   "metadata": {},
   "outputs": [
    {
     "name": "stdout",
     "output_type": "stream",
     "text": [
      "0.7871428571428571\n"
     ]
    }
   ],
   "source": [
    "print(best_grid.oob_score_)"
   ]
  },
  {
   "cell_type": "markdown",
   "metadata": {},
   "source": [
    "#### Error rate"
   ]
  },
  {
   "cell_type": "code",
   "execution_count": 1449,
   "metadata": {},
   "outputs": [
    {
     "data": {
      "text/plain": [
       "21.285714285714285"
      ]
     },
     "execution_count": 1449,
     "metadata": {},
     "output_type": "execute_result"
    }
   ],
   "source": [
    "## What is the error rate\n",
    "(1-best_grid.oob_score_)*100"
   ]
  },
  {
   "cell_type": "markdown",
   "metadata": {},
   "source": [
    "### Measuring AUC-ROC Curve"
   ]
  },
  {
   "cell_type": "markdown",
   "metadata": {},
   "source": [
    "#### AUC and ROC for the training data"
   ]
  },
  {
   "cell_type": "code",
   "execution_count": 1450,
   "metadata": {},
   "outputs": [
    {
     "name": "stdout",
     "output_type": "stream",
     "text": [
      "AUC: 0.899\n"
     ]
    },
    {
     "data": {
      "image/png": "[encoded data removed]",
      "text/plain": [
       "<Figure size 432x288 with 1 Axes>"
      ]
     },
     "metadata": {
      "needs_background": "light"
     },
     "output_type": "display_data"
    }
   ],
   "source": [
    "probs = best_grid.predict_proba(X_train)\n",
    "rf_train_auc,rf_train_fpr, rf_train_tpr,rf_train_threshholds=calc_AUC_ROC_curve(probs,train_labels)"
   ]
  },
  {
   "cell_type": "markdown",
   "metadata": {},
   "source": [
    "#### AUC and ROC for the test data"
   ]
  },
  {
   "cell_type": "code",
   "execution_count": 1451,
   "metadata": {},
   "outputs": [
    {
     "name": "stdout",
     "output_type": "stream",
     "text": [
      "AUC: 0.823\n"
     ]
    },
    {
     "data": {
      "image/png": "[encoded data removed]",
      "text/plain": [
       "<Figure size 432x288 with 1 Axes>"
      ]
     },
     "metadata": {
      "needs_background": "light"
     },
     "output_type": "display_data"
    }
   ],
   "source": [
    "probs = best_grid.predict_proba(X_test)\n",
    "rf_test_auc,rf_test_fpr, rf_test_tpr,rf_test_thresholds=calc_AUC_ROC_curve(probs,test_labels)"
   ]
  },
  {
   "cell_type": "markdown",
   "metadata": {},
   "source": [
    "### Confusion Matrix for the Training data"
   ]
  },
  {
   "cell_type": "code",
   "execution_count": 1452,
   "metadata": {},
   "outputs": [],
   "source": [
    "from sklearn.metrics import classification_report,confusion_matrix"
   ]
  },
  {
   "cell_type": "code",
   "execution_count": 1453,
   "metadata": {},
   "outputs": [
    {
     "data": {
      "image/png": "[encoded data removed]",
      "text/plain": [
       "<Figure size 432x288 with 1 Axes>"
      ]
     },
     "metadata": {
      "needs_background": "light"
     },
     "output_type": "display_data"
    }
   ],
   "source": [
    "sns.heatmap(confusion_matrix(train_labels, ytrain_predict_RF), annot =True, cmap='YlGnBu', fmt='d', cbar =False).set(Title='Confusion Matrix of Training Data',xlabel='Predicted Label', ylabel='Actual Label');"
   ]
  },
  {
   "cell_type": "markdown",
   "metadata": {},
   "source": [
    "#### Classification Report for Training data"
   ]
  },
  {
   "cell_type": "code",
   "execution_count": 1454,
   "metadata": {},
   "outputs": [
    {
     "name": "stdout",
     "output_type": "stream",
     "text": [
      "              precision    recall  f1-score   support\n",
      "\n",
      "           0       0.85      0.92      0.88      1471\n",
      "           1       0.76      0.64      0.69       629\n",
      "\n",
      "    accuracy                           0.83      2100\n",
      "   macro avg       0.81      0.78      0.79      2100\n",
      "weighted avg       0.83      0.83      0.83      2100\n",
      "\n"
     ]
    }
   ],
   "source": [
    "print (classification_report(train_labels,ytrain_predict_RF))"
   ]
  },
  {
   "cell_type": "code",
   "execution_count": 1455,
   "metadata": {},
   "outputs": [
    {
     "name": "stdout",
     "output_type": "stream",
     "text": [
      "rf_train_precision  0.76\n",
      "rf_train_recall  0.64\n",
      "rf_train_f1  0.69\n"
     ]
    }
   ],
   "source": [
    "rf_metrics=classification_report(train_labels, ytrain_predict_RF,output_dict=True)\n",
    "df2_metrics=pd.DataFrame(rf_metrics).transpose()\n",
    "rf_train_precision=round(df2_metrics.loc[\"1\"][0],2)\n",
    "rf_train_recall=round(df2_metrics.loc[\"1\"][1],2)\n",
    "rf_train_f1=round(df2_metrics.loc[\"1\"][2],2)\n",
    "print ('rf_train_precision ',rf_train_precision)\n",
    "print ('rf_train_recall ',rf_train_recall)\n",
    "print ('rf_train_f1 ',rf_train_f1)"
   ]
  },
  {
   "cell_type": "markdown",
   "metadata": {},
   "source": [
    "### Confusion Matrix for the Testing data"
   ]
  },
  {
   "cell_type": "code",
   "execution_count": 1456,
   "metadata": {},
   "outputs": [
    {
     "data": {
      "image/png": "[encoded data removed]",
      "text/plain": [
       "<Figure size 432x288 with 1 Axes>"
      ]
     },
     "metadata": {
      "needs_background": "light"
     },
     "output_type": "display_data"
    }
   ],
   "source": [
    "sns.heatmap(confusion_matrix(test_labels, ytest_predict_RF), annot =True, cmap='YlGnBu', fmt='d', cbar =False).set(Title='Confusion Matrix of Testing Data',xlabel='Predicted Label', ylabel='Actual Label');"
   ]
  },
  {
   "cell_type": "markdown",
   "metadata": {},
   "source": [
    "#### Classification Report for Testing data"
   ]
  },
  {
   "cell_type": "code",
   "execution_count": 1457,
   "metadata": {},
   "outputs": [
    {
     "name": "stdout",
     "output_type": "stream",
     "text": [
      "              precision    recall  f1-score   support\n",
      "\n",
      "           0       0.79      0.91      0.84       605\n",
      "           1       0.73      0.49      0.59       295\n",
      "\n",
      "    accuracy                           0.77       900\n",
      "   macro avg       0.76      0.70      0.72       900\n",
      "weighted avg       0.77      0.77      0.76       900\n",
      "\n"
     ]
    }
   ],
   "source": [
    "print (classification_report(test_labels,ytest_predict_RF))"
   ]
  },
  {
   "cell_type": "code",
   "execution_count": 1458,
   "metadata": {},
   "outputs": [
    {
     "name": "stdout",
     "output_type": "stream",
     "text": [
      "rf_test_precision  0.73\n",
      "rf_test_recall  0.49\n",
      "rf_test_f1  0.59\n"
     ]
    }
   ],
   "source": [
    "rf_metrics=classification_report(test_labels, ytest_predict_RF,output_dict=True)\n",
    "df2_metrics=pd.DataFrame(rf_metrics).transpose()\n",
    "rf_test_precision=round(df2_metrics.loc[\"1\"][0],2)\n",
    "rf_test_recall=round(df2_metrics.loc[\"1\"][1],2)\n",
    "rf_test_f1=round(df2_metrics.loc[\"1\"][2],2)\n",
    "print ('rf_test_precision ',rf_test_precision)\n",
    "print ('rf_test_recall ',rf_test_recall)\n",
    "print ('rf_test_f1 ',rf_test_f1)"
   ]
  },
  {
   "cell_type": "markdown",
   "metadata": {},
   "source": [
    "### Random Forest Conclusion"
   ]
  },
  {
   "cell_type": "markdown",
   "metadata": {},
   "source": [
    "\n",
    "\n",
    "<b>Train Data: </b>\n",
    "\n",
    "    AUC: 90%\n",
    "    Accuracy: 83%\n",
    "    Precision: 76%\n",
    "    f1-Score: 69%\n",
    "    Recall: 64%\n",
    "\n",
    "<b>Test Data: </b>\n",
    "\n",
    "    AUC: 82%\n",
    "    Accuracy: 77%\n",
    "    Precision: 73%\n",
    "    f1-Score: 59%\n",
    "    Recall: 49%\n",
    "\n",
    "\n",
    "**Its a case for overfitting where train dataset is giving better result as compared to test.**\n",
    "\n",
    "With recall rate of 49%, model is only able to predict 49% of total tours which were actually claimed as claimed.\n",
    "\n",
    "Precision is 73% of test data which means, out of total tours predicted by model as claimed , 73% were actually claimed.\n",
    "\n",
    "F1-score is the harmonic mean of precision and recall, it takes into the effect of both the scores and this value is low if any of these 2 value is low.\n",
    "\n",
    "Agency Code, Sales, Product Name, Duration and Commission (in same order of preference) are the most important variables in determining if a tour will be claimed from insurance company\n",
    "\n",
    "Since we are building a model to predict if a tour will be claimed for insurance or not, for practical purposes, we will be more interested in correctly classifying 1 (taking insurance claim) than 0(not taking insurance claim).\n",
    "\n",
    "If a tour not claiming by the insurer is incorrectly predicted to be claimed by the model, then the impact on cost for the insurance company would be bare minimum. But if a tour claimed by the insurer is incorrectly predicted to be not claimed by the model, then the cost impact would be very high for the insurance company. Hence recall rate (actual data point identified as True by model) is very important in this scenario.\n",
    "\n",
    "#### As Recall rate of test dataset is very poor around 50% thus this doesnt looks good enough for classification \n",
    "\n"
   ]
  },
  {
   "cell_type": "markdown",
   "metadata": {},
   "source": [
    "## MLP Classifier (Artificial Neural Network)"
   ]
  },
  {
   "cell_type": "code",
   "execution_count": 1459,
   "metadata": {},
   "outputs": [],
   "source": [
    "from sklearn.neural_network import MLPClassifier"
   ]
  },
  {
   "cell_type": "markdown",
   "metadata": {},
   "source": [
    "### Scaling the test and train data for Neural Networks"
   ]
  },
  {
   "cell_type": "code",
   "execution_count": 1460,
   "metadata": {},
   "outputs": [],
   "source": [
    "sc = StandardScaler() \n",
    "X_trains = sc.fit_transform(X_train) \n",
    "X_tests = sc.transform (X_test)"
   ]
  },
  {
   "cell_type": "code",
   "execution_count": 1461,
   "metadata": {},
   "outputs": [
    {
     "data": {
      "text/plain": [
       "array([[-0.19192502,  0.72815922,  0.80520286, ..., -0.5730663 ,\n",
       "         0.24642411, -0.43926017],\n",
       "       [-0.19192502,  0.72815922,  0.80520286, ..., -0.26910565,\n",
       "         0.24642411,  1.27851702],\n",
       "       [-0.97188154, -1.28518425, -1.24192306, ...,  1.74601534,\n",
       "         1.83381865, -0.43926017],\n",
       "       ...,\n",
       "       [-0.19192502,  0.72815922,  0.80520286, ...,  0.02103862,\n",
       "         0.24642411, -0.43926017],\n",
       "       [ 0.58803151,  1.73483096, -1.24192306, ..., -0.60069909,\n",
       "        -1.34097044, -0.43926017],\n",
       "       [-0.19192502, -1.28518425, -1.24192306, ..., -0.53852532,\n",
       "         1.83381865, -0.43926017]])"
      ]
     },
     "execution_count": 1461,
     "metadata": {},
     "output_type": "execute_result"
    }
   ],
   "source": [
    "X_trains"
   ]
  },
  {
   "cell_type": "code",
   "execution_count": 1462,
   "metadata": {},
   "outputs": [
    {
     "data": {
      "text/plain": [
       "array([[-1.55684893, -0.27851251,  0.80520286, ...,  0.18683534,\n",
       "        -1.34097044,  2.99629421],\n",
       "       [ 1.66047173, -1.28518425, -1.24192306, ..., -0.48325974,\n",
       "        -1.34097044, -0.43926017],\n",
       "       [-0.87438698, -1.28518425, -1.24192306, ..., -0.62833187,\n",
       "        -1.34097044, -0.43926017],\n",
       "       ...,\n",
       "       [-0.19192502, -1.28518425, -1.24192306, ..., -0.47635155,\n",
       "        -1.34097044, -0.43926017],\n",
       "       [ 1.07550434,  1.73483096, -1.24192306, ..., -0.43490237,\n",
       "        -1.34097044, -0.43926017],\n",
       "       [-0.28941958,  1.73483096, -1.24192306, ..., -0.49016794,\n",
       "        -1.34097044, -0.43926017]])"
      ]
     },
     "execution_count": 1462,
     "metadata": {},
     "output_type": "execute_result"
    }
   ],
   "source": [
    "X_tests"
   ]
  },
  {
   "cell_type": "markdown",
   "metadata": {},
   "source": [
    "### Running the grid search for Neural Network"
   ]
  },
  {
   "cell_type": "code",
   "execution_count": 1463,
   "metadata": {},
   "outputs": [],
   "source": [
    "ann = MLPClassifier(random_state=1)\n",
    "cv_value=3\n"
   ]
  },
  {
   "cell_type": "code",
   "execution_count": 1464,
   "metadata": {},
   "outputs": [
    {
     "name": "stdout",
     "output_type": "stream",
     "text": [
      "\n",
      " Running grid search\n",
      "\n",
      "Iteration 1, loss = 0.58631393\n",
      "Iteration 2, loss = 0.49804875\n",
      "Iteration 3, loss = 0.48596495\n",
      "Iteration 4, loss = 0.47797698\n",
      "Iteration 5, loss = 0.47498761\n",
      "Iteration 6, loss = 0.47070318\n",
      "Iteration 7, loss = 0.46797163\n",
      "Iteration 8, loss = 0.46492609\n",
      "Iteration 9, loss = 0.46177025\n",
      "Iteration 10, loss = 0.45884547\n",
      "Iteration 11, loss = 0.45849657\n",
      "Iteration 12, loss = 0.45554046\n",
      "Iteration 13, loss = 0.45311142\n",
      "Iteration 14, loss = 0.44915988\n",
      "Training loss did not improve more than tol=0.010000 for 10 consecutive epochs. Stopping.\n",
      "\n",
      " Showing best parameters for the grid search\n",
      "\n",
      "{'activation': 'relu', 'hidden_layer_sizes': (100, 100, 100), 'max_iter': 10000, 'solver': 'adam', 'tol': 0.01, 'verbose': True}\n",
      "\n",
      " Classification Report for Train dataset\n",
      "\n",
      "              precision    recall  f1-score   support\n",
      "\n",
      "           0       0.81      0.92      0.86      1471\n",
      "           1       0.72      0.50      0.59       629\n",
      "\n",
      "    accuracy                           0.79      2100\n",
      "   macro avg       0.77      0.71      0.72      2100\n",
      "weighted avg       0.78      0.79      0.78      2100\n",
      "\n",
      "\n",
      " Classification Report for Test dataset\n",
      "\n",
      "              precision    recall  f1-score   support\n",
      "\n",
      "           0       0.76      0.93      0.84       605\n",
      "           1       0.73      0.41      0.53       295\n",
      "\n",
      "    accuracy                           0.76       900\n",
      "   macro avg       0.75      0.67      0.68       900\n",
      "weighted avg       0.75      0.76      0.74       900\n",
      "\n"
     ]
    }
   ],
   "source": [
    "param_grid = {\n",
    "    'hidden_layer_sizes': [(100,100,100)],\n",
    "    'activation': ['logistic', 'relu'],\n",
    "    'solver': ['sgd', 'adam'],\n",
    "    'tol': [0.1,0.01],\n",
    "    'max_iter' : [10000],\n",
    "    'verbose':[True]\n",
    "}\n",
    "\n",
    "grid_search = run_gridsearch(ann,param_grid,X_trains, train_labels,cv_value)\n",
    "\n",
    "check_performance(grid_search,X_trains, X_tests, train_labels, test_labels)\n",
    "\n"
   ]
  },
  {
   "cell_type": "code",
   "execution_count": 1465,
   "metadata": {},
   "outputs": [
    {
     "name": "stdout",
     "output_type": "stream",
     "text": [
      "\n",
      " Running grid search\n",
      "\n",
      "Iteration 1, loss = 0.67144969\n",
      "Iteration 2, loss = 0.54485214\n",
      "Iteration 3, loss = 0.49942839\n",
      "Iteration 4, loss = 0.48512151\n",
      "Iteration 5, loss = 0.48021647\n",
      "Iteration 6, loss = 0.47730385\n",
      "Iteration 7, loss = 0.47601994\n",
      "Iteration 8, loss = 0.47496608\n",
      "Iteration 9, loss = 0.47353540\n",
      "Iteration 10, loss = 0.47248960\n",
      "Iteration 11, loss = 0.47128076\n",
      "Iteration 12, loss = 0.47053087\n",
      "Iteration 13, loss = 0.46912502\n",
      "Iteration 14, loss = 0.46770418\n",
      "Iteration 15, loss = 0.46754990\n",
      "Iteration 16, loss = 0.46609975\n",
      "Iteration 17, loss = 0.46552893\n",
      "Iteration 18, loss = 0.46444411\n",
      "Iteration 19, loss = 0.46360022\n",
      "Iteration 20, loss = 0.46307218\n",
      "Iteration 21, loss = 0.46250044\n",
      "Iteration 22, loss = 0.46125849\n",
      "Iteration 23, loss = 0.46019425\n",
      "Iteration 24, loss = 0.45993848\n",
      "Iteration 25, loss = 0.46020047\n",
      "Iteration 26, loss = 0.45850499\n",
      "Iteration 27, loss = 0.45812819\n",
      "Iteration 28, loss = 0.45719482\n",
      "Iteration 29, loss = 0.45727118\n",
      "Iteration 30, loss = 0.45571121\n",
      "Iteration 31, loss = 0.45563335\n",
      "Iteration 32, loss = 0.45494146\n",
      "Iteration 33, loss = 0.45462555\n",
      "Iteration 34, loss = 0.45436798\n",
      "Iteration 35, loss = 0.45280279\n",
      "Iteration 36, loss = 0.45268139\n",
      "Iteration 37, loss = 0.45262260\n",
      "Iteration 38, loss = 0.45178192\n",
      "Iteration 39, loss = 0.45106762\n",
      "Iteration 40, loss = 0.45168652\n",
      "Iteration 41, loss = 0.45032465\n",
      "Iteration 42, loss = 0.44991480\n",
      "Iteration 43, loss = 0.45003592\n",
      "Iteration 44, loss = 0.44915021\n",
      "Iteration 45, loss = 0.44900029\n",
      "Iteration 46, loss = 0.44846675\n",
      "Iteration 47, loss = 0.44851864\n",
      "Iteration 48, loss = 0.44783689\n",
      "Iteration 49, loss = 0.44790396\n",
      "Iteration 50, loss = 0.44729481\n",
      "Iteration 51, loss = 0.44769918\n",
      "Iteration 52, loss = 0.44688902\n",
      "Iteration 53, loss = 0.44714281\n",
      "Iteration 54, loss = 0.44728596\n",
      "Iteration 55, loss = 0.44550298\n",
      "Iteration 56, loss = 0.44580031\n",
      "Iteration 57, loss = 0.44459133\n",
      "Iteration 58, loss = 0.44507373\n",
      "Iteration 59, loss = 0.44470533\n",
      "Iteration 60, loss = 0.44415739\n",
      "Iteration 61, loss = 0.44454466\n",
      "Iteration 62, loss = 0.44360456\n",
      "Iteration 63, loss = 0.44461328\n",
      "Iteration 64, loss = 0.44209591\n",
      "Iteration 65, loss = 0.44305039\n",
      "Iteration 66, loss = 0.44314069\n",
      "Iteration 67, loss = 0.44321324\n",
      "Iteration 68, loss = 0.44299754\n",
      "Iteration 69, loss = 0.44194770\n",
      "Iteration 70, loss = 0.44143524\n",
      "Iteration 71, loss = 0.44137148\n",
      "Iteration 72, loss = 0.44138796\n",
      "Iteration 73, loss = 0.44163369\n",
      "Iteration 74, loss = 0.44067825\n",
      "Iteration 75, loss = 0.44017456\n",
      "Iteration 76, loss = 0.43998165\n",
      "Iteration 77, loss = 0.44043315\n",
      "Iteration 78, loss = 0.43975568\n",
      "Iteration 79, loss = 0.43909197\n",
      "Iteration 80, loss = 0.44033069\n",
      "Iteration 81, loss = 0.44047535\n",
      "Iteration 82, loss = 0.43867065\n",
      "Iteration 83, loss = 0.43889921\n",
      "Iteration 84, loss = 0.43799238\n",
      "Iteration 85, loss = 0.43821075\n",
      "Iteration 86, loss = 0.43861876\n",
      "Iteration 87, loss = 0.43894165\n",
      "Iteration 88, loss = 0.43774933\n",
      "Iteration 89, loss = 0.43746672\n",
      "Iteration 90, loss = 0.43755069\n",
      "Iteration 91, loss = 0.43722356\n",
      "Iteration 92, loss = 0.43694656\n",
      "Iteration 93, loss = 0.43717981\n",
      "Iteration 94, loss = 0.43736103\n",
      "Iteration 95, loss = 0.43579240\n",
      "Iteration 96, loss = 0.43621491\n",
      "Iteration 97, loss = 0.43616584\n",
      "Iteration 98, loss = 0.43650572\n",
      "Iteration 99, loss = 0.43564116\n",
      "Iteration 100, loss = 0.43477003\n",
      "Iteration 101, loss = 0.43600746\n",
      "Iteration 102, loss = 0.43543345\n",
      "Iteration 103, loss = 0.43545229\n",
      "Iteration 104, loss = 0.43548030\n",
      "Iteration 105, loss = 0.43466488\n",
      "Iteration 106, loss = 0.43391709\n",
      "Iteration 107, loss = 0.43520186\n",
      "Iteration 108, loss = 0.43334629\n",
      "Iteration 109, loss = 0.43427060\n",
      "Iteration 110, loss = 0.43364775\n",
      "Iteration 111, loss = 0.43300328\n",
      "Iteration 112, loss = 0.43382352\n",
      "Iteration 113, loss = 0.43287003\n",
      "Iteration 114, loss = 0.43302206\n",
      "Iteration 115, loss = 0.43300131\n",
      "Iteration 116, loss = 0.43228082\n",
      "Iteration 117, loss = 0.43289129\n",
      "Iteration 118, loss = 0.43315520\n",
      "Iteration 119, loss = 0.43196815\n",
      "Iteration 120, loss = 0.43333603\n",
      "Iteration 121, loss = 0.43305698\n",
      "Iteration 122, loss = 0.43155501\n",
      "Iteration 123, loss = 0.43136345\n",
      "Iteration 124, loss = 0.43164928\n",
      "Iteration 125, loss = 0.43110404\n",
      "Iteration 126, loss = 0.43099493\n",
      "Iteration 127, loss = 0.43136241\n",
      "Iteration 128, loss = 0.43121567\n",
      "Iteration 129, loss = 0.43072834\n",
      "Iteration 130, loss = 0.43010013\n",
      "Iteration 131, loss = 0.43016330\n",
      "Iteration 132, loss = 0.43064671\n",
      "Iteration 133, loss = 0.42959321\n",
      "Iteration 134, loss = 0.43102903\n",
      "Iteration 135, loss = 0.43171454\n",
      "Iteration 136, loss = 0.43105767\n",
      "Iteration 137, loss = 0.42940970\n",
      "Iteration 138, loss = 0.42940186\n",
      "Iteration 139, loss = 0.43000254\n",
      "Iteration 140, loss = 0.43035683\n",
      "Iteration 141, loss = 0.42896816\n",
      "Iteration 142, loss = 0.42881678\n",
      "Iteration 143, loss = 0.42872274\n",
      "Iteration 144, loss = 0.42832909\n",
      "Iteration 145, loss = 0.42973090\n",
      "Iteration 146, loss = 0.42763521\n",
      "Iteration 147, loss = 0.42849674\n",
      "Iteration 148, loss = 0.42830009\n",
      "Iteration 149, loss = 0.42772340\n",
      "Iteration 150, loss = 0.42821263\n",
      "Iteration 151, loss = 0.42807574\n",
      "Iteration 152, loss = 0.42705781\n",
      "Iteration 153, loss = 0.42722766\n",
      "Iteration 154, loss = 0.42708529\n",
      "Iteration 155, loss = 0.42815258\n",
      "Iteration 156, loss = 0.42729553\n",
      "Iteration 157, loss = 0.42641113\n",
      "Iteration 158, loss = 0.42638384\n",
      "Iteration 159, loss = 0.42559826\n",
      "Iteration 160, loss = 0.42688036\n",
      "Iteration 161, loss = 0.42597192\n",
      "Iteration 162, loss = 0.42626874\n",
      "Iteration 163, loss = 0.42474662\n",
      "Iteration 164, loss = 0.42667699\n",
      "Iteration 165, loss = 0.42537329\n",
      "Iteration 166, loss = 0.42512968\n",
      "Iteration 167, loss = 0.42498744\n",
      "Iteration 168, loss = 0.42510546\n",
      "Iteration 169, loss = 0.42491307\n",
      "Iteration 170, loss = 0.42553173\n",
      "Iteration 171, loss = 0.42403716\n",
      "Iteration 172, loss = 0.42482148\n",
      "Iteration 173, loss = 0.42450099\n",
      "Iteration 174, loss = 0.42671251\n",
      "Iteration 175, loss = 0.42366633\n",
      "Iteration 176, loss = 0.42515038\n",
      "Iteration 177, loss = 0.42465580\n",
      "Iteration 178, loss = 0.42314237\n",
      "Iteration 179, loss = 0.42373755\n",
      "Iteration 180, loss = 0.42430108\n",
      "Iteration 181, loss = 0.42396707\n",
      "Iteration 182, loss = 0.42378631\n",
      "Iteration 183, loss = 0.42374258\n",
      "Iteration 184, loss = 0.42222115\n",
      "Iteration 185, loss = 0.42237315\n",
      "Iteration 186, loss = 0.42155312\n",
      "Iteration 187, loss = 0.42266877\n",
      "Iteration 188, loss = 0.42240460\n",
      "Iteration 189, loss = 0.42239473\n",
      "Iteration 190, loss = 0.42168543\n",
      "Iteration 191, loss = 0.42296117\n",
      "Iteration 192, loss = 0.42146174\n",
      "Iteration 193, loss = 0.42189315\n",
      "Iteration 194, loss = 0.42169892\n",
      "Iteration 195, loss = 0.42384709\n",
      "Iteration 196, loss = 0.42036486\n",
      "Iteration 197, loss = 0.42077210\n",
      "Iteration 198, loss = 0.42169576\n",
      "Iteration 199, loss = 0.42082663\n",
      "Iteration 200, loss = 0.42138045\n",
      "Iteration 201, loss = 0.42108542\n",
      "Iteration 202, loss = 0.42111965\n",
      "Iteration 203, loss = 0.42021250\n",
      "Iteration 204, loss = 0.42154637\n",
      "Iteration 205, loss = 0.42306823\n",
      "Iteration 206, loss = 0.42151915\n",
      "Iteration 207, loss = 0.42039478\n",
      "Iteration 208, loss = 0.41947182\n",
      "Iteration 209, loss = 0.41987864\n",
      "Iteration 210, loss = 0.42098297\n",
      "Iteration 211, loss = 0.41962288\n",
      "Iteration 212, loss = 0.42111452\n",
      "Iteration 213, loss = 0.42058240\n",
      "Iteration 214, loss = 0.42118679\n",
      "Iteration 215, loss = 0.42001261\n",
      "Iteration 216, loss = 0.41855407\n",
      "Iteration 217, loss = 0.42142609\n",
      "Iteration 218, loss = 0.42004098\n",
      "Iteration 219, loss = 0.41883394\n",
      "Iteration 220, loss = 0.41890631\n",
      "Iteration 221, loss = 0.41900521\n",
      "Iteration 222, loss = 0.41882601\n",
      "Iteration 223, loss = 0.42070515\n",
      "Iteration 224, loss = 0.41834214\n",
      "Iteration 225, loss = 0.41760603\n",
      "Iteration 226, loss = 0.41849286\n",
      "Iteration 227, loss = 0.41767826\n",
      "Iteration 228, loss = 0.41780997\n",
      "Iteration 229, loss = 0.41664868\n",
      "Iteration 230, loss = 0.41761826\n",
      "Iteration 231, loss = 0.41742461\n",
      "Iteration 232, loss = 0.41685069\n",
      "Iteration 233, loss = 0.41790688\n",
      "Iteration 234, loss = 0.41631762\n",
      "Iteration 235, loss = 0.41798141\n",
      "Iteration 236, loss = 0.41619078\n",
      "Iteration 237, loss = 0.41612186\n",
      "Iteration 238, loss = 0.41748447\n",
      "Iteration 239, loss = 0.41589378\n",
      "Iteration 240, loss = 0.41695175\n",
      "Iteration 241, loss = 0.41627645\n",
      "Iteration 242, loss = 0.41657176\n",
      "Iteration 243, loss = 0.41609448\n",
      "Iteration 244, loss = 0.41577687\n",
      "Iteration 245, loss = 0.41655305\n",
      "Iteration 246, loss = 0.41555277\n",
      "Iteration 247, loss = 0.41532693\n",
      "Iteration 248, loss = 0.41457934\n",
      "Iteration 249, loss = 0.41523007\n",
      "Iteration 250, loss = 0.41548347\n",
      "Iteration 251, loss = 0.41480215\n"
     ]
    },
    {
     "name": "stdout",
     "output_type": "stream",
     "text": [
      "Iteration 252, loss = 0.41549627\n",
      "Iteration 253, loss = 0.41605448\n",
      "Iteration 254, loss = 0.41567533\n",
      "Iteration 255, loss = 0.41515897\n",
      "Iteration 256, loss = 0.41427827\n",
      "Iteration 257, loss = 0.41610694\n",
      "Iteration 258, loss = 0.41475728\n",
      "Iteration 259, loss = 0.41425074\n",
      "Iteration 260, loss = 0.41345456\n",
      "Iteration 261, loss = 0.41397440\n",
      "Iteration 262, loss = 0.41550962\n",
      "Iteration 263, loss = 0.41357227\n",
      "Iteration 264, loss = 0.41425771\n",
      "Iteration 265, loss = 0.41462635\n",
      "Iteration 266, loss = 0.41317112\n",
      "Iteration 267, loss = 0.41328863\n",
      "Iteration 268, loss = 0.41326846\n",
      "Iteration 269, loss = 0.41427889\n",
      "Iteration 270, loss = 0.41327945\n",
      "Iteration 271, loss = 0.41516697\n",
      "Iteration 272, loss = 0.41236029\n",
      "Iteration 273, loss = 0.41244086\n",
      "Iteration 274, loss = 0.41370579\n",
      "Iteration 275, loss = 0.41323935\n",
      "Iteration 276, loss = 0.41256271\n",
      "Iteration 277, loss = 0.41242524\n",
      "Iteration 278, loss = 0.41299343\n",
      "Iteration 279, loss = 0.41342065\n",
      "Iteration 280, loss = 0.41264822\n",
      "Iteration 281, loss = 0.41317853\n",
      "Iteration 282, loss = 0.41129272\n",
      "Iteration 283, loss = 0.41158234\n",
      "Iteration 284, loss = 0.41180459\n",
      "Iteration 285, loss = 0.41269606\n",
      "Iteration 286, loss = 0.41246305\n",
      "Iteration 287, loss = 0.41149037\n",
      "Iteration 288, loss = 0.41097326\n",
      "Iteration 289, loss = 0.41148594\n",
      "Iteration 290, loss = 0.41064698\n",
      "Iteration 291, loss = 0.41181252\n",
      "Iteration 292, loss = 0.41084923\n",
      "Iteration 293, loss = 0.41099458\n",
      "Iteration 294, loss = 0.41139677\n",
      "Iteration 295, loss = 0.41066386\n",
      "Iteration 296, loss = 0.41384616\n",
      "Iteration 297, loss = 0.41370980\n",
      "Iteration 298, loss = 0.41270209\n",
      "Iteration 299, loss = 0.41065346\n",
      "Iteration 300, loss = 0.40985043\n",
      "Iteration 301, loss = 0.41148474\n",
      "Iteration 302, loss = 0.41062916\n",
      "Iteration 303, loss = 0.41037957\n",
      "Iteration 304, loss = 0.41074257\n",
      "Iteration 305, loss = 0.41018466\n",
      "Iteration 306, loss = 0.41059660\n",
      "Iteration 307, loss = 0.41020455\n",
      "Iteration 308, loss = 0.40930949\n",
      "Iteration 309, loss = 0.40945458\n",
      "Iteration 310, loss = 0.41021339\n",
      "Iteration 311, loss = 0.40921746\n",
      "Iteration 312, loss = 0.40896524\n",
      "Iteration 313, loss = 0.40905447\n",
      "Iteration 314, loss = 0.40886603\n",
      "Iteration 315, loss = 0.41073910\n",
      "Iteration 316, loss = 0.41103003\n",
      "Iteration 317, loss = 0.41189880\n",
      "Iteration 318, loss = 0.41233685\n",
      "Iteration 319, loss = 0.41287991\n",
      "Iteration 320, loss = 0.41118590\n",
      "Iteration 321, loss = 0.40757695\n",
      "Iteration 322, loss = 0.40772940\n",
      "Iteration 323, loss = 0.40829354\n",
      "Iteration 324, loss = 0.40850992\n",
      "Iteration 325, loss = 0.40771842\n",
      "Iteration 326, loss = 0.40678341\n",
      "Iteration 327, loss = 0.40737183\n",
      "Iteration 328, loss = 0.40701868\n",
      "Iteration 329, loss = 0.40742216\n",
      "Iteration 330, loss = 0.40832653\n",
      "Iteration 331, loss = 0.40802367\n",
      "Iteration 332, loss = 0.40774322\n",
      "Iteration 333, loss = 0.40584220\n",
      "Iteration 334, loss = 0.40683789\n",
      "Iteration 335, loss = 0.40709285\n",
      "Iteration 336, loss = 0.40765949\n",
      "Iteration 337, loss = 0.40665823\n",
      "Iteration 338, loss = 0.41046461\n",
      "Iteration 339, loss = 0.40715526\n",
      "Iteration 340, loss = 0.40617138\n",
      "Iteration 341, loss = 0.40531637\n",
      "Iteration 342, loss = 0.40694941\n",
      "Iteration 343, loss = 0.40682073\n",
      "Iteration 344, loss = 0.40547845\n",
      "Iteration 345, loss = 0.40711690\n",
      "Iteration 346, loss = 0.40675529\n",
      "Iteration 347, loss = 0.40622529\n",
      "Iteration 348, loss = 0.40554016\n",
      "Iteration 349, loss = 0.40607546\n",
      "Iteration 350, loss = 0.40701289\n",
      "Iteration 351, loss = 0.40547390\n",
      "Iteration 352, loss = 0.40536302\n",
      "Training loss did not improve more than tol=0.000100 for 10 consecutive epochs. Stopping.\n",
      "\n",
      " Showing best parameters for the grid search\n",
      "\n",
      "{'activation': 'relu', 'hidden_layer_sizes': 350, 'max_iter': 10000, 'solver': 'adam', 'tol': 0.0001, 'verbose': True}\n",
      "\n",
      " Classification Report for Train dataset\n",
      "\n",
      "              precision    recall  f1-score   support\n",
      "\n",
      "           0       0.84      0.91      0.87      1471\n",
      "           1       0.74      0.60      0.66       629\n",
      "\n",
      "    accuracy                           0.82      2100\n",
      "   macro avg       0.79      0.75      0.77      2100\n",
      "weighted avg       0.81      0.82      0.81      2100\n",
      "\n",
      "\n",
      " Classification Report for Test dataset\n",
      "\n",
      "              precision    recall  f1-score   support\n",
      "\n",
      "           0       0.78      0.93      0.85       605\n",
      "           1       0.75      0.45      0.57       295\n",
      "\n",
      "    accuracy                           0.77       900\n",
      "   macro avg       0.76      0.69      0.71       900\n",
      "weighted avg       0.77      0.77      0.75       900\n",
      "\n"
     ]
    }
   ],
   "source": [
    "param_grid = {\n",
    "    'hidden_layer_sizes': [300,350],\n",
    "    'activation': [ 'relu'],\n",
    "    'solver': ['adam','sgd'],\n",
    "    'tol': [0.0001],#,0.001],\n",
    "    'max_iter' : [10000],\n",
    "    'verbose':[True]\n",
    "}\n",
    "cv_value = 5\n",
    "grid_search = run_gridsearch(ann,param_grid,X_trains, train_labels,cv_value)\n",
    "\n",
    "check_performance(grid_search,X_trains, X_tests, train_labels, test_labels)\n"
   ]
  },
  {
   "cell_type": "markdown",
   "metadata": {},
   "source": [
    "#### Saving the results of best search grid "
   ]
  },
  {
   "cell_type": "code",
   "execution_count": 1466,
   "metadata": {},
   "outputs": [],
   "source": [
    "best_grid = grid_search.best_estimator_\n",
    "ytrain_predict_ANN = best_grid.predict(X_trains)\n",
    "ytest_predict_ANN = best_grid.predict(X_tests)\n"
   ]
  },
  {
   "cell_type": "markdown",
   "metadata": {},
   "source": [
    "## Model Evaluation"
   ]
  },
  {
   "cell_type": "markdown",
   "metadata": {},
   "source": [
    "### Model Score"
   ]
  },
  {
   "cell_type": "markdown",
   "metadata": {},
   "source": [
    "#### Model score for the Training Data"
   ]
  },
  {
   "cell_type": "code",
   "execution_count": 1467,
   "metadata": {},
   "outputs": [
    {
     "data": {
      "text/plain": [
       "0.8166666666666667"
      ]
     },
     "execution_count": 1467,
     "metadata": {},
     "output_type": "execute_result"
    }
   ],
   "source": [
    "#Train Data Accuracy\n",
    "nn_train_acc=best_grid.score(X_trains,train_labels)\n",
    "nn_train_acc"
   ]
  },
  {
   "cell_type": "markdown",
   "metadata": {},
   "source": [
    "#### Model score for the Testing Data"
   ]
  },
  {
   "cell_type": "code",
   "execution_count": 1468,
   "metadata": {},
   "outputs": [
    {
     "data": {
      "text/plain": [
       "0.7722222222222223"
      ]
     },
     "execution_count": 1468,
     "metadata": {},
     "output_type": "execute_result"
    }
   ],
   "source": [
    "#Test Data Accuracy\n",
    "nn_test_acc=best_grid.score(X_tests,test_labels)\n",
    "nn_test_acc"
   ]
  },
  {
   "cell_type": "markdown",
   "metadata": {},
   "source": [
    "### Measuring AUC-ROC Curve"
   ]
  },
  {
   "cell_type": "markdown",
   "metadata": {},
   "source": [
    "#### AUC and ROC for the training data"
   ]
  },
  {
   "cell_type": "code",
   "execution_count": 1470,
   "metadata": {},
   "outputs": [
    {
     "name": "stdout",
     "output_type": "stream",
     "text": [
      "AUC: 0.871\n"
     ]
    },
    {
     "data": {
      "image/png": "[encoded data removed]",
      "text/plain": [
       "<Figure size 432x288 with 1 Axes>"
      ]
     },
     "metadata": {
      "needs_background": "light"
     },
     "output_type": "display_data"
    }
   ],
   "source": [
    "probs = best_grid.predict_proba(X_trains)\n",
    "nn_train_auc,nn_train_fpr, nn_train_tpr,nn_train_threshholds=calc_AUC_ROC_curve(probs,train_labels)"
   ]
  },
  {
   "cell_type": "markdown",
   "metadata": {},
   "source": [
    "#### AUC and ROC for the test data"
   ]
  },
  {
   "cell_type": "code",
   "execution_count": 1471,
   "metadata": {},
   "outputs": [
    {
     "name": "stdout",
     "output_type": "stream",
     "text": [
      "AUC: 0.809\n"
     ]
    },
    {
     "data": {
      "image/png": "[encoded data removed]",
      "text/plain": [
       "<Figure size 432x288 with 1 Axes>"
      ]
     },
     "metadata": {
      "needs_background": "light"
     },
     "output_type": "display_data"
    }
   ],
   "source": [
    "probs = best_grid.predict_proba(X_tests)\n",
    "nn_test_auc,nn_test_fpr, nn_test_tpr,nn_test_threshholds=calc_AUC_ROC_curve(probs,test_labels)"
   ]
  },
  {
   "cell_type": "markdown",
   "metadata": {},
   "source": [
    "### Confusion Matrix for the Training data"
   ]
  },
  {
   "cell_type": "code",
   "execution_count": 1472,
   "metadata": {},
   "outputs": [
    {
     "data": {
      "image/png": "[encoded data removed]",
      "text/plain": [
       "<Figure size 432x288 with 1 Axes>"
      ]
     },
     "metadata": {
      "needs_background": "light"
     },
     "output_type": "display_data"
    }
   ],
   "source": [
    "sns.heatmap(confusion_matrix(train_labels, ytrain_predict_ANN), annot =True, cmap='YlGnBu', fmt='d', cbar =False).set(Title='Confusion Matrix of Training Data',xlabel='Predicted Label', ylabel='Actual Label');"
   ]
  },
  {
   "cell_type": "markdown",
   "metadata": {},
   "source": [
    "#### Classification Report for Training data"
   ]
  },
  {
   "cell_type": "code",
   "execution_count": 1473,
   "metadata": {},
   "outputs": [
    {
     "name": "stdout",
     "output_type": "stream",
     "text": [
      "              precision    recall  f1-score   support\n",
      "\n",
      "           0       0.84      0.91      0.87      1471\n",
      "           1       0.74      0.60      0.66       629\n",
      "\n",
      "    accuracy                           0.82      2100\n",
      "   macro avg       0.79      0.75      0.77      2100\n",
      "weighted avg       0.81      0.82      0.81      2100\n",
      "\n"
     ]
    }
   ],
   "source": [
    "print (classification_report(train_labels,ytrain_predict_ANN))"
   ]
  },
  {
   "cell_type": "code",
   "execution_count": 1474,
   "metadata": {},
   "outputs": [
    {
     "name": "stdout",
     "output_type": "stream",
     "text": [
      "nn_train_precision  0.74\n",
      "nn_train_recall  0.6\n",
      "nn_train_f1  0.66\n"
     ]
    }
   ],
   "source": [
    "nn_metrics=classification_report(train_labels, ytrain_predict_ANN,output_dict=True)\n",
    "df2_metrics=pd.DataFrame(nn_metrics).transpose()\n",
    "nn_train_precision=round(df2_metrics.loc[\"1\"][0],2)\n",
    "nn_train_recall=round(df2_metrics.loc[\"1\"][1],2)\n",
    "nn_train_f1=round(df2_metrics.loc[\"1\"][2],2)\n",
    "print ('nn_train_precision ',nn_train_precision)\n",
    "print ('nn_train_recall ',nn_train_recall)\n",
    "print ('nn_train_f1 ',nn_train_f1)"
   ]
  },
  {
   "cell_type": "markdown",
   "metadata": {},
   "source": [
    "### Confusion Matrix for the Testing data"
   ]
  },
  {
   "cell_type": "code",
   "execution_count": 1475,
   "metadata": {},
   "outputs": [
    {
     "data": {
      "image/png": "[encoded data removed]",
      "text/plain": [
       "<Figure size 432x288 with 1 Axes>"
      ]
     },
     "metadata": {
      "needs_background": "light"
     },
     "output_type": "display_data"
    }
   ],
   "source": [
    "sns.heatmap(confusion_matrix(test_labels, ytest_predict_ANN), annot =True, cmap='YlGnBu', fmt='d', cbar =False).set(Title='Confusion Matrix of Testing Data',xlabel='Predicted Label', ylabel='Actual Label');"
   ]
  },
  {
   "cell_type": "markdown",
   "metadata": {},
   "source": [
    "#### Classification Report for Testing data"
   ]
  },
  {
   "cell_type": "code",
   "execution_count": 1476,
   "metadata": {},
   "outputs": [
    {
     "name": "stdout",
     "output_type": "stream",
     "text": [
      "              precision    recall  f1-score   support\n",
      "\n",
      "           0       0.78      0.93      0.85       605\n",
      "           1       0.75      0.45      0.57       295\n",
      "\n",
      "    accuracy                           0.77       900\n",
      "   macro avg       0.76      0.69      0.71       900\n",
      "weighted avg       0.77      0.77      0.75       900\n",
      "\n"
     ]
    }
   ],
   "source": [
    "print (classification_report(test_labels,ytest_predict_ANN))"
   ]
  },
  {
   "cell_type": "code",
   "execution_count": 1477,
   "metadata": {},
   "outputs": [
    {
     "name": "stdout",
     "output_type": "stream",
     "text": [
      "nn_test_precision  0.75\n",
      "nn_test_recall  0.45\n",
      "nn_test_f1  0.57\n"
     ]
    }
   ],
   "source": [
    "nn_metrics=classification_report(test_labels, ytest_predict_ANN,output_dict=True)\n",
    "df2_metrics=pd.DataFrame(nn_metrics).transpose()\n",
    "nn_test_precision=round(df2_metrics.loc[\"1\"][0],2)\n",
    "nn_test_recall=round(df2_metrics.loc[\"1\"][1],2)\n",
    "nn_test_f1=round(df2_metrics.loc[\"1\"][2],2)\n",
    "print ('nn_test_precision ',nn_test_precision)\n",
    "print ('nn_test_recall ',nn_test_recall)\n",
    "print ('nn_test_f1 ',nn_test_f1)"
   ]
  },
  {
   "cell_type": "markdown",
   "metadata": {},
   "source": [
    "### Artificial Neural Network Conclusion"
   ]
  },
  {
   "cell_type": "markdown",
   "metadata": {},
   "source": [
    "\n",
    "\n",
    "<b>Train Data: </b>\n",
    "\n",
    "    AUC: 87%\n",
    "    Accuracy: 82%\n",
    "    Precision: 74%\n",
    "    f1-Score: 66%\n",
    "    Recall: 60%\n",
    "\n",
    "<b>Test Data: </b>\n",
    "\n",
    "    AUC: 81%\n",
    "    Accuracy: 77%\n",
    "    Precision: 75%\n",
    "    f1-Score: 57%\n",
    "    Recall: 45%\n",
    "\n",
    "\n",
    "**Its a case for overfitting where train dataset is giving better result as compared to test.**\n",
    "\n",
    "With recall rate of 45%, model is only able to predict 45% of total tours which were actually claimed as claimed.\n",
    "\n",
    "Precision is 75% of test data which means, out of total tours predicted by model as claimed , 75% were actually claimed.\n",
    "\n",
    "F1-score is the harmonic mean of precision and recall, it takes into the effect of both the scores and this value is low if any of these 2 value is low.\n",
    "\n",
    "Since we are building a model to predict if a tour will be claimed for insurance or not, for practical purposes, we will be more interested in correctly classifying 1 (taking insurance claim) than 0(not taking insurance claim).\n",
    "\n",
    "If a tour not claiming by the insurer is incorrectly predicted to be claimed by the model, then the impact on cost for the insurance company would be bare minimum. But if a tour claimed by the insurer is incorrectly predicted to be not claimed by the model, then the cost impact would be very high for the insurance company. Hence recall rate (actual data point identified as True by model) is very important in this scenario.\n",
    "\n",
    "#### As Recall rate of test dataset is very poor around 45% thus this doesnt looks good enough for classification \n"
   ]
  },
  {
   "cell_type": "markdown",
   "metadata": {},
   "source": [
    "## 2.4 Final Model: Compare all the models and write an inference which model is best/optimized."
   ]
  },
  {
   "cell_type": "markdown",
   "metadata": {},
   "source": [
    "### Comparison of the performance metrics from the 3 models"
   ]
  },
  {
   "cell_type": "code",
   "execution_count": 1491,
   "metadata": {},
   "outputs": [
    {
     "data": {
      "text/html": [
       "<div>\n",
       "<style scoped>\n",
       "    .dataframe tbody tr th:only-of-type {\n",
       "        vertical-align: middle;\n",
       "    }\n",
       "\n",
       "    .dataframe tbody tr th {\n",
       "        vertical-align: top;\n",
       "    }\n",
       "\n",
       "    .dataframe thead th {\n",
       "        text-align: right;\n",
       "    }\n",
       "</style>\n",
       "<table border=\"1\" class=\"dataframe\">\n",
       "  <thead>\n",
       "    <tr style=\"text-align: right;\">\n",
       "      <th></th>\n",
       "      <th>Accuracy</th>\n",
       "      <th>AUC</th>\n",
       "      <th>Recall</th>\n",
       "      <th>Precision</th>\n",
       "      <th>F1 Score</th>\n",
       "    </tr>\n",
       "  </thead>\n",
       "  <tbody>\n",
       "    <tr>\n",
       "      <th>CART Train</th>\n",
       "      <td>0.80</td>\n",
       "      <td>0.85</td>\n",
       "      <td>0.61</td>\n",
       "      <td>0.69</td>\n",
       "      <td>0.65</td>\n",
       "    </tr>\n",
       "    <tr>\n",
       "      <th>CART Test</th>\n",
       "      <td>0.77</td>\n",
       "      <td>0.80</td>\n",
       "      <td>0.51</td>\n",
       "      <td>0.72</td>\n",
       "      <td>0.60</td>\n",
       "    </tr>\n",
       "    <tr>\n",
       "      <th>Random Forest Train</th>\n",
       "      <td>0.83</td>\n",
       "      <td>0.90</td>\n",
       "      <td>0.64</td>\n",
       "      <td>0.76</td>\n",
       "      <td>0.69</td>\n",
       "    </tr>\n",
       "    <tr>\n",
       "      <th>Random Forest Test</th>\n",
       "      <td>0.77</td>\n",
       "      <td>0.82</td>\n",
       "      <td>0.49</td>\n",
       "      <td>0.73</td>\n",
       "      <td>0.59</td>\n",
       "    </tr>\n",
       "    <tr>\n",
       "      <th>Neural Network Train</th>\n",
       "      <td>0.82</td>\n",
       "      <td>0.87</td>\n",
       "      <td>0.60</td>\n",
       "      <td>0.74</td>\n",
       "      <td>0.66</td>\n",
       "    </tr>\n",
       "    <tr>\n",
       "      <th>Neural Network Test</th>\n",
       "      <td>0.77</td>\n",
       "      <td>0.81</td>\n",
       "      <td>0.45</td>\n",
       "      <td>0.75</td>\n",
       "      <td>0.57</td>\n",
       "    </tr>\n",
       "  </tbody>\n",
       "</table>\n",
       "</div>"
      ],
      "text/plain": [
       "                      Accuracy   AUC  Recall  Precision  F1 Score\n",
       "CART Train                0.80  0.85    0.61       0.69      0.65\n",
       "CART Test                 0.77  0.80    0.51       0.72      0.60\n",
       "Random Forest Train       0.83  0.90    0.64       0.76      0.69\n",
       "Random Forest Test        0.77  0.82    0.49       0.73      0.59\n",
       "Neural Network Train      0.82  0.87    0.60       0.74      0.66\n",
       "Neural Network Test       0.77  0.81    0.45       0.75      0.57"
      ]
     },
     "execution_count": 1491,
     "metadata": {},
     "output_type": "execute_result"
    }
   ],
   "source": [
    "index=['Accuracy', 'AUC', 'Recall','Precision','F1 Score']\n",
    "data = pd.DataFrame({'CART Train':[cart_train_acc,cart_train_auc,cart_train_recall,cart_train_precision,cart_train_f1],\n",
    "        'CART Test':[cart_test_acc,cart_test_auc,cart_test_recall,cart_test_precision,cart_test_f1],\n",
    "       'Random Forest Train':[rf_train_acc,rf_train_auc,rf_train_recall,rf_train_precision,rf_train_f1],\n",
    "        'Random Forest Test':[rf_test_acc,rf_test_auc,rf_test_recall,rf_test_precision,rf_test_f1],\n",
    "       'Neural Network Train':[nn_train_acc,nn_train_auc,nn_train_recall,nn_train_precision,nn_train_f1],\n",
    "        'Neural Network Test':[nn_test_acc,nn_test_auc,nn_test_recall,nn_test_precision,nn_test_f1]},index=index)\n",
    "round(data.T,2)"
   ]
  },
  {
   "cell_type": "markdown",
   "metadata": {},
   "source": [
    "We can see following points :-\n",
    "\n",
    "    •\tAUC value is highest for model Random Forest for test and train data.\n",
    "    •\tAccuracy is also high for model Random Forest for test and train data.\n",
    "    •\tF1 score of Random forest is high for Train data set but for test data set CART has the highest.\n",
    "    •\tRecall for train data set is higher than 10% as compared to recall for test data set in all the three dataset.\n",
    "        Hence it is a case of overfitting for all three models.\n",
    "    \n"
   ]
  },
  {
   "cell_type": "markdown",
   "metadata": {},
   "source": [
    "### ROC Curve for the 3 models on the Training data"
   ]
  },
  {
   "cell_type": "code",
   "execution_count": 1488,
   "metadata": {},
   "outputs": [
    {
     "data": {
      "image/png": "[encoded data removed]",
      "text/plain": [
       "<Figure size 432x288 with 1 Axes>"
      ]
     },
     "metadata": {
      "needs_background": "light"
     },
     "output_type": "display_data"
    }
   ],
   "source": [
    "plt.plot([0, 1], [0, 1], linestyle='--')\n",
    "plt.plot(cart_train_fpr, cart_train_tpr,color='red',label=\"CART\")\n",
    "plt.plot(rf_train_fpr,rf_train_tpr,color='green',label=\"RF\")\n",
    "plt.plot(nn_train_fpr,nn_train_tpr,color='black',label=\"NN\")\n",
    "plt.xlabel('False Positive Rate')\n",
    "plt.ylabel('True Positive Rate')\n",
    "plt.title('ROC for training data')\n",
    "plt.legend(bbox_to_anchor=(0., 1.02, 1., .102), loc='lower right')\n",
    "plt.show;"
   ]
  },
  {
   "cell_type": "markdown",
   "metadata": {},
   "source": [
    "We can see that area under the curve is more for Random Forest for training data"
   ]
  },
  {
   "cell_type": "markdown",
   "metadata": {},
   "source": [
    "### ROC Curve for the 3 models on the Test data"
   ]
  },
  {
   "cell_type": "code",
   "execution_count": 1489,
   "metadata": {
    "scrolled": true
   },
   "outputs": [
    {
     "data": {
      "image/png": "[encoded data removed]",
      "text/plain": [
       "<Figure size 432x288 with 1 Axes>"
      ]
     },
     "metadata": {
      "needs_background": "light"
     },
     "output_type": "display_data"
    }
   ],
   "source": [
    "plt.plot([0, 1], [0, 1], linestyle='--')\n",
    "plt.plot(cart_test_fpr, cart_test_tpr,color='red',label=\"CART\")\n",
    "plt.plot(rf_test_fpr,rf_test_tpr,color='green',label=\"RF\")\n",
    "plt.plot(nn_test_fpr,nn_test_tpr,color='black',label=\"NN\")\n",
    "plt.xlabel('False Positive Rate')\n",
    "plt.ylabel('True Positive Rate')\n",
    "plt.title('ROC for Test data')\n",
    "plt.legend(bbox_to_anchor=(0., 1.02, 1., .102), loc='lower right')\n",
    "plt.show();"
   ]
  },
  {
   "cell_type": "markdown",
   "metadata": {},
   "source": [
    "We can see that area under the curve is slightly more for Random Forest for test data"
   ]
  },
  {
   "cell_type": "markdown",
   "metadata": {},
   "source": [
    "### Conclusion"
   ]
  },
  {
   "cell_type": "markdown",
   "metadata": {},
   "source": [
    "We are building a model to predict if a tour will be claimed for insurance or not, for practical purposes, we will be more interested in correctly classifying taking insurance claim than not taking insurance claim.\n",
    "\n",
    "Hence recall rate (actual data point identified as True by model) is very important in this scenario. F1 score which is dependent on recall and precision is also an important factor in scenario.\n",
    "\n",
    "In all the three models, train data set is showing better result than the test data set. So its a case of overfitting.\n",
    "\n",
    "AUC is more than 80% for all three models. Hence AUC is not a problem in any model.\n",
    "Accuracy is also showing similar result for all three models in test data set.\n",
    "\n",
    "So we are more interested in Recall and F1 score for comparing three models.\n",
    "\n",
    "Out of three models, all three are showing similar results. However CART is slighlty giving better F1 score and recall rate than other 2 models. Hence its performance is slightly better than the other 2 models.\n",
    "\n",
    "Overall all the 3 models are overfitting the results and recall rate is coming as 45-50% which is very low. So all three models doesnt look good enough to predict the whether tour will be claimed or not. \n",
    "\n",
    "From Cart and Random Forest Model, the variable Agency code is found to be the most useful feature amongst all other features for predicting whether tour will be claimed or not."
   ]
  },
  {
   "cell_type": "markdown",
   "metadata": {},
   "source": [
    "# 2.5 Inference: Based on the whole Analysis, what are the business insights and recommendations"
   ]
  },
  {
   "cell_type": "markdown",
   "metadata": {},
   "source": [
    "We have tried to run the three different models (CART/ Random Forest/ Artificial Neuro Network) for predicting whether tour is getting claimed or not for an insurance firm.\n",
    "\n",
    "Based on the reports and analysis done it was found that all three models were not good enough to predict tour getting claimed (class 1).  The model is useful only in predicting tour not getting claimed (class 0) for which we are getting good results in all three models.\n",
    "\n",
    "Training data set is giving better result as compared to test dataset. There is an imbalance in the Target dataset (30:70 ratio with claimed tour have 30% of observations).\n",
    "\n",
    "So our recommendation to the business is as shown below:-\n",
    "\n",
    "•\tIn order to further improve the predictive model results for finding the tours which will be claimed in future more accurately, more data sample is required.\n",
    "\n",
    "•\tCurrent model is useful to predict when tours are not getting claimed with more than 90% accuracy.\n",
    "\n",
    "\n",
    "•\tDuring analysis, attribute Agency code is found to be the most useful feature amongst all other features for predicting whether tour will be claimed or not.\n",
    "\n",
    "•\tIt was found out during exploratory data analysis and in decision tree that around 60% of the tours booked by agency code ‘C2B’ are getting claimed. This percentage is quite high than normal (30%) claims.\n",
    "\n",
    "\n",
    "•\tSo business can check with the C2B agency and find out the reasons for getting higher claims. If these reasons are genuine then business can increase the premium amount of insurance for the tours booked by C2B agency to cover up their losses.\n",
    "\n",
    "•\tThere were few observations found in which duration of the tour was 0 or negative.  Duration cannot be negative or zero for any tour. So business can check the source of data whether correct information is flowing from that or not.\n",
    "\n",
    "\n",
    "•\tIt was found out during exploratory data analysis that Customised plan contains 38% of the total observations (3000). However we can see that under Asia geography, Bronze and Silver plan have taken more claim from insurance as compared to Customised Plan. So business can check why these plans are getting more claim in Asia geography.\n"
   ]
  },
  {
   "cell_type": "code",
   "execution_count": null,
   "metadata": {},
   "outputs": [],
   "source": []
  }
 ],
 "metadata": {
  "colab": {
   "collapsed_sections": [],
   "name": "Titan_casestudy.ipynb",
   "provenance": []
  },
  "kernelspec": {
   "display_name": "Python 3",
   "language": "python",
   "name": "python3"
  },
  "language_info": {
   "codemirror_mode": {
    "name": "ipython",
    "version": 3
   },
   "file_extension": ".py",
   "mimetype": "text/x-python",
   "name": "python",
   "nbconvert_exporter": "python",
   "pygments_lexer": "ipython3",
   "version": "3.8.3"
  },
  "toc": {
   "base_numbering": 1,
   "nav_menu": {},
   "number_sections": true,
   "sideBar": true,
   "skip_h1_title": false,
   "title_cell": "Table of Contents",
   "title_sidebar": "Contents",
   "toc_cell": false,
   "toc_position": {},
   "toc_section_display": true,
   "toc_window_display": false
  },
  "varInspector": {
   "cols": {
    "lenName": 16,
    "lenType": 16,
    "lenVar": 40
   },
   "kernels_config": {
    "python": {
     "delete_cmd_postfix": "",
     "delete_cmd_prefix": "del ",
     "library": "var_list.py",
     "varRefreshCmd": "print(var_dic_list())"
    },
    "r": {
     "delete_cmd_postfix": ") ",
     "delete_cmd_prefix": "rm(",
     "library": "var_list.r",
     "varRefreshCmd": "cat(var_dic_list()) "
    }
   },
   "types_to_exclude": [
    "module",
    "function",
    "builtin_function_or_method",
    "instance",
    "_Feature"
   ],
   "window_display": false
  }
 },
 "nbformat": 4,
 "nbformat_minor": 1
}
